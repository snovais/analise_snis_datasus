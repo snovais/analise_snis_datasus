{
 "cells": [
  {
   "cell_type": "code",
   "execution_count": 1,
   "metadata": {},
   "outputs": [],
   "source": [
    "import pandas as pd"
   ]
  },
  {
   "cell_type": "code",
   "execution_count": 2,
   "metadata": {},
   "outputs": [],
   "source": [
    "path_snis = '..\\data\\snis_2019.csv'\n",
    "path_datasus = '..\\data\\datasus_mortalidade_sexo_escolaridade_2019.csv'\n",
    "path_template = '..\\data\\catalogoCidades.csv'"
   ]
  },
  {
   "cell_type": "code",
   "execution_count": 3,
   "metadata": {},
   "outputs": [],
   "source": [
    "snis = pd.read_csv(path_snis, encoding = 'UTF-8')\n",
    "datasus = pd.read_csv(path_datasus, encoding = 'UTF-8')\n",
    "template = pd.read_csv(path_template, encoding = 'UTF-8')"
   ]
  },
  {
   "cell_type": "code",
   "execution_count": 4,
   "metadata": {},
   "outputs": [],
   "source": [
    "snis_datasus = pd.merge(snis, datasus, how=\"left\", on=[\"codigo_municipio_sem_digito\"], suffixes=(\"\", \"_\" + str(2019) + '_'))"
   ]
  },
  {
   "cell_type": "code",
   "execution_count": 5,
   "metadata": {},
   "outputs": [
    {
     "data": {
      "text/plain": [
       "(5571, 24)"
      ]
     },
     "execution_count": 5,
     "metadata": {},
     "output_type": "execute_result"
    }
   ],
   "source": [
    "snis_datasus.shape"
   ]
  },
  {
   "cell_type": "code",
   "execution_count": 6,
   "metadata": {},
   "outputs": [],
   "source": [
    "template[\"codigo_municipio_sem_digito\"] = template[\"codigo_municipio_sem_digito\"].astype(str)\n",
    "template.rename(columns = {'nome_municipio': 'Município'}, inplace = True)"
   ]
  },
  {
   "cell_type": "code",
   "execution_count": 7,
   "metadata": {},
   "outputs": [],
   "source": [
    "data_final = pd.merge(template, snis_datasus, how = \"left\", on = ['codigo_municipio_sem_digito'])"
   ]
  },
  {
   "cell_type": "code",
   "execution_count": 8,
   "metadata": {},
   "outputs": [],
   "source": [
    "data_final = data_final.drop(['Município_y', 'Município_2019', 'Município_2019_'], axis = 1)"
   ]
  },
  {
   "cell_type": "code",
   "execution_count": 9,
   "metadata": {},
   "outputs": [],
   "source": [
    "data_final.rename(columns = {'Município_x': 'Município'}, inplace = True)"
   ]
  },
  {
   "cell_type": "code",
   "execution_count": 10,
   "metadata": {},
   "outputs": [
    {
     "data": {
      "text/html": [
       "<div>\n",
       "<style scoped>\n",
       "    .dataframe tbody tr th:only-of-type {\n",
       "        vertical-align: middle;\n",
       "    }\n",
       "\n",
       "    .dataframe tbody tr th {\n",
       "        vertical-align: top;\n",
       "    }\n",
       "\n",
       "    .dataframe thead th {\n",
       "        text-align: right;\n",
       "    }\n",
       "</style>\n",
       "<table border=\"1\" class=\"dataframe\">\n",
       "  <thead>\n",
       "    <tr style=\"text-align: right;\">\n",
       "      <th></th>\n",
       "      <th>codigo_municipio_completo</th>\n",
       "      <th>Município</th>\n",
       "      <th>codigo_municipio_sem_digito</th>\n",
       "      <th>cityId</th>\n",
       "      <th>capital</th>\n",
       "      <th>country</th>\n",
       "      <th>codigo_tse</th>\n",
       "      <th>Estado</th>\n",
       "      <th>AG001 - População total atendida com abastecimento de água</th>\n",
       "      <th>IN006_AE - Tarifa média de esgoto</th>\n",
       "      <th>...</th>\n",
       "      <th>Obitos 1 a 3 anos escolaridade</th>\n",
       "      <th>Obitos 4 a 7 anos escolaridade</th>\n",
       "      <th>Obitos 8 a 11 anos escolaridade</th>\n",
       "      <th>Obitos 12 anos e mais escolaridade</th>\n",
       "      <th>Obitos Escolaridade Ignorada</th>\n",
       "      <th>Obitos Totais (com e sem escolaridade)</th>\n",
       "      <th>Obitos Masc</th>\n",
       "      <th>Obitos Fem</th>\n",
       "      <th>Obitos Sexo Ignorado</th>\n",
       "      <th>Total obitos (Masc e Fem)</th>\n",
       "    </tr>\n",
       "  </thead>\n",
       "  <tbody>\n",
       "    <tr>\n",
       "      <th>0</th>\n",
       "      <td>1100015</td>\n",
       "      <td>Alta Floresta D'Oeste</td>\n",
       "      <td>110001</td>\n",
       "      <td>5be344c0628a9e1c127931b8</td>\n",
       "      <td>0</td>\n",
       "      <td>Brazil</td>\n",
       "      <td>310</td>\n",
       "      <td>RO</td>\n",
       "      <td>2462.0</td>\n",
       "      <td>68.94</td>\n",
       "      <td>...</td>\n",
       "      <td>20</td>\n",
       "      <td>12</td>\n",
       "      <td>6</td>\n",
       "      <td>3</td>\n",
       "      <td>24</td>\n",
       "      <td>84.0</td>\n",
       "      <td>52</td>\n",
       "      <td>31</td>\n",
       "      <td>1</td>\n",
       "      <td>84.0</td>\n",
       "    </tr>\n",
       "  </tbody>\n",
       "</table>\n",
       "<p>1 rows × 27 columns</p>\n",
       "</div>"
      ],
      "text/plain": [
       "   codigo_municipio_completo              Município  \\\n",
       "0                    1100015  Alta Floresta D'Oeste   \n",
       "\n",
       "  codigo_municipio_sem_digito                    cityId  capital country  \\\n",
       "0                      110001  5be344c0628a9e1c127931b8        0  Brazil   \n",
       "\n",
       "   codigo_tse Estado  \\\n",
       "0         310     RO   \n",
       "\n",
       "   AG001 - População total atendida com abastecimento de água  \\\n",
       "0                                             2462.0            \n",
       "\n",
       "   IN006_AE - Tarifa média de esgoto  ...  Obitos 1 a 3 anos escolaridade  \\\n",
       "0                              68.94  ...                              20   \n",
       "\n",
       "   Obitos 4 a 7 anos escolaridade  Obitos 8 a 11 anos escolaridade  \\\n",
       "0                              12                                6   \n",
       "\n",
       "   Obitos 12 anos e mais escolaridade  Obitos Escolaridade Ignorada  \\\n",
       "0                                   3                            24   \n",
       "\n",
       "   Obitos Totais (com e sem escolaridade) Obitos Masc Obitos Fem  \\\n",
       "0                                    84.0          52         31   \n",
       "\n",
       "  Obitos Sexo Ignorado Total obitos (Masc e Fem)  \n",
       "0                    1                      84.0  \n",
       "\n",
       "[1 rows x 27 columns]"
      ]
     },
     "execution_count": 10,
     "metadata": {},
     "output_type": "execute_result"
    }
   ],
   "source": [
    "data_final.head(1)"
   ]
  },
  {
   "cell_type": "code",
   "execution_count": 11,
   "metadata": {},
   "outputs": [],
   "source": [
    "path_save = '..\\data\\snis_datasus_2019.csv'"
   ]
  },
  {
   "cell_type": "code",
   "execution_count": 12,
   "metadata": {},
   "outputs": [],
   "source": [
    "data_final.to_csv(path_save, index = False)"
   ]
  }
 ],
 "metadata": {
  "interpreter": {
   "hash": "1f21c29c32233928f9db6825d76d7c3c2484b8de9012b635ffd0745d1614bc15"
  },
  "kernelspec": {
   "display_name": "Python 3.10.0 64-bit",
   "language": "python",
   "name": "python3"
  },
  "language_info": {
   "codemirror_mode": {
    "name": "ipython",
    "version": 3
   },
   "file_extension": ".py",
   "mimetype": "text/x-python",
   "name": "python",
   "nbconvert_exporter": "python",
   "pygments_lexer": "ipython3",
   "version": "3.10.0"
  },
  "orig_nbformat": 4
 },
 "nbformat": 4,
 "nbformat_minor": 2
}
