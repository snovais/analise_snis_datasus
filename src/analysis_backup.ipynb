{
 "cells": [
  {
   "cell_type": "markdown",
   "metadata": {},
   "source": [
    "# Feature Enginnering e plotagem de gráficos"
   ]
  },
  {
   "cell_type": "code",
   "execution_count": 39,
   "metadata": {},
   "outputs": [],
   "source": [
    "import pandas as pd\n",
    "pd.options.display.float_format = \"{:,.2f}\".format\n",
    "\n",
    "import numpy as np\n",
    "\n",
    "from sklearn.preprocessing import MinMaxScaler\n",
    "\n",
    "import plotly.express as px\n",
    "\n",
    "import seaborn as sns\n",
    "import matplotlib.pyplot as plt\n",
    "sns.set_theme(style=\"ticks\", palette=\"pastel\")"
   ]
  },
  {
   "cell_type": "code",
   "execution_count": 40,
   "metadata": {},
   "outputs": [],
   "source": [
    "path = '..\\data\\snis_datasus_2019.csv'"
   ]
  },
  {
   "cell_type": "code",
   "execution_count": 41,
   "metadata": {},
   "outputs": [],
   "source": [
    "def load_data( path ):\n",
    "    return pd.read_csv(path, decimal = ',')"
   ]
  },
  {
   "cell_type": "code",
   "execution_count": 42,
   "metadata": {},
   "outputs": [
    {
     "data": {
      "text/plain": [
       "(5570, 27)"
      ]
     },
     "execution_count": 42,
     "metadata": {},
     "output_type": "execute_result"
    }
   ],
   "source": [
    "data = load_data(path)\n",
    "data.shape"
   ]
  },
  {
   "cell_type": "code",
   "execution_count": 43,
   "metadata": {},
   "outputs": [
    {
     "data": {
      "text/html": [
       "<div>\n",
       "<style scoped>\n",
       "    .dataframe tbody tr th:only-of-type {\n",
       "        vertical-align: middle;\n",
       "    }\n",
       "\n",
       "    .dataframe tbody tr th {\n",
       "        vertical-align: top;\n",
       "    }\n",
       "\n",
       "    .dataframe thead th {\n",
       "        text-align: right;\n",
       "    }\n",
       "</style>\n",
       "<table border=\"1\" class=\"dataframe\">\n",
       "  <thead>\n",
       "    <tr style=\"text-align: right;\">\n",
       "      <th></th>\n",
       "      <th>codigo_municipio_completo</th>\n",
       "      <th>Município</th>\n",
       "      <th>codigo_municipio_sem_digito</th>\n",
       "      <th>cityId</th>\n",
       "      <th>capital</th>\n",
       "      <th>country</th>\n",
       "      <th>codigo_tse</th>\n",
       "      <th>Estado</th>\n",
       "      <th>AG001 - População total atendida com abastecimento de água</th>\n",
       "      <th>IN006_AE - Tarifa média de esgoto</th>\n",
       "      <th>...</th>\n",
       "      <th>Obitos 1 a 3 anos escolaridade</th>\n",
       "      <th>Obitos 4 a 7 anos escolaridade</th>\n",
       "      <th>Obitos 8 a 11 anos escolaridade</th>\n",
       "      <th>Obitos 12 anos e mais escolaridade</th>\n",
       "      <th>Obitos Escolaridade Ignorada</th>\n",
       "      <th>Obitos Totais (com e sem escolaridade)</th>\n",
       "      <th>Obitos Masc</th>\n",
       "      <th>Obitos Fem</th>\n",
       "      <th>Obitos Sexo Ignorado</th>\n",
       "      <th>Total obitos (Masc e Fem)</th>\n",
       "    </tr>\n",
       "  </thead>\n",
       "  <tbody>\n",
       "    <tr>\n",
       "      <th>0</th>\n",
       "      <td>1100015</td>\n",
       "      <td>Alta Floresta D'Oeste</td>\n",
       "      <td>110001</td>\n",
       "      <td>5be344c0628a9e1c127931b8</td>\n",
       "      <td>0</td>\n",
       "      <td>Brazil</td>\n",
       "      <td>310</td>\n",
       "      <td>RO</td>\n",
       "      <td>2462.0</td>\n",
       "      <td>68.94</td>\n",
       "      <td>...</td>\n",
       "      <td>20</td>\n",
       "      <td>12</td>\n",
       "      <td>6</td>\n",
       "      <td>3</td>\n",
       "      <td>24</td>\n",
       "      <td>84.0</td>\n",
       "      <td>52</td>\n",
       "      <td>31</td>\n",
       "      <td>1</td>\n",
       "      <td>84.0</td>\n",
       "    </tr>\n",
       "    <tr>\n",
       "      <th>1</th>\n",
       "      <td>1100379</td>\n",
       "      <td>Alto Alegre dos Parecis</td>\n",
       "      <td>110037</td>\n",
       "      <td>5be344c0628a9e1c12791c3c</td>\n",
       "      <td>0</td>\n",
       "      <td>Brazil</td>\n",
       "      <td>736</td>\n",
       "      <td>RO</td>\n",
       "      <td>733.0</td>\n",
       "      <td>60.26</td>\n",
       "      <td>...</td>\n",
       "      <td>7</td>\n",
       "      <td>1</td>\n",
       "      <td>1</td>\n",
       "      <td>-</td>\n",
       "      <td>7</td>\n",
       "      <td>26.0</td>\n",
       "      <td>17</td>\n",
       "      <td>9</td>\n",
       "      <td>-</td>\n",
       "      <td>26.0</td>\n",
       "    </tr>\n",
       "  </tbody>\n",
       "</table>\n",
       "<p>2 rows × 27 columns</p>\n",
       "</div>"
      ],
      "text/plain": [
       "   codigo_municipio_completo                Município  \\\n",
       "0                    1100015    Alta Floresta D'Oeste   \n",
       "1                    1100379  Alto Alegre dos Parecis   \n",
       "\n",
       "   codigo_municipio_sem_digito                    cityId  capital country  \\\n",
       "0                       110001  5be344c0628a9e1c127931b8        0  Brazil   \n",
       "1                       110037  5be344c0628a9e1c12791c3c        0  Brazil   \n",
       "\n",
       "   codigo_tse Estado  \\\n",
       "0         310     RO   \n",
       "1         736     RO   \n",
       "\n",
       "  AG001 - População total atendida com abastecimento de água  \\\n",
       "0                                             2462.0           \n",
       "1                                              733.0           \n",
       "\n",
       "  IN006_AE - Tarifa média de esgoto  ... Obitos 1 a 3 anos escolaridade  \\\n",
       "0                             68.94  ...                             20   \n",
       "1                             60.26  ...                              7   \n",
       "\n",
       "  Obitos 4 a 7 anos escolaridade Obitos 8 a 11 anos escolaridade  \\\n",
       "0                             12                               6   \n",
       "1                              1                               1   \n",
       "\n",
       "  Obitos 12 anos e mais escolaridade Obitos Escolaridade Ignorada  \\\n",
       "0                                  3                           24   \n",
       "1                                  -                            7   \n",
       "\n",
       "   Obitos Totais (com e sem escolaridade) Obitos Masc Obitos Fem  \\\n",
       "0                                    84.0          52         31   \n",
       "1                                    26.0          17          9   \n",
       "\n",
       "  Obitos Sexo Ignorado Total obitos (Masc e Fem)  \n",
       "0                    1                      84.0  \n",
       "1                    -                      26.0  \n",
       "\n",
       "[2 rows x 27 columns]"
      ]
     },
     "execution_count": 43,
     "metadata": {},
     "output_type": "execute_result"
    }
   ],
   "source": [
    "data.head(2)"
   ]
  },
  {
   "cell_type": "markdown",
   "metadata": {},
   "source": [
    "#"
   ]
  },
  {
   "cell_type": "markdown",
   "metadata": {},
   "source": [
    "# Correção dos tipos de dados"
   ]
  },
  {
   "cell_type": "code",
   "execution_count": 44,
   "metadata": {},
   "outputs": [],
   "source": [
    "data['POP_TOT - População total do município (Fonte: IBGE):'] = data['POP_TOT - População total do município (Fonte: IBGE):'].astype(int)\n",
    "data['AG001 - População total atendida com abastecimento de água'] = data['AG001 - População total atendida com abastecimento de água'].astype(float)\n",
    "data['IN006_AE - Tarifa média de esgoto'] = data['IN006_AE - Tarifa média de esgoto'].astype(float)\n",
    "data['IN022_AE - Consumo médio percapita de água'] = data['IN022_AE - Consumo médio percapita de água'].astype(float)\n",
    "data['IN024_AE - Índice de atendimento urbano de esgoto referido aos municípios atendidos com água'] = data['IN024_AE - Índice de atendimento urbano de esgoto referido aos municípios atendidos com água'].astype(float)\n",
    "data['IN051_AE - Índice de perdas por ligação'] = data['IN051_AE - Índice de perdas por ligação'].astype(float)\n",
    "data['IN052_AE - Índice de consumo de água'] = data['IN052_AE - Índice de consumo de água'].astype(float)\n",
    "data['AG026 - População urbana atendida com abastecimento de água'] = data['AG026 - População urbana atendida com abastecimento de água'].astype(float)"
   ]
  },
  {
   "cell_type": "markdown",
   "metadata": {},
   "source": [
    "#"
   ]
  },
  {
   "cell_type": "markdown",
   "metadata": {},
   "source": [
    "# Verificar se existem cidades repetidas"
   ]
  },
  {
   "cell_type": "code",
   "execution_count": 45,
   "metadata": {},
   "outputs": [
    {
     "data": {
      "text/plain": [
       "False"
      ]
     },
     "execution_count": 45,
     "metadata": {},
     "output_type": "execute_result"
    }
   ],
   "source": [
    "len(data['codigo_municipio_sem_digito'].unique()) != len(data)"
   ]
  },
  {
   "cell_type": "markdown",
   "metadata": {},
   "source": [
    "#"
   ]
  },
  {
   "cell_type": "markdown",
   "metadata": {},
   "source": [
    "# Verificar a porcentagem de valores nulos"
   ]
  },
  {
   "cell_type": "code",
   "execution_count": 46,
   "metadata": {},
   "outputs": [
    {
     "data": {
      "text/plain": [
       "codigo_municipio_completo                                                                      0.00\n",
       "Município                                                                                      0.00\n",
       "codigo_municipio_sem_digito                                                                    0.00\n",
       "cityId                                                                                         0.00\n",
       "capital                                                                                        0.00\n",
       "country                                                                                        0.00\n",
       "codigo_tse                                                                                     0.00\n",
       "Estado                                                                                         0.00\n",
       "AG001 - População total atendida com abastecimento de água                                     7.06\n",
       "IN006_AE - Tarifa média de esgoto                                                              7.07\n",
       "IN022_AE - Consumo médio percapita de água                                                     7.06\n",
       "IN024_AE - Índice de atendimento urbano de esgoto referido aos municípios atendidos com água   7.45\n",
       "IN051_AE - Índice de perdas por ligação                                                        7.47\n",
       "IN052_AE - Índice de consumo de água                                                           7.45\n",
       "AG026 - População urbana atendida com abastecimento de água                                    7.06\n",
       "POP_TOT - População total do município (Fonte: IBGE):                                          0.00\n",
       "Obitos Nenhuma escolaridade                                                                    0.27\n",
       "Obitos 1 a 3 anos escolaridade                                                                 0.27\n",
       "Obitos 4 a 7 anos escolaridade                                                                 0.27\n",
       "Obitos 8 a 11 anos escolaridade                                                                0.27\n",
       "Obitos 12 anos e mais escolaridade                                                             0.27\n",
       "Obitos Escolaridade Ignorada                                                                   0.27\n",
       "Obitos Totais (com e sem escolaridade)                                                         0.27\n",
       "Obitos Masc                                                                                    0.27\n",
       "Obitos Fem                                                                                     0.27\n",
       "Obitos Sexo Ignorado                                                                           0.27\n",
       "Total obitos (Masc e Fem)                                                                      0.27\n",
       "dtype: float64"
      ]
     },
     "execution_count": 46,
     "metadata": {},
     "output_type": "execute_result"
    }
   ],
   "source": [
    "((data.isnull().sum())/data.shape[0])*100"
   ]
  },
  {
   "cell_type": "markdown",
   "metadata": {},
   "source": [
    "#"
   ]
  },
  {
   "cell_type": "code",
   "execution_count": 47,
   "metadata": {},
   "outputs": [],
   "source": [
    "data.dropna(inplace=True)"
   ]
  },
  {
   "cell_type": "markdown",
   "metadata": {},
   "source": [
    "#"
   ]
  },
  {
   "cell_type": "markdown",
   "metadata": {},
   "source": [
    "Função para mostrar valores nos gráficos de barra"
   ]
  },
  {
   "cell_type": "code",
   "execution_count": 48,
   "metadata": {},
   "outputs": [],
   "source": [
    "def show_values_on_bars( axs, h_v = \"v\", space = 0.4 ):\n",
    "    def _show_on_single_plot(ax):\n",
    "        if h_v == \"v\":\n",
    "            for p in ax.patches:\n",
    "                _x = p.get_x() + p.get_width() / 2\n",
    "                _y = p.get_y() + p.get_height()\n",
    "                value = int(p.get_height())\n",
    "                ax.text(_x, _y, value, ha=\"center\") \n",
    "        elif h_v == \"h\":\n",
    "            for p in ax.patches:\n",
    "                _x = p.get_x() + p.get_width() + float(space)\n",
    "                _y = p.get_y() + p.get_height()\n",
    "                value = int(p.get_width())\n",
    "                ax.text(_x, _y, value, ha=\"left\")\n",
    "\n",
    "    if isinstance(axs, np.ndarray):\n",
    "        for idx, ax in np.ndenumerate(axs):\n",
    "            _show_on_single_plot(ax)\n",
    "    else:\n",
    "        _show_on_single_plot(axs)"
   ]
  },
  {
   "cell_type": "markdown",
   "metadata": {},
   "source": [
    "#"
   ]
  },
  {
   "cell_type": "markdown",
   "metadata": {},
   "source": [
    "Construção da coluna com dados de porcentagem da população atendida com abastecimento de água em cada município do Brasil"
   ]
  },
  {
   "cell_type": "code",
   "execution_count": 49,
   "metadata": {},
   "outputs": [],
   "source": [
    "data['População_total_atendida_com_abastecimento_água(%)'] = data['AG001 - População total atendida com abastecimento de água']/data['POP_TOT - População total do município (Fonte: IBGE):']\n",
    "data['População_total_atendida_com_abastecimento_água(%)'] = data['População_total_atendida_com_abastecimento_água(%)']*100"
   ]
  },
  {
   "cell_type": "markdown",
   "metadata": {},
   "source": [
    "#"
   ]
  },
  {
   "cell_type": "markdown",
   "metadata": {},
   "source": [
    "# Quantas cidades forneceram dados?"
   ]
  },
  {
   "cell_type": "code",
   "execution_count": 50,
   "metadata": {},
   "outputs": [
    {
     "data": {
      "text/plain": [
       "5140"
      ]
     },
     "execution_count": 50,
     "metadata": {},
     "output_type": "execute_result"
    }
   ],
   "source": [
    "len(data['AG001 - População total atendida com abastecimento de água'])"
   ]
  },
  {
   "cell_type": "markdown",
   "metadata": {},
   "source": [
    "#"
   ]
  },
  {
   "cell_type": "code",
   "execution_count": 51,
   "metadata": {},
   "outputs": [],
   "source": [
    "ab = data.loc[:, ['Município', 'Estado', 'População_total_atendida_com_abastecimento_água(%)', 'AG001 - População total atendida com abastecimento de água', 'POP_TOT - População total do município (Fonte: IBGE):']].sort_values(by = 'População_total_atendida_com_abastecimento_água(%)').reset_index(drop=True)\n",
    "\n",
    "# ordena de forma decrescente\n",
    "ab = ab[::-1]"
   ]
  },
  {
   "cell_type": "markdown",
   "metadata": {},
   "source": [
    "#"
   ]
  },
  {
   "cell_type": "markdown",
   "metadata": {},
   "source": [
    "# Quais são as 10 cidades com maior porcentagem de população atendida com abastecimento de água?"
   ]
  },
  {
   "cell_type": "code",
   "execution_count": 52,
   "metadata": {},
   "outputs": [
    {
     "data": {
      "text/html": [
       "<div>\n",
       "<style scoped>\n",
       "    .dataframe tbody tr th:only-of-type {\n",
       "        vertical-align: middle;\n",
       "    }\n",
       "\n",
       "    .dataframe tbody tr th {\n",
       "        vertical-align: top;\n",
       "    }\n",
       "\n",
       "    .dataframe thead th {\n",
       "        text-align: right;\n",
       "    }\n",
       "</style>\n",
       "<table border=\"1\" class=\"dataframe\">\n",
       "  <thead>\n",
       "    <tr style=\"text-align: right;\">\n",
       "      <th></th>\n",
       "      <th>Município</th>\n",
       "      <th>Estado</th>\n",
       "      <th>População_total_atendida_com_abastecimento_água(%)</th>\n",
       "      <th>AG001 - População total atendida com abastecimento de água</th>\n",
       "      <th>POP_TOT - População total do município (Fonte: IBGE):</th>\n",
       "    </tr>\n",
       "  </thead>\n",
       "  <tbody>\n",
       "    <tr>\n",
       "      <th>0</th>\n",
       "      <td>Geminiano</td>\n",
       "      <td>PI</td>\n",
       "      <td>378.00</td>\n",
       "      <td>4,570.00</td>\n",
       "      <td>1209</td>\n",
       "    </tr>\n",
       "    <tr>\n",
       "      <th>1</th>\n",
       "      <td>Floriano Peixoto</td>\n",
       "      <td>RS</td>\n",
       "      <td>291.41</td>\n",
       "      <td>746.00</td>\n",
       "      <td>256</td>\n",
       "    </tr>\n",
       "    <tr>\n",
       "      <th>2</th>\n",
       "      <td>Nova Candelária</td>\n",
       "      <td>RS</td>\n",
       "      <td>288.78</td>\n",
       "      <td>2,007.00</td>\n",
       "      <td>695</td>\n",
       "    </tr>\n",
       "    <tr>\n",
       "      <th>3</th>\n",
       "      <td>Mato Queimado</td>\n",
       "      <td>RS</td>\n",
       "      <td>273.35</td>\n",
       "      <td>1,200.00</td>\n",
       "      <td>439</td>\n",
       "    </tr>\n",
       "    <tr>\n",
       "      <th>4</th>\n",
       "      <td>Boa Vista do Sul</td>\n",
       "      <td>RS</td>\n",
       "      <td>266.84</td>\n",
       "      <td>1,046.00</td>\n",
       "      <td>392</td>\n",
       "    </tr>\n",
       "    <tr>\n",
       "      <th>5</th>\n",
       "      <td>Porto Vera Cruz</td>\n",
       "      <td>RS</td>\n",
       "      <td>258.20</td>\n",
       "      <td>834.00</td>\n",
       "      <td>323</td>\n",
       "    </tr>\n",
       "    <tr>\n",
       "      <th>6</th>\n",
       "      <td>Três Forquilhas</td>\n",
       "      <td>RS</td>\n",
       "      <td>244.38</td>\n",
       "      <td>870.00</td>\n",
       "      <td>356</td>\n",
       "    </tr>\n",
       "    <tr>\n",
       "      <th>7</th>\n",
       "      <td>João Costa</td>\n",
       "      <td>PI</td>\n",
       "      <td>240.17</td>\n",
       "      <td>1,710.00</td>\n",
       "      <td>712</td>\n",
       "    </tr>\n",
       "    <tr>\n",
       "      <th>8</th>\n",
       "      <td>Lajeado do Bugre</td>\n",
       "      <td>RS</td>\n",
       "      <td>234.89</td>\n",
       "      <td>1,710.00</td>\n",
       "      <td>728</td>\n",
       "    </tr>\n",
       "    <tr>\n",
       "      <th>9</th>\n",
       "      <td>Caraá</td>\n",
       "      <td>RS</td>\n",
       "      <td>225.56</td>\n",
       "      <td>2,700.00</td>\n",
       "      <td>1197</td>\n",
       "    </tr>\n",
       "  </tbody>\n",
       "</table>\n",
       "</div>"
      ],
      "text/plain": [
       "          Município Estado  \\\n",
       "0         Geminiano     PI   \n",
       "1  Floriano Peixoto     RS   \n",
       "2   Nova Candelária     RS   \n",
       "3     Mato Queimado     RS   \n",
       "4  Boa Vista do Sul     RS   \n",
       "5   Porto Vera Cruz     RS   \n",
       "6   Três Forquilhas     RS   \n",
       "7        João Costa     PI   \n",
       "8  Lajeado do Bugre     RS   \n",
       "9             Caraá     RS   \n",
       "\n",
       "   População_total_atendida_com_abastecimento_água(%)  \\\n",
       "0                                             378.00    \n",
       "1                                             291.41    \n",
       "2                                             288.78    \n",
       "3                                             273.35    \n",
       "4                                             266.84    \n",
       "5                                             258.20    \n",
       "6                                             244.38    \n",
       "7                                             240.17    \n",
       "8                                             234.89    \n",
       "9                                             225.56    \n",
       "\n",
       "   AG001 - População total atendida com abastecimento de água  \\\n",
       "0                                           4,570.00            \n",
       "1                                             746.00            \n",
       "2                                           2,007.00            \n",
       "3                                           1,200.00            \n",
       "4                                           1,046.00            \n",
       "5                                             834.00            \n",
       "6                                             870.00            \n",
       "7                                           1,710.00            \n",
       "8                                           1,710.00            \n",
       "9                                           2,700.00            \n",
       "\n",
       "   POP_TOT - População total do município (Fonte: IBGE):  \n",
       "0                                               1209      \n",
       "1                                                256      \n",
       "2                                                695      \n",
       "3                                                439      \n",
       "4                                                392      \n",
       "5                                                323      \n",
       "6                                                356      \n",
       "7                                                712      \n",
       "8                                                728      \n",
       "9                                               1197      "
      ]
     },
     "execution_count": 52,
     "metadata": {},
     "output_type": "execute_result"
    }
   ],
   "source": [
    "ab.head(10).reset_index(drop = True)"
   ]
  },
  {
   "cell_type": "markdown",
   "metadata": {},
   "source": [
    "#"
   ]
  },
  {
   "cell_type": "markdown",
   "metadata": {},
   "source": [
    "# Quais são as 10 cidades com menor porcentagem de população atendida com abastecimento de água?"
   ]
  },
  {
   "cell_type": "code",
   "execution_count": 53,
   "metadata": {},
   "outputs": [
    {
     "data": {
      "text/html": [
       "<div>\n",
       "<style scoped>\n",
       "    .dataframe tbody tr th:only-of-type {\n",
       "        vertical-align: middle;\n",
       "    }\n",
       "\n",
       "    .dataframe tbody tr th {\n",
       "        vertical-align: top;\n",
       "    }\n",
       "\n",
       "    .dataframe thead th {\n",
       "        text-align: right;\n",
       "    }\n",
       "</style>\n",
       "<table border=\"1\" class=\"dataframe\">\n",
       "  <thead>\n",
       "    <tr style=\"text-align: right;\">\n",
       "      <th></th>\n",
       "      <th>Município</th>\n",
       "      <th>Estado</th>\n",
       "      <th>População_total_atendida_com_abastecimento_água(%)</th>\n",
       "      <th>AG001 - População total atendida com abastecimento de água</th>\n",
       "      <th>POP_TOT - População total do município (Fonte: IBGE):</th>\n",
       "    </tr>\n",
       "  </thead>\n",
       "  <tbody>\n",
       "    <tr>\n",
       "      <th>0</th>\n",
       "      <td>Buriticupu</td>\n",
       "      <td>MA</td>\n",
       "      <td>2.07</td>\n",
       "      <td>820.00</td>\n",
       "      <td>39696</td>\n",
       "    </tr>\n",
       "    <tr>\n",
       "      <th>1</th>\n",
       "      <td>Arantina</td>\n",
       "      <td>MG</td>\n",
       "      <td>1.92</td>\n",
       "      <td>50.00</td>\n",
       "      <td>2607</td>\n",
       "    </tr>\n",
       "    <tr>\n",
       "      <th>2</th>\n",
       "      <td>Pedra Branca do Amapari</td>\n",
       "      <td>AP</td>\n",
       "      <td>1.63</td>\n",
       "      <td>149.00</td>\n",
       "      <td>9135</td>\n",
       "    </tr>\n",
       "    <tr>\n",
       "      <th>3</th>\n",
       "      <td>Nova Monte Verde</td>\n",
       "      <td>MT</td>\n",
       "      <td>1.33</td>\n",
       "      <td>60.00</td>\n",
       "      <td>4506</td>\n",
       "    </tr>\n",
       "    <tr>\n",
       "      <th>4</th>\n",
       "      <td>Porto Grande</td>\n",
       "      <td>AP</td>\n",
       "      <td>1.33</td>\n",
       "      <td>188.00</td>\n",
       "      <td>14128</td>\n",
       "    </tr>\n",
       "    <tr>\n",
       "      <th>5</th>\n",
       "      <td>Extremoz</td>\n",
       "      <td>RN</td>\n",
       "      <td>1.23</td>\n",
       "      <td>226.00</td>\n",
       "      <td>18345</td>\n",
       "    </tr>\n",
       "    <tr>\n",
       "      <th>6</th>\n",
       "      <td>Pão de Açúcar</td>\n",
       "      <td>AL</td>\n",
       "      <td>1.04</td>\n",
       "      <td>115.00</td>\n",
       "      <td>11035</td>\n",
       "    </tr>\n",
       "    <tr>\n",
       "      <th>7</th>\n",
       "      <td>Santa Cruz da Baixa Verde</td>\n",
       "      <td>PE</td>\n",
       "      <td>1.03</td>\n",
       "      <td>58.00</td>\n",
       "      <td>5646</td>\n",
       "    </tr>\n",
       "    <tr>\n",
       "      <th>8</th>\n",
       "      <td>São Félix do Xingu</td>\n",
       "      <td>PA</td>\n",
       "      <td>1.00</td>\n",
       "      <td>636.00</td>\n",
       "      <td>63457</td>\n",
       "    </tr>\n",
       "    <tr>\n",
       "      <th>9</th>\n",
       "      <td>Portel</td>\n",
       "      <td>PA</td>\n",
       "      <td>0.92</td>\n",
       "      <td>273.00</td>\n",
       "      <td>29554</td>\n",
       "    </tr>\n",
       "  </tbody>\n",
       "</table>\n",
       "</div>"
      ],
      "text/plain": [
       "                   Município Estado  \\\n",
       "0                 Buriticupu     MA   \n",
       "1                   Arantina     MG   \n",
       "2    Pedra Branca do Amapari     AP   \n",
       "3           Nova Monte Verde     MT   \n",
       "4               Porto Grande     AP   \n",
       "5                   Extremoz     RN   \n",
       "6              Pão de Açúcar     AL   \n",
       "7  Santa Cruz da Baixa Verde     PE   \n",
       "8         São Félix do Xingu     PA   \n",
       "9                     Portel     PA   \n",
       "\n",
       "   População_total_atendida_com_abastecimento_água(%)  \\\n",
       "0                                               2.07    \n",
       "1                                               1.92    \n",
       "2                                               1.63    \n",
       "3                                               1.33    \n",
       "4                                               1.33    \n",
       "5                                               1.23    \n",
       "6                                               1.04    \n",
       "7                                               1.03    \n",
       "8                                               1.00    \n",
       "9                                               0.92    \n",
       "\n",
       "   AG001 - População total atendida com abastecimento de água  \\\n",
       "0                                             820.00            \n",
       "1                                              50.00            \n",
       "2                                             149.00            \n",
       "3                                              60.00            \n",
       "4                                             188.00            \n",
       "5                                             226.00            \n",
       "6                                             115.00            \n",
       "7                                              58.00            \n",
       "8                                             636.00            \n",
       "9                                             273.00            \n",
       "\n",
       "   POP_TOT - População total do município (Fonte: IBGE):  \n",
       "0                                              39696      \n",
       "1                                               2607      \n",
       "2                                               9135      \n",
       "3                                               4506      \n",
       "4                                              14128      \n",
       "5                                              18345      \n",
       "6                                              11035      \n",
       "7                                               5646      \n",
       "8                                              63457      \n",
       "9                                              29554      "
      ]
     },
     "execution_count": 53,
     "metadata": {},
     "output_type": "execute_result"
    }
   ],
   "source": [
    "ab.tail(10).reset_index(drop = True)"
   ]
  },
  {
   "cell_type": "markdown",
   "metadata": {},
   "source": [
    "#"
   ]
  },
  {
   "cell_type": "markdown",
   "metadata": {},
   "source": [
    "# Quantas cidades estão entre 95 e 100% da população com abastecimento de água?"
   ]
  },
  {
   "cell_type": "code",
   "execution_count": 54,
   "metadata": {},
   "outputs": [
    {
     "data": {
      "text/plain": [
       "16"
      ]
     },
     "execution_count": 54,
     "metadata": {},
     "output_type": "execute_result"
    }
   ],
   "source": [
    "len(ab[(ab['População_total_atendida_com_abastecimento_água(%)'] > 95.0) & (ab['População_total_atendida_com_abastecimento_água(%)'] < 100.0)])"
   ]
  },
  {
   "cell_type": "markdown",
   "metadata": {},
   "source": [
    "#"
   ]
  },
  {
   "cell_type": "markdown",
   "metadata": {},
   "source": [
    "# Quais cidades estão entre 95 e 100% da população com abastecimento de água?"
   ]
  },
  {
   "cell_type": "code",
   "execution_count": 55,
   "metadata": {},
   "outputs": [
    {
     "data": {
      "text/html": [
       "<div>\n",
       "<style scoped>\n",
       "    .dataframe tbody tr th:only-of-type {\n",
       "        vertical-align: middle;\n",
       "    }\n",
       "\n",
       "    .dataframe tbody tr th {\n",
       "        vertical-align: top;\n",
       "    }\n",
       "\n",
       "    .dataframe thead th {\n",
       "        text-align: right;\n",
       "    }\n",
       "</style>\n",
       "<table border=\"1\" class=\"dataframe\">\n",
       "  <thead>\n",
       "    <tr style=\"text-align: right;\">\n",
       "      <th></th>\n",
       "      <th>Município</th>\n",
       "      <th>Estado</th>\n",
       "      <th>População_total_atendida_com_abastecimento_água(%)</th>\n",
       "      <th>AG001 - População total atendida com abastecimento de água</th>\n",
       "      <th>POP_TOT - População total do município (Fonte: IBGE):</th>\n",
       "    </tr>\n",
       "  </thead>\n",
       "  <tbody>\n",
       "    <tr>\n",
       "      <th>0</th>\n",
       "      <td>Icapuí</td>\n",
       "      <td>CE</td>\n",
       "      <td>99.97</td>\n",
       "      <td>6,270.00</td>\n",
       "      <td>6272</td>\n",
       "    </tr>\n",
       "    <tr>\n",
       "      <th>1</th>\n",
       "      <td>Esperança Nova</td>\n",
       "      <td>PR</td>\n",
       "      <td>99.85</td>\n",
       "      <td>647.00</td>\n",
       "      <td>648</td>\n",
       "    </tr>\n",
       "    <tr>\n",
       "      <th>2</th>\n",
       "      <td>Xangri-lá</td>\n",
       "      <td>RS</td>\n",
       "      <td>99.25</td>\n",
       "      <td>16,212.00</td>\n",
       "      <td>16335</td>\n",
       "    </tr>\n",
       "    <tr>\n",
       "      <th>3</th>\n",
       "      <td>Sinimbu</td>\n",
       "      <td>RS</td>\n",
       "      <td>99.17</td>\n",
       "      <td>1,440.00</td>\n",
       "      <td>1452</td>\n",
       "    </tr>\n",
       "    <tr>\n",
       "      <th>4</th>\n",
       "      <td>São Pedro das Missões</td>\n",
       "      <td>RS</td>\n",
       "      <td>98.77</td>\n",
       "      <td>560.00</td>\n",
       "      <td>567</td>\n",
       "    </tr>\n",
       "    <tr>\n",
       "      <th>5</th>\n",
       "      <td>São Pedro do Butiá</td>\n",
       "      <td>RS</td>\n",
       "      <td>98.23</td>\n",
       "      <td>1,218.00</td>\n",
       "      <td>1240</td>\n",
       "    </tr>\n",
       "    <tr>\n",
       "      <th>6</th>\n",
       "      <td>Pontal do Paraná</td>\n",
       "      <td>PR</td>\n",
       "      <td>98.21</td>\n",
       "      <td>26,570.00</td>\n",
       "      <td>27053</td>\n",
       "    </tr>\n",
       "    <tr>\n",
       "      <th>7</th>\n",
       "      <td>Verdejante</td>\n",
       "      <td>PE</td>\n",
       "      <td>98.00</td>\n",
       "      <td>2,751.00</td>\n",
       "      <td>2807</td>\n",
       "    </tr>\n",
       "    <tr>\n",
       "      <th>8</th>\n",
       "      <td>Tocos do Moji</td>\n",
       "      <td>MG</td>\n",
       "      <td>97.35</td>\n",
       "      <td>1,029.00</td>\n",
       "      <td>1057</td>\n",
       "    </tr>\n",
       "    <tr>\n",
       "      <th>9</th>\n",
       "      <td>Paranaiguara</td>\n",
       "      <td>GO</td>\n",
       "      <td>97.25</td>\n",
       "      <td>9,015.00</td>\n",
       "      <td>9270</td>\n",
       "    </tr>\n",
       "    <tr>\n",
       "      <th>10</th>\n",
       "      <td>Quijingue</td>\n",
       "      <td>BA</td>\n",
       "      <td>97.10</td>\n",
       "      <td>6,272.00</td>\n",
       "      <td>6459</td>\n",
       "    </tr>\n",
       "    <tr>\n",
       "      <th>11</th>\n",
       "      <td>Bequimão</td>\n",
       "      <td>MA</td>\n",
       "      <td>96.96</td>\n",
       "      <td>6,700.00</td>\n",
       "      <td>6910</td>\n",
       "    </tr>\n",
       "    <tr>\n",
       "      <th>12</th>\n",
       "      <td>Poço das Antas</td>\n",
       "      <td>RS</td>\n",
       "      <td>96.32</td>\n",
       "      <td>863.00</td>\n",
       "      <td>896</td>\n",
       "    </tr>\n",
       "    <tr>\n",
       "      <th>13</th>\n",
       "      <td>Alegria</td>\n",
       "      <td>RS</td>\n",
       "      <td>96.01</td>\n",
       "      <td>1,226.00</td>\n",
       "      <td>1277</td>\n",
       "    </tr>\n",
       "    <tr>\n",
       "      <th>14</th>\n",
       "      <td>Novorizonte</td>\n",
       "      <td>MG</td>\n",
       "      <td>95.47</td>\n",
       "      <td>1,750.00</td>\n",
       "      <td>1833</td>\n",
       "    </tr>\n",
       "    <tr>\n",
       "      <th>15</th>\n",
       "      <td>Gonçalves</td>\n",
       "      <td>MG</td>\n",
       "      <td>95.08</td>\n",
       "      <td>1,141.00</td>\n",
       "      <td>1200</td>\n",
       "    </tr>\n",
       "  </tbody>\n",
       "</table>\n",
       "</div>"
      ],
      "text/plain": [
       "                Município Estado  \\\n",
       "0                  Icapuí     CE   \n",
       "1          Esperança Nova     PR   \n",
       "2               Xangri-lá     RS   \n",
       "3                 Sinimbu     RS   \n",
       "4   São Pedro das Missões     RS   \n",
       "5      São Pedro do Butiá     RS   \n",
       "6        Pontal do Paraná     PR   \n",
       "7              Verdejante     PE   \n",
       "8           Tocos do Moji     MG   \n",
       "9            Paranaiguara     GO   \n",
       "10              Quijingue     BA   \n",
       "11               Bequimão     MA   \n",
       "12         Poço das Antas     RS   \n",
       "13                Alegria     RS   \n",
       "14            Novorizonte     MG   \n",
       "15              Gonçalves     MG   \n",
       "\n",
       "    População_total_atendida_com_abastecimento_água(%)  \\\n",
       "0                                               99.97    \n",
       "1                                               99.85    \n",
       "2                                               99.25    \n",
       "3                                               99.17    \n",
       "4                                               98.77    \n",
       "5                                               98.23    \n",
       "6                                               98.21    \n",
       "7                                               98.00    \n",
       "8                                               97.35    \n",
       "9                                               97.25    \n",
       "10                                              97.10    \n",
       "11                                              96.96    \n",
       "12                                              96.32    \n",
       "13                                              96.01    \n",
       "14                                              95.47    \n",
       "15                                              95.08    \n",
       "\n",
       "    AG001 - População total atendida com abastecimento de água  \\\n",
       "0                                            6,270.00            \n",
       "1                                              647.00            \n",
       "2                                           16,212.00            \n",
       "3                                            1,440.00            \n",
       "4                                              560.00            \n",
       "5                                            1,218.00            \n",
       "6                                           26,570.00            \n",
       "7                                            2,751.00            \n",
       "8                                            1,029.00            \n",
       "9                                            9,015.00            \n",
       "10                                           6,272.00            \n",
       "11                                           6,700.00            \n",
       "12                                             863.00            \n",
       "13                                           1,226.00            \n",
       "14                                           1,750.00            \n",
       "15                                           1,141.00            \n",
       "\n",
       "    POP_TOT - População total do município (Fonte: IBGE):  \n",
       "0                                                6272      \n",
       "1                                                 648      \n",
       "2                                               16335      \n",
       "3                                                1452      \n",
       "4                                                 567      \n",
       "5                                                1240      \n",
       "6                                               27053      \n",
       "7                                                2807      \n",
       "8                                                1057      \n",
       "9                                                9270      \n",
       "10                                               6459      \n",
       "11                                               6910      \n",
       "12                                                896      \n",
       "13                                               1277      \n",
       "14                                               1833      \n",
       "15                                               1200      "
      ]
     },
     "execution_count": 55,
     "metadata": {},
     "output_type": "execute_result"
    }
   ],
   "source": [
    "ab[(ab['População_total_atendida_com_abastecimento_água(%)'] > 95.0) & (ab['População_total_atendida_com_abastecimento_água(%)'] < 100.0)].reset_index(drop = True)"
   ]
  },
  {
   "cell_type": "markdown",
   "metadata": {},
   "source": [
    "#"
   ]
  },
  {
   "cell_type": "markdown",
   "metadata": {},
   "source": [
    "# Qual é a distribuição do valor médio da tarifa de esgoto?"
   ]
  },
  {
   "cell_type": "code",
   "execution_count": 56,
   "metadata": {},
   "outputs": [
    {
     "data": {
      "text/plain": [
       "Text(0.5, 1.0, 'Tarifa média de esgoto em todos os municípios (R$/m³)')"
      ]
     },
     "execution_count": 56,
     "metadata": {},
     "output_type": "execute_result"
    },
    {
     "data": {
      "image/png": "[encoded data removed]",
      "text/plain": [
       "<Figure size 864x720 with 1 Axes>"
      ]
     },
     "metadata": {},
     "output_type": "display_data"
    }
   ],
   "source": [
    "fig, ax = plt.subplots( figsize=(12, 10))\n",
    "\n",
    "sns.histplot(x = 'IN006_AE - Tarifa média de esgoto', data = data.loc[:, ['IN006_AE - Tarifa média de esgoto']], color = \"darkblue\", kde = True)\n",
    "\n",
    "ax.set_title('Tarifa média de esgoto em todos os municípios (R$/m³)', fontdict = {\"size\": 15})"
   ]
  },
  {
   "cell_type": "code",
   "execution_count": 57,
   "metadata": {},
   "outputs": [
    {
     "data": {
      "text/plain": [
       "IN006_AE - Tarifa média de esgoto   49.75\n",
       "dtype: float64"
      ]
     },
     "execution_count": 57,
     "metadata": {},
     "output_type": "execute_result"
    }
   ],
   "source": [
    "data.loc[:, ['IN006_AE - Tarifa média de esgoto']].mean() # IN006_AE - Tarifa média de esgoto 49.75"
   ]
  },
  {
   "cell_type": "markdown",
   "metadata": {},
   "source": [
    "#"
   ]
  },
  {
   "cell_type": "markdown",
   "metadata": {},
   "source": [
    "# Índice de atendimento urbano de esgoto referido aos municípios atendidos com água"
   ]
  },
  {
   "cell_type": "code",
   "execution_count": 58,
   "metadata": {},
   "outputs": [
    {
     "data": {
      "text/plain": [
       "Text(0.5, 1.0, 'Índice de atendimento urbano de esgoto referido aos municípios atendidos com água (%)')"
      ]
     },
     "execution_count": 58,
     "metadata": {},
     "output_type": "execute_result"
    },
    {
     "data": {
      "image/png": "[encoded data removed]",
      "text/plain": [
       "<Figure size 720x576 with 1 Axes>"
      ]
     },
     "metadata": {},
     "output_type": "display_data"
    }
   ],
   "source": [
    "fig, ax = plt.subplots(figsize=(10, 8))\n",
    "\n",
    "sns.histplot(x = 'IN024_AE - Índice de atendimento urbano de esgoto referido aos municípios atendidos com água', kde = True, data = data.loc[:, ['IN024_AE - Índice de atendimento urbano de esgoto referido aos municípios atendidos com água']], color = 'red')\n",
    "\n",
    "ax.set_title('Índice de atendimento urbano de esgoto referido aos municípios atendidos com água (%)', fontdict={\"size\": 15})"
   ]
  },
  {
   "cell_type": "markdown",
   "metadata": {},
   "source": [
    "A média de atendimento urbano de esgoto referido aos municípios atendidos com água é de 18,54%"
   ]
  },
  {
   "cell_type": "markdown",
   "metadata": {},
   "source": [
    "#"
   ]
  },
  {
   "cell_type": "markdown",
   "metadata": {},
   "source": [
    "# Consumo médio de água per capita por estado"
   ]
  },
  {
   "cell_type": "code",
   "execution_count": 59,
   "metadata": {},
   "outputs": [],
   "source": [
    "average_water_consumption_state = data[['Estado', 'IN022_AE - Consumo médio percapita de água']].groupby(['Estado']).mean().reset_index()"
   ]
  },
  {
   "cell_type": "code",
   "execution_count": 60,
   "metadata": {},
   "outputs": [
    {
     "data": {
      "image/png": "[encoded data removed]",
      "text/plain": [
       "<Figure size 1008x792 with 1 Axes>"
      ]
     },
     "metadata": {},
     "output_type": "display_data"
    }
   ],
   "source": [
    "fig, ax = plt.subplots(figsize=(14, 11))\n",
    "\n",
    "sns.boxplot(y = 'IN022_AE - Consumo médio percapita de água', data = average_water_consumption_state, color = 'm')\n",
    "\n",
    "sns.despine(offset=30)\n",
    "\n",
    "ax.set_title('Consumo médio de água per capita (litro/hab./dia)', fontdict = {\"size\": 15})\n",
    "\n",
    "del average_water_consumption_state"
   ]
  },
  {
   "cell_type": "markdown",
   "metadata": {},
   "source": [
    "#"
   ]
  },
  {
   "cell_type": "markdown",
   "metadata": {},
   "source": [
    "# Porcentagem da população total atendida com abastecimento de água"
   ]
  },
  {
   "cell_type": "code",
   "execution_count": 61,
   "metadata": {},
   "outputs": [],
   "source": [
    "db = data.loc[:, ['AG001 - População total atendida com abastecimento de água', 'POP_TOT - População total do município (Fonte: IBGE):']].copy()\n",
    "db.dropna(inplace = True)"
   ]
  },
  {
   "cell_type": "code",
   "execution_count": 62,
   "metadata": {},
   "outputs": [],
   "source": [
    "a = db['AG001 - População total atendida com abastecimento de água'].copy()\n",
    "b = db['POP_TOT - População total do município (Fonte: IBGE):'].copy()\n",
    "\n",
    "db_pop = (a/b)*100\n",
    "\n",
    "del db, a, b\n",
    "\n",
    "db_pop = pd.DataFrame(db_pop, columns = ['Porcentagem total da população atendida com abastecimento de água'])\n",
    "db_pop['Município'] = data['Município'].copy()\n",
    "db_pop['Estado'] = data['Estado'].copy()\n",
    "\n",
    "db_pop = db_pop.sort_values(by = 'Porcentagem total da população atendida com abastecimento de água').reset_index()\n",
    "db_pop.drop(columns=['index'], inplace = True)\n",
    "db_pop = db_pop.iloc[::-1]\n",
    "\n",
    "#y = db_pop.iloc[115:125, :]"
   ]
  },
  {
   "cell_type": "code",
   "execution_count": 63,
   "metadata": {},
   "outputs": [
    {
     "data": {
      "image/png": "[encoded data removed]",
      "text/plain": [
       "<Figure size 1152x1008 with 1 Axes>"
      ]
     },
     "metadata": {},
     "output_type": "display_data"
    }
   ],
   "source": [
    "# retirei os valores acima de 100%\n",
    "aux = db_pop.iloc[115:, :]\n",
    "\n",
    "a = 'Estado'\n",
    "b = 'Porcentagem total da população atendida com abastecimento de água'\n",
    "\n",
    "fig, ax = plt.subplots(figsize=(16, 14))\n",
    "\n",
    "sns.boxplot(x = a, y = b, data = aux, color = 'orange')\n",
    "\n",
    "sns.despine(offset=30)\n",
    "\n",
    "ax.set_title('População total atendida com abastecimento de água (%)', fontdict = {\"size\": 15})\n",
    "\n",
    "del a, b"
   ]
  },
  {
   "cell_type": "markdown",
   "metadata": {},
   "source": [
    "#"
   ]
  },
  {
   "cell_type": "markdown",
   "metadata": {},
   "source": [
    "# Qual o índice de perdas por ligação por estado?"
   ]
  },
  {
   "cell_type": "code",
   "execution_count": 64,
   "metadata": {},
   "outputs": [],
   "source": [
    "db = data[['Estado', 'IN051_AE - Índice de perdas por ligação', 'IN052_AE - Índice de consumo de água']].groupby('Estado').mean().reset_index()"
   ]
  },
  {
   "cell_type": "code",
   "execution_count": 65,
   "metadata": {},
   "outputs": [
    {
     "data": {
      "image/png": "[encoded data removed]",
      "text/plain": [
       "<Figure size 864x720 with 1 Axes>"
      ]
     },
     "metadata": {},
     "output_type": "display_data"
    }
   ],
   "source": [
    "fig, ax = plt.subplots(figsize=(12, 10))\n",
    "\n",
    "sns.barplot(x = 'Estado',  y = 'IN051_AE - Índice de perdas por ligação', data = db)\n",
    "\n",
    "sns.despine(offset=30)\n",
    "\n",
    "ax.set_title('Perdas por ligação por estado (litro/dia/por ligação)', fontdict = {\"size\": 15})\n",
    "\n",
    "show_values_on_bars(ax)"
   ]
  },
  {
   "cell_type": "markdown",
   "metadata": {},
   "source": [
    "#"
   ]
  },
  {
   "cell_type": "markdown",
   "metadata": {},
   "source": [
    "# Consumo de água por estado"
   ]
  },
  {
   "cell_type": "code",
   "execution_count": 66,
   "metadata": {},
   "outputs": [
    {
     "data": {
      "image/png": "[encoded data removed]",
      "text/plain": [
       "<Figure size 1008x792 with 1 Axes>"
      ]
     },
     "metadata": {},
     "output_type": "display_data"
    }
   ],
   "source": [
    "fig, ax = plt.subplots(figsize=(14, 11))\n",
    "\n",
    "sns.scatterplot(data = data, x = \"Estado\", y = \"IN052_AE - Índice de consumo de água\", color = 'blue')\n",
    "sns.despine(offset=30)\n",
    "\n",
    "ax.set_title('Consumo de água por estado (%)', fontdict = {\"size\": 15})\n",
    "\n",
    "show_values_on_bars(ax)"
   ]
  },
  {
   "cell_type": "markdown",
   "metadata": {},
   "source": [
    "#"
   ]
  },
  {
   "cell_type": "code",
   "execution_count": 67,
   "metadata": {},
   "outputs": [],
   "source": [
    "deaths = data.loc[:, ['Município', 'Estado', 'Obitos Nenhuma escolaridade', 'Obitos 1 a 3 anos escolaridade',\n",
    "                    'Obitos 4 a 7 anos escolaridade', 'Obitos 8 a 11 anos escolaridade',\n",
    "                    'Obitos 12 anos e mais escolaridade', 'Obitos Escolaridade Ignorada',\n",
    "                    'Obitos Totais (com e sem escolaridade)', 'Obitos Masc', 'Obitos Fem',\n",
    "                    'Obitos Sexo Ignorado', 'Total obitos (Masc e Fem)']]"
   ]
  },
  {
   "cell_type": "code",
   "execution_count": 68,
   "metadata": {},
   "outputs": [],
   "source": [
    "deaths.replace('-', np.nan, inplace = True)\n",
    "deaths.dropna(inplace = True)\n",
    "\n",
    "deaths = deaths.reset_index()\n",
    "deaths.drop('index', axis = 1, inplace = True)"
   ]
  },
  {
   "cell_type": "markdown",
   "metadata": {},
   "source": [
    "correção do tipo de dado para óbitos"
   ]
  },
  {
   "cell_type": "code",
   "execution_count": 69,
   "metadata": {},
   "outputs": [],
   "source": [
    "try:    \n",
    "    deaths['Obitos Nenhuma escolaridade'] = deaths['Obitos Nenhuma escolaridade'].astype(int)\n",
    "    deaths['Obitos 1 a 3 anos escolaridade'] = deaths['Obitos 1 a 3 anos escolaridade'].astype(int)\n",
    "    deaths['Obitos 4 a 7 anos escolaridade'] = deaths['Obitos 4 a 7 anos escolaridade'].astype(int)\n",
    "    deaths['Obitos 8 a 11 anos escolaridade'] = deaths['Obitos 8 a 11 anos escolaridade'].astype(int)\n",
    "    deaths['Obitos 12 anos e mais escolaridade'] = deaths['Obitos 12 anos e mais escolaridade'].astype(int)\n",
    "    deaths['Obitos Escolaridade Ignorada'] = deaths['Obitos Escolaridade Ignorada'].astype(int)\n",
    "    deaths['Obitos Totais (com e sem escolaridade)'] = deaths['Obitos Totais (com e sem escolaridade)'].astype(float)\n",
    "    deaths['Obitos Totais (com e sem escolaridade)'] = deaths['Obitos Totais (com e sem escolaridade)'].astype(int)\n",
    "    deaths['Obitos Masc'] = deaths['Obitos Masc'].astype(int)\n",
    "    deaths['Obitos Fem'] = deaths['Obitos Fem'].astype(int)\n",
    "    deaths['Obitos Sexo Ignorado'] = deaths['Obitos Sexo Ignorado'].astype(int)\n",
    "    deaths['Total obitos (Masc e Fem)'] = deaths['Total obitos (Masc e Fem)'].astype(float)\n",
    "\n",
    "except Exception as e:\n",
    "    print(\"Falha em converter tipos em deaths\\n\")\n",
    "    print(e)"
   ]
  },
  {
   "cell_type": "markdown",
   "metadata": {},
   "source": [
    "#"
   ]
  },
  {
   "cell_type": "code",
   "execution_count": null,
   "metadata": {},
   "outputs": [],
   "source": [
    "## transformar 3 colunas em apenas uma e criar uma nova com suas respectivas labels\n",
    "\n",
    "women_men_deaths = deaths.loc[:, ['Obitos Masc', 'Obitos Fem', 'Obitos Sexo Ignorado', 'Município', 'Estado']]\n",
    "men = women_men_deaths.iloc[:, [0]]\n",
    "women = women_men_deaths.iloc[:, [1]]\n",
    "ign = women_men_deaths.iloc[:, [2]]\n",
    "\n",
    "men['kind'] = men.columns[0]\n",
    "men.columns = ['Valor', 'kind']\n",
    "\n",
    "women['kind'] = women.columns[0]\n",
    "women.columns = ['Valor', 'kind']\n",
    "\n",
    "ign['kind'] = ign.columns[0]\n",
    "ign.columns = ['Valor', 'kind']\n",
    "\n",
    "women_men_deaths_final = pd.concat([women, men, ign], axis = 0).reset_index()\n",
    "women_men_deaths_final.drop(['index'], axis = 1, inplace=True)"
   ]
  },
  {
   "cell_type": "markdown",
   "metadata": {},
   "source": [
    "# Qual o índice de óbitos femininos, masculinos e quando o sexo é ignorado?"
   ]
  },
  {
   "cell_type": "code",
   "execution_count": 71,
   "metadata": {},
   "outputs": [
    {
     "data": {
      "application/vnd.plotly.v1+json": {
       "config": {
        "plotlyServerURL": "https://plot.ly"
       },
       "data": [
        {
         "domain": {
          "x": [
           0,
           1
          ],
          "y": [
           0,
           1
          ]
         },
         "hovertemplate": "label=%{label}<br>value=%{value}<extra></extra>",
         "labels": [
          "Obitos Fem",
          "Obitos Fem",
          "Obitos Fem",
          "Obitos Fem",
          "Obitos Fem",
          "Obitos Fem",
          "Obitos Fem",
          "Obitos Fem",
          "Obitos Fem",
          "Obitos Fem",
          "Obitos Fem",
          "Obitos Fem",
          "Obitos Fem",
          "Obitos Fem",
          "Obitos Fem",
          "Obitos Fem",
          "Obitos Fem",
          "Obitos Fem",
          "Obitos Fem",
          "Obitos Fem",
          "Obitos Fem",
          "Obitos Fem",
          "Obitos Fem",
          "Obitos Fem",
          "Obitos Fem",
          "Obitos Fem",
          "Obitos Fem",
          "Obitos Fem",
          "Obitos Fem",
          "Obitos Fem",
          "Obitos Fem",
          "Obitos Fem",
          "Obitos Fem",
          "Obitos Fem",
          "Obitos Fem",
          "Obitos Fem",
          "Obitos Fem",
          "Obitos Fem",
          "Obitos Fem",
          "Obitos Fem",
          "Obitos Fem",
          "Obitos Fem",
          "Obitos Fem",
          "Obitos Fem",
          "Obitos Fem",
          "Obitos Fem",
          "Obitos Fem",
          "Obitos Fem",
          "Obitos Fem",
          "Obitos Fem",
          "Obitos Fem",
          "Obitos Fem",
          "Obitos Fem",
          "Obitos Fem",
          "Obitos Fem",
          "Obitos Fem",
          "Obitos Fem",
          "Obitos Fem",
          "Obitos Fem",
          "Obitos Fem",
          "Obitos Fem",
          "Obitos Fem",
          "Obitos Fem",
          "Obitos Fem",
          "Obitos Fem",
          "Obitos Fem",
          "Obitos Fem",
          "Obitos Fem",
          "Obitos Fem",
          "Obitos Fem",
          "Obitos Fem",
          "Obitos Fem",
          "Obitos Fem",
          "Obitos Fem",
          "Obitos Fem",
          "Obitos Fem",
          "Obitos Fem",
          "Obitos Fem",
          "Obitos Fem",
          "Obitos Fem",
          "Obitos Fem",
          "Obitos Fem",
          "Obitos Fem",
          "Obitos Fem",
          "Obitos Fem",
          "Obitos Fem",
          "Obitos Fem",
          "Obitos Fem",
          "Obitos Fem",
          "Obitos Fem",
          "Obitos Fem",
          "Obitos Fem",
          "Obitos Fem",
          "Obitos Fem",
          "Obitos Fem",
          "Obitos Fem",
          "Obitos Fem",
          "Obitos Fem",
          "Obitos Fem",
          "Obitos Fem",
          "Obitos Fem",
          "Obitos Fem",
          "Obitos Fem",
          "Obitos Fem",
          "Obitos Fem",
          "Obitos Fem",
          "Obitos Fem",
          "Obitos Fem",
          "Obitos Fem",
          "Obitos Fem",
          "Obitos Fem",
          "Obitos Fem",
          "Obitos Fem",
          "Obitos Fem",
          "Obitos Fem",
          "Obitos Fem",
          "Obitos Fem",
          "Obitos Fem",
          "Obitos Fem",
          "Obitos Fem",
          "Obitos Fem",
          "Obitos Fem",
          "Obitos Fem",
          "Obitos Fem",
          "Obitos Fem",
          "Obitos Fem",
          "Obitos Fem",
          "Obitos Fem",
          "Obitos Fem",
          "Obitos Fem",
          "Obitos Fem",
          "Obitos Fem",
          "Obitos Fem",
          "Obitos Fem",
          "Obitos Fem",
          "Obitos Fem",
          "Obitos Fem",
          "Obitos Fem",
          "Obitos Fem",
          "Obitos Fem",
          "Obitos Fem",
          "Obitos Fem",
          "Obitos Fem",
          "Obitos Fem",
          "Obitos Fem",
          "Obitos Fem",
          "Obitos Fem",
          "Obitos Fem",
          "Obitos Fem",
          "Obitos Fem",
          "Obitos Fem",
          "Obitos Fem",
          "Obitos Fem",
          "Obitos Fem",
          "Obitos Fem",
          "Obitos Fem",
          "Obitos Fem",
          "Obitos Fem",
          "Obitos Fem",
          "Obitos Fem",
          "Obitos Fem",
          "Obitos Fem",
          "Obitos Fem",
          "Obitos Fem",
          "Obitos Fem",
          "Obitos Fem",
          "Obitos Fem",
          "Obitos Fem",
          "Obitos Fem",
          "Obitos Fem",
          "Obitos Fem",
          "Obitos Fem",
          "Obitos Fem",
          "Obitos Fem",
          "Obitos Fem",
          "Obitos Fem",
          "Obitos Fem",
          "Obitos Fem",
          "Obitos Fem",
          "Obitos Fem",
          "Obitos Fem",
          "Obitos Fem",
          "Obitos Fem",
          "Obitos Fem",
          "Obitos Fem",
          "Obitos Fem",
          "Obitos Fem",
          "Obitos Fem",
          "Obitos Fem",
          "Obitos Fem",
          "Obitos Fem",
          "Obitos Fem",
          "Obitos Fem",
          "Obitos Fem",
          "Obitos Fem",
          "Obitos Fem",
          "Obitos Fem",
          "Obitos Fem",
          "Obitos Fem",
          "Obitos Masc",
          "Obitos Masc",
          "Obitos Masc",
          "Obitos Masc",
          "Obitos Masc",
          "Obitos Masc",
          "Obitos Masc",
          "Obitos Masc",
          "Obitos Masc",
          "Obitos Masc",
          "Obitos Masc",
          "Obitos Masc",
          "Obitos Masc",
          "Obitos Masc",
          "Obitos Masc",
          "Obitos Masc",
          "Obitos Masc",
          "Obitos Masc",
          "Obitos Masc",
          "Obitos Masc",
          "Obitos Masc",
          "Obitos Masc",
          "Obitos Masc",
          "Obitos Masc",
          "Obitos Masc",
          "Obitos Masc",
          "Obitos Masc",
          "Obitos Masc",
          "Obitos Masc",
          "Obitos Masc",
          "Obitos Masc",
          "Obitos Masc",
          "Obitos Masc",
          "Obitos Masc",
          "Obitos Masc",
          "Obitos Masc",
          "Obitos Masc",
          "Obitos Masc",
          "Obitos Masc",
          "Obitos Masc",
          "Obitos Masc",
          "Obitos Masc",
          "Obitos Masc",
          "Obitos Masc",
          "Obitos Masc",
          "Obitos Masc",
          "Obitos Masc",
          "Obitos Masc",
          "Obitos Masc",
          "Obitos Masc",
          "Obitos Masc",
          "Obitos Masc",
          "Obitos Masc",
          "Obitos Masc",
          "Obitos Masc",
          "Obitos Masc",
          "Obitos Masc",
          "Obitos Masc",
          "Obitos Masc",
          "Obitos Masc",
          "Obitos Masc",
          "Obitos Masc",
          "Obitos Masc",
          "Obitos Masc",
          "Obitos Masc",
          "Obitos Masc",
          "Obitos Masc",
          "Obitos Masc",
          "Obitos Masc",
          "Obitos Masc",
          "Obitos Masc",
          "Obitos Masc",
          "Obitos Masc",
          "Obitos Masc",
          "Obitos Masc",
          "Obitos Masc",
          "Obitos Masc",
          "Obitos Masc",
          "Obitos Masc",
          "Obitos Masc",
          "Obitos Masc",
          "Obitos Masc",
          "Obitos Masc",
          "Obitos Masc",
          "Obitos Masc",
          "Obitos Masc",
          "Obitos Masc",
          "Obitos Masc",
          "Obitos Masc",
          "Obitos Masc",
          "Obitos Masc",
          "Obitos Masc",
          "Obitos Masc",
          "Obitos Masc",
          "Obitos Masc",
          "Obitos Masc",
          "Obitos Masc",
          "Obitos Masc",
          "Obitos Masc",
          "Obitos Masc",
          "Obitos Masc",
          "Obitos Masc",
          "Obitos Masc",
          "Obitos Masc",
          "Obitos Masc",
          "Obitos Masc",
          "Obitos Masc",
          "Obitos Masc",
          "Obitos Masc",
          "Obitos Masc",
          "Obitos Masc",
          "Obitos Masc",
          "Obitos Masc",
          "Obitos Masc",
          "Obitos Masc",
          "Obitos Masc",
          "Obitos Masc",
          "Obitos Masc",
          "Obitos Masc",
          "Obitos Masc",
          "Obitos Masc",
          "Obitos Masc",
          "Obitos Masc",
          "Obitos Masc",
          "Obitos Masc",
          "Obitos Masc",
          "Obitos Masc",
          "Obitos Masc",
          "Obitos Masc",
          "Obitos Masc",
          "Obitos Masc",
          "Obitos Masc",
          "Obitos Masc",
          "Obitos Masc",
          "Obitos Masc",
          "Obitos Masc",
          "Obitos Masc",
          "Obitos Masc",
          "Obitos Masc",
          "Obitos Masc",
          "Obitos Masc",
          "Obitos Masc",
          "Obitos Masc",
          "Obitos Masc",
          "Obitos Masc",
          "Obitos Masc",
          "Obitos Masc",
          "Obitos Masc",
          "Obitos Masc",
          "Obitos Masc",
          "Obitos Masc",
          "Obitos Masc",
          "Obitos Masc",
          "Obitos Masc",
          "Obitos Masc",
          "Obitos Masc",
          "Obitos Masc",
          "Obitos Masc",
          "Obitos Masc",
          "Obitos Masc",
          "Obitos Masc",
          "Obitos Masc",
          "Obitos Masc",
          "Obitos Masc",
          "Obitos Masc",
          "Obitos Masc",
          "Obitos Masc",
          "Obitos Masc",
          "Obitos Masc",
          "Obitos Masc",
          "Obitos Masc",
          "Obitos Masc",
          "Obitos Masc",
          "Obitos Masc",
          "Obitos Masc",
          "Obitos Masc",
          "Obitos Masc",
          "Obitos Masc",
          "Obitos Masc",
          "Obitos Masc",
          "Obitos Masc",
          "Obitos Masc",
          "Obitos Masc",
          "Obitos Masc",
          "Obitos Masc",
          "Obitos Masc",
          "Obitos Masc",
          "Obitos Masc",
          "Obitos Masc",
          "Obitos Masc",
          "Obitos Masc",
          "Obitos Masc",
          "Obitos Masc",
          "Obitos Masc",
          "Obitos Masc",
          "Obitos Masc",
          "Obitos Masc",
          "Obitos Masc",
          "Obitos Masc",
          "Obitos Sexo Ignorado",
          "Obitos Sexo Ignorado",
          "Obitos Sexo Ignorado",
          "Obitos Sexo Ignorado",
          "Obitos Sexo Ignorado",
          "Obitos Sexo Ignorado",
          "Obitos Sexo Ignorado",
          "Obitos Sexo Ignorado",
          "Obitos Sexo Ignorado",
          "Obitos Sexo Ignorado",
          "Obitos Sexo Ignorado",
          "Obitos Sexo Ignorado",
          "Obitos Sexo Ignorado",
          "Obitos Sexo Ignorado",
          "Obitos Sexo Ignorado",
          "Obitos Sexo Ignorado",
          "Obitos Sexo Ignorado",
          "Obitos Sexo Ignorado",
          "Obitos Sexo Ignorado",
          "Obitos Sexo Ignorado",
          "Obitos Sexo Ignorado",
          "Obitos Sexo Ignorado",
          "Obitos Sexo Ignorado",
          "Obitos Sexo Ignorado",
          "Obitos Sexo Ignorado",
          "Obitos Sexo Ignorado",
          "Obitos Sexo Ignorado",
          "Obitos Sexo Ignorado",
          "Obitos Sexo Ignorado",
          "Obitos Sexo Ignorado",
          "Obitos Sexo Ignorado",
          "Obitos Sexo Ignorado",
          "Obitos Sexo Ignorado",
          "Obitos Sexo Ignorado",
          "Obitos Sexo Ignorado",
          "Obitos Sexo Ignorado",
          "Obitos Sexo Ignorado",
          "Obitos Sexo Ignorado",
          "Obitos Sexo Ignorado",
          "Obitos Sexo Ignorado",
          "Obitos Sexo Ignorado",
          "Obitos Sexo Ignorado",
          "Obitos Sexo Ignorado",
          "Obitos Sexo Ignorado",
          "Obitos Sexo Ignorado",
          "Obitos Sexo Ignorado",
          "Obitos Sexo Ignorado",
          "Obitos Sexo Ignorado",
          "Obitos Sexo Ignorado",
          "Obitos Sexo Ignorado",
          "Obitos Sexo Ignorado",
          "Obitos Sexo Ignorado",
          "Obitos Sexo Ignorado",
          "Obitos Sexo Ignorado",
          "Obitos Sexo Ignorado",
          "Obitos Sexo Ignorado",
          "Obitos Sexo Ignorado",
          "Obitos Sexo Ignorado",
          "Obitos Sexo Ignorado",
          "Obitos Sexo Ignorado",
          "Obitos Sexo Ignorado",
          "Obitos Sexo Ignorado",
          "Obitos Sexo Ignorado",
          "Obitos Sexo Ignorado",
          "Obitos Sexo Ignorado",
          "Obitos Sexo Ignorado",
          "Obitos Sexo Ignorado",
          "Obitos Sexo Ignorado",
          "Obitos Sexo Ignorado",
          "Obitos Sexo Ignorado",
          "Obitos Sexo Ignorado",
          "Obitos Sexo Ignorado",
          "Obitos Sexo Ignorado",
          "Obitos Sexo Ignorado",
          "Obitos Sexo Ignorado",
          "Obitos Sexo Ignorado",
          "Obitos Sexo Ignorado",
          "Obitos Sexo Ignorado",
          "Obitos Sexo Ignorado",
          "Obitos Sexo Ignorado",
          "Obitos Sexo Ignorado",
          "Obitos Sexo Ignorado",
          "Obitos Sexo Ignorado",
          "Obitos Sexo Ignorado",
          "Obitos Sexo Ignorado",
          "Obitos Sexo Ignorado",
          "Obitos Sexo Ignorado",
          "Obitos Sexo Ignorado",
          "Obitos Sexo Ignorado",
          "Obitos Sexo Ignorado",
          "Obitos Sexo Ignorado",
          "Obitos Sexo Ignorado",
          "Obitos Sexo Ignorado",
          "Obitos Sexo Ignorado",
          "Obitos Sexo Ignorado",
          "Obitos Sexo Ignorado",
          "Obitos Sexo Ignorado",
          "Obitos Sexo Ignorado",
          "Obitos Sexo Ignorado",
          "Obitos Sexo Ignorado",
          "Obitos Sexo Ignorado",
          "Obitos Sexo Ignorado",
          "Obitos Sexo Ignorado",
          "Obitos Sexo Ignorado",
          "Obitos Sexo Ignorado",
          "Obitos Sexo Ignorado",
          "Obitos Sexo Ignorado",
          "Obitos Sexo Ignorado",
          "Obitos Sexo Ignorado",
          "Obitos Sexo Ignorado",
          "Obitos Sexo Ignorado",
          "Obitos Sexo Ignorado",
          "Obitos Sexo Ignorado",
          "Obitos Sexo Ignorado",
          "Obitos Sexo Ignorado",
          "Obitos Sexo Ignorado",
          "Obitos Sexo Ignorado",
          "Obitos Sexo Ignorado",
          "Obitos Sexo Ignorado",
          "Obitos Sexo Ignorado",
          "Obitos Sexo Ignorado",
          "Obitos Sexo Ignorado",
          "Obitos Sexo Ignorado",
          "Obitos Sexo Ignorado",
          "Obitos Sexo Ignorado",
          "Obitos Sexo Ignorado",
          "Obitos Sexo Ignorado",
          "Obitos Sexo Ignorado",
          "Obitos Sexo Ignorado",
          "Obitos Sexo Ignorado",
          "Obitos Sexo Ignorado",
          "Obitos Sexo Ignorado",
          "Obitos Sexo Ignorado",
          "Obitos Sexo Ignorado",
          "Obitos Sexo Ignorado",
          "Obitos Sexo Ignorado",
          "Obitos Sexo Ignorado",
          "Obitos Sexo Ignorado",
          "Obitos Sexo Ignorado",
          "Obitos Sexo Ignorado",
          "Obitos Sexo Ignorado",
          "Obitos Sexo Ignorado",
          "Obitos Sexo Ignorado",
          "Obitos Sexo Ignorado",
          "Obitos Sexo Ignorado",
          "Obitos Sexo Ignorado",
          "Obitos Sexo Ignorado",
          "Obitos Sexo Ignorado",
          "Obitos Sexo Ignorado",
          "Obitos Sexo Ignorado",
          "Obitos Sexo Ignorado",
          "Obitos Sexo Ignorado",
          "Obitos Sexo Ignorado",
          "Obitos Sexo Ignorado",
          "Obitos Sexo Ignorado",
          "Obitos Sexo Ignorado",
          "Obitos Sexo Ignorado",
          "Obitos Sexo Ignorado",
          "Obitos Sexo Ignorado",
          "Obitos Sexo Ignorado",
          "Obitos Sexo Ignorado",
          "Obitos Sexo Ignorado",
          "Obitos Sexo Ignorado",
          "Obitos Sexo Ignorado",
          "Obitos Sexo Ignorado",
          "Obitos Sexo Ignorado",
          "Obitos Sexo Ignorado",
          "Obitos Sexo Ignorado",
          "Obitos Sexo Ignorado",
          "Obitos Sexo Ignorado",
          "Obitos Sexo Ignorado",
          "Obitos Sexo Ignorado",
          "Obitos Sexo Ignorado",
          "Obitos Sexo Ignorado",
          "Obitos Sexo Ignorado",
          "Obitos Sexo Ignorado",
          "Obitos Sexo Ignorado",
          "Obitos Sexo Ignorado",
          "Obitos Sexo Ignorado",
          "Obitos Sexo Ignorado",
          "Obitos Sexo Ignorado",
          "Obitos Sexo Ignorado",
          "Obitos Sexo Ignorado",
          "Obitos Sexo Ignorado",
          "Obitos Sexo Ignorado",
          "Obitos Sexo Ignorado",
          "Obitos Sexo Ignorado",
          "Obitos Sexo Ignorado",
          "Obitos Sexo Ignorado",
          "Obitos Sexo Ignorado",
          "Obitos Sexo Ignorado",
          "Obitos Sexo Ignorado",
          "Obitos Sexo Ignorado",
          "Obitos Sexo Ignorado",
          "Obitos Sexo Ignorado",
          "Obitos Sexo Ignorado",
          "Obitos Sexo Ignorado",
          "Obitos Sexo Ignorado",
          "Obitos Sexo Ignorado"
         ],
         "legendgroup": "",
         "name": "",
         "showlegend": true,
         "type": "pie",
         "values": [
          31,
          15,
          214,
          1261,
          77,
          1027,
          5082,
          874,
          300,
          5791,
          34,
          208,
          89,
          212,
          59,
          601,
          46,
          49,
          47,
          233,
          55,
          918,
          86,
          103,
          1068,
          177,
          866,
          28,
          12,
          234,
          68,
          488,
          239,
          100,
          1347,
          17,
          4177,
          389,
          94,
          729,
          218,
          3732,
          339,
          9560,
          53,
          3969,
          2419,
          166,
          3664,
          481,
          71,
          664,
          82,
          29,
          392,
          1015,
          11566,
          1201,
          4765,
          2979,
          238,
          577,
          452,
          141,
          82,
          86,
          321,
          2069,
          379,
          1122,
          67,
          74,
          366,
          117,
          10155,
          132,
          1299,
          11014,
          84,
          1433,
          284,
          56,
          1580,
          36,
          166,
          726,
          566,
          2055,
          812,
          644,
          575,
          1301,
          1645,
          485,
          483,
          393,
          670,
          782,
          777,
          3566,
          948,
          332,
          173,
          719,
          146,
          438,
          403,
          607,
          2951,
          2859,
          157,
          124,
          33880,
          2764,
          111,
          1167,
          234,
          289,
          172,
          899,
          4403,
          628,
          808,
          103,
          56,
          706,
          1325,
          287,
          69,
          3169,
          377,
          608,
          511,
          19,
          714,
          52,
          319,
          114,
          1682,
          26,
          17,
          159,
          480,
          980,
          2998,
          776,
          717,
          823,
          2954,
          28,
          42667,
          269,
          1115,
          66,
          172,
          481,
          219,
          603,
          1282,
          39,
          6271,
          408,
          2588,
          1774,
          53,
          463,
          429,
          17,
          247,
          1772,
          16,
          113,
          761,
          493,
          251,
          268,
          118,
          8608,
          373,
          524,
          32,
          22,
          435,
          14,
          19,
          2179,
          43,
          234,
          968,
          6,
          49,
          20,
          69,
          6381,
          271,
          63,
          17,
          512,
          6710,
          52,
          33,
          322,
          1891,
          136,
          1604,
          7350,
          1344,
          646,
          6718,
          69,
          322,
          151,
          478,
          84,
          1051,
          112,
          108,
          90,
          493,
          115,
          1219,
          149,
          166,
          1581,
          279,
          1228,
          49,
          10,
          350,
          150,
          650,
          323,
          155,
          1708,
          32,
          5083,
          496,
          92,
          884,
          303,
          4341,
          367,
          10622,
          74,
          4355,
          2648,
          175,
          4056,
          582,
          126,
          840,
          153,
          36,
          454,
          1320,
          12394,
          1424,
          5189,
          3448,
          363,
          743,
          823,
          203,
          172,
          104,
          468,
          2802,
          539,
          1476,
          169,
          132,
          462,
          180,
          11346,
          166,
          1795,
          11633,
          149,
          1678,
          334,
          62,
          2012,
          52,
          229,
          837,
          702,
          2602,
          1099,
          872,
          755,
          1688,
          1878,
          710,
          620,
          467,
          807,
          1194,
          978,
          4333,
          1221,
          477,
          297,
          956,
          225,
          596,
          433,
          567,
          2912,
          3521,
          168,
          157,
          32881,
          3277,
          173,
          1294,
          351,
          404,
          218,
          1097,
          4825,
          766,
          1021,
          144,
          56,
          925,
          1461,
          401,
          93,
          3812,
          538,
          788,
          642,
          28,
          868,
          66,
          362,
          127,
          2021,
          45,
          17,
          222,
          600,
          1199,
          3409,
          860,
          681,
          993,
          3321,
          39,
          44576,
          348,
          1334,
          69,
          206,
          465,
          288,
          715,
          1721,
          46,
          6945,
          527,
          3241,
          2066,
          124,
          674,
          539,
          38,
          318,
          2024,
          35,
          119,
          1008,
          620,
          361,
          283,
          126,
          8510,
          385,
          675,
          48,
          49,
          598,
          59,
          48,
          2851,
          78,
          307,
          1468,
          16,
          88,
          45,
          143,
          7587,
          441,
          133,
          24,
          631,
          8091,
          1,
          1,
          1,
          5,
          1,
          9,
          7,
          2,
          1,
          17,
          1,
          1,
          1,
          1,
          1,
          11,
          1,
          1,
          1,
          1,
          1,
          3,
          1,
          1,
          1,
          1,
          3,
          2,
          1,
          1,
          1,
          3,
          1,
          1,
          2,
          1,
          6,
          4,
          1,
          1,
          1,
          12,
          1,
          8,
          1,
          10,
          6,
          1,
          3,
          1,
          1,
          2,
          1,
          1,
          2,
          8,
          22,
          1,
          5,
          9,
          1,
          3,
          2,
          1,
          1,
          1,
          1,
          7,
          1,
          1,
          1,
          1,
          1,
          1,
          22,
          4,
          3,
          2,
          1,
          1,
          1,
          1,
          3,
          1,
          1,
          1,
          1,
          2,
          1,
          3,
          1,
          1,
          1,
          2,
          3,
          1,
          1,
          8,
          1,
          3,
          12,
          3,
          1,
          1,
          2,
          3,
          1,
          1,
          5,
          3,
          2,
          1,
          53,
          5,
          1,
          1,
          1,
          1,
          1,
          1,
          1,
          2,
          1,
          1,
          1,
          1,
          6,
          1,
          1,
          1,
          1,
          1,
          1,
          1,
          1,
          1,
          1,
          2,
          1,
          1,
          1,
          1,
          1,
          1,
          1,
          1,
          1,
          1,
          1,
          1,
          8,
          1,
          1,
          1,
          1,
          1,
          1,
          1,
          4,
          1,
          1,
          1,
          4,
          1,
          1,
          1,
          1,
          1,
          2,
          1,
          1,
          1,
          1,
          1,
          2,
          1,
          1,
          7,
          2,
          2,
          1,
          1,
          1,
          1,
          1,
          4,
          1,
          1,
          1,
          1,
          1,
          1,
          3,
          8,
          1,
          1,
          1,
          1,
          3
         ]
        }
       ],
       "layout": {
        "legend": {
         "tracegroupgap": 0
        },
        "margin": {
         "t": 60
        },
        "piecolorway": [
         "rgb(103,0,31)",
         "rgb(178,24,43)",
         "rgb(214,96,77)",
         "rgb(244,165,130)",
         "rgb(253,219,199)",
         "rgb(247,247,247)",
         "rgb(209,229,240)",
         "rgb(146,197,222)",
         "rgb(67,147,195)",
         "rgb(33,102,172)",
         "rgb(5,48,97)"
        ],
        "template": {
         "data": {
          "bar": [
           {
            "error_x": {
             "color": "#2a3f5f"
            },
            "error_y": {
             "color": "#2a3f5f"
            },
            "marker": {
             "line": {
              "color": "#E5ECF6",
              "width": 0.5
             },
             "pattern": {
              "fillmode": "overlay",
              "size": 10,
              "solidity": 0.2
             }
            },
            "type": "bar"
           }
          ],
          "barpolar": [
           {
            "marker": {
             "line": {
              "color": "#E5ECF6",
              "width": 0.5
             },
             "pattern": {
              "fillmode": "overlay",
              "size": 10,
              "solidity": 0.2
             }
            },
            "type": "barpolar"
           }
          ],
          "carpet": [
           {
            "aaxis": {
             "endlinecolor": "#2a3f5f",
             "gridcolor": "white",
             "linecolor": "white",
             "minorgridcolor": "white",
             "startlinecolor": "#2a3f5f"
            },
            "baxis": {
             "endlinecolor": "#2a3f5f",
             "gridcolor": "white",
             "linecolor": "white",
             "minorgridcolor": "white",
             "startlinecolor": "#2a3f5f"
            },
            "type": "carpet"
           }
          ],
          "choropleth": [
           {
            "colorbar": {
             "outlinewidth": 0,
             "ticks": ""
            },
            "type": "choropleth"
           }
          ],
          "contour": [
           {
            "colorbar": {
             "outlinewidth": 0,
             "ticks": ""
            },
            "colorscale": [
             [
              0,
              "#0d0887"
             ],
             [
              0.1111111111111111,
              "#46039f"
             ],
             [
              0.2222222222222222,
              "#7201a8"
             ],
             [
              0.3333333333333333,
              "#9c179e"
             ],
             [
              0.4444444444444444,
              "#bd3786"
             ],
             [
              0.5555555555555556,
              "#d8576b"
             ],
             [
              0.6666666666666666,
              "#ed7953"
             ],
             [
              0.7777777777777778,
              "#fb9f3a"
             ],
             [
              0.8888888888888888,
              "#fdca26"
             ],
             [
              1,
              "#f0f921"
             ]
            ],
            "type": "contour"
           }
          ],
          "contourcarpet": [
           {
            "colorbar": {
             "outlinewidth": 0,
             "ticks": ""
            },
            "type": "contourcarpet"
           }
          ],
          "heatmap": [
           {
            "colorbar": {
             "outlinewidth": 0,
             "ticks": ""
            },
            "colorscale": [
             [
              0,
              "#0d0887"
             ],
             [
              0.1111111111111111,
              "#46039f"
             ],
             [
              0.2222222222222222,
              "#7201a8"
             ],
             [
              0.3333333333333333,
              "#9c179e"
             ],
             [
              0.4444444444444444,
              "#bd3786"
             ],
             [
              0.5555555555555556,
              "#d8576b"
             ],
             [
              0.6666666666666666,
              "#ed7953"
             ],
             [
              0.7777777777777778,
              "#fb9f3a"
             ],
             [
              0.8888888888888888,
              "#fdca26"
             ],
             [
              1,
              "#f0f921"
             ]
            ],
            "type": "heatmap"
           }
          ],
          "heatmapgl": [
           {
            "colorbar": {
             "outlinewidth": 0,
             "ticks": ""
            },
            "colorscale": [
             [
              0,
              "#0d0887"
             ],
             [
              0.1111111111111111,
              "#46039f"
             ],
             [
              0.2222222222222222,
              "#7201a8"
             ],
             [
              0.3333333333333333,
              "#9c179e"
             ],
             [
              0.4444444444444444,
              "#bd3786"
             ],
             [
              0.5555555555555556,
              "#d8576b"
             ],
             [
              0.6666666666666666,
              "#ed7953"
             ],
             [
              0.7777777777777778,
              "#fb9f3a"
             ],
             [
              0.8888888888888888,
              "#fdca26"
             ],
             [
              1,
              "#f0f921"
             ]
            ],
            "type": "heatmapgl"
           }
          ],
          "histogram": [
           {
            "marker": {
             "pattern": {
              "fillmode": "overlay",
              "size": 10,
              "solidity": 0.2
             }
            },
            "type": "histogram"
           }
          ],
          "histogram2d": [
           {
            "colorbar": {
             "outlinewidth": 0,
             "ticks": ""
            },
            "colorscale": [
             [
              0,
              "#0d0887"
             ],
             [
              0.1111111111111111,
              "#46039f"
             ],
             [
              0.2222222222222222,
              "#7201a8"
             ],
             [
              0.3333333333333333,
              "#9c179e"
             ],
             [
              0.4444444444444444,
              "#bd3786"
             ],
             [
              0.5555555555555556,
              "#d8576b"
             ],
             [
              0.6666666666666666,
              "#ed7953"
             ],
             [
              0.7777777777777778,
              "#fb9f3a"
             ],
             [
              0.8888888888888888,
              "#fdca26"
             ],
             [
              1,
              "#f0f921"
             ]
            ],
            "type": "histogram2d"
           }
          ],
          "histogram2dcontour": [
           {
            "colorbar": {
             "outlinewidth": 0,
             "ticks": ""
            },
            "colorscale": [
             [
              0,
              "#0d0887"
             ],
             [
              0.1111111111111111,
              "#46039f"
             ],
             [
              0.2222222222222222,
              "#7201a8"
             ],
             [
              0.3333333333333333,
              "#9c179e"
             ],
             [
              0.4444444444444444,
              "#bd3786"
             ],
             [
              0.5555555555555556,
              "#d8576b"
             ],
             [
              0.6666666666666666,
              "#ed7953"
             ],
             [
              0.7777777777777778,
              "#fb9f3a"
             ],
             [
              0.8888888888888888,
              "#fdca26"
             ],
             [
              1,
              "#f0f921"
             ]
            ],
            "type": "histogram2dcontour"
           }
          ],
          "mesh3d": [
           {
            "colorbar": {
             "outlinewidth": 0,
             "ticks": ""
            },
            "type": "mesh3d"
           }
          ],
          "parcoords": [
           {
            "line": {
             "colorbar": {
              "outlinewidth": 0,
              "ticks": ""
             }
            },
            "type": "parcoords"
           }
          ],
          "pie": [
           {
            "automargin": true,
            "type": "pie"
           }
          ],
          "scatter": [
           {
            "marker": {
             "colorbar": {
              "outlinewidth": 0,
              "ticks": ""
             }
            },
            "type": "scatter"
           }
          ],
          "scatter3d": [
           {
            "line": {
             "colorbar": {
              "outlinewidth": 0,
              "ticks": ""
             }
            },
            "marker": {
             "colorbar": {
              "outlinewidth": 0,
              "ticks": ""
             }
            },
            "type": "scatter3d"
           }
          ],
          "scattercarpet": [
           {
            "marker": {
             "colorbar": {
              "outlinewidth": 0,
              "ticks": ""
             }
            },
            "type": "scattercarpet"
           }
          ],
          "scattergeo": [
           {
            "marker": {
             "colorbar": {
              "outlinewidth": 0,
              "ticks": ""
             }
            },
            "type": "scattergeo"
           }
          ],
          "scattergl": [
           {
            "marker": {
             "colorbar": {
              "outlinewidth": 0,
              "ticks": ""
             }
            },
            "type": "scattergl"
           }
          ],
          "scattermapbox": [
           {
            "marker": {
             "colorbar": {
              "outlinewidth": 0,
              "ticks": ""
             }
            },
            "type": "scattermapbox"
           }
          ],
          "scatterpolar": [
           {
            "marker": {
             "colorbar": {
              "outlinewidth": 0,
              "ticks": ""
             }
            },
            "type": "scatterpolar"
           }
          ],
          "scatterpolargl": [
           {
            "marker": {
             "colorbar": {
              "outlinewidth": 0,
              "ticks": ""
             }
            },
            "type": "scatterpolargl"
           }
          ],
          "scatterternary": [
           {
            "marker": {
             "colorbar": {
              "outlinewidth": 0,
              "ticks": ""
             }
            },
            "type": "scatterternary"
           }
          ],
          "surface": [
           {
            "colorbar": {
             "outlinewidth": 0,
             "ticks": ""
            },
            "colorscale": [
             [
              0,
              "#0d0887"
             ],
             [
              0.1111111111111111,
              "#46039f"
             ],
             [
              0.2222222222222222,
              "#7201a8"
             ],
             [
              0.3333333333333333,
              "#9c179e"
             ],
             [
              0.4444444444444444,
              "#bd3786"
             ],
             [
              0.5555555555555556,
              "#d8576b"
             ],
             [
              0.6666666666666666,
              "#ed7953"
             ],
             [
              0.7777777777777778,
              "#fb9f3a"
             ],
             [
              0.8888888888888888,
              "#fdca26"
             ],
             [
              1,
              "#f0f921"
             ]
            ],
            "type": "surface"
           }
          ],
          "table": [
           {
            "cells": {
             "fill": {
              "color": "#EBF0F8"
             },
             "line": {
              "color": "white"
             }
            },
            "header": {
             "fill": {
              "color": "#C8D4E3"
             },
             "line": {
              "color": "white"
             }
            },
            "type": "table"
           }
          ]
         },
         "layout": {
          "annotationdefaults": {
           "arrowcolor": "#2a3f5f",
           "arrowhead": 0,
           "arrowwidth": 1
          },
          "autotypenumbers": "strict",
          "coloraxis": {
           "colorbar": {
            "outlinewidth": 0,
            "ticks": ""
           }
          },
          "colorscale": {
           "diverging": [
            [
             0,
             "#8e0152"
            ],
            [
             0.1,
             "#c51b7d"
            ],
            [
             0.2,
             "#de77ae"
            ],
            [
             0.3,
             "#f1b6da"
            ],
            [
             0.4,
             "#fde0ef"
            ],
            [
             0.5,
             "#f7f7f7"
            ],
            [
             0.6,
             "#e6f5d0"
            ],
            [
             0.7,
             "#b8e186"
            ],
            [
             0.8,
             "#7fbc41"
            ],
            [
             0.9,
             "#4d9221"
            ],
            [
             1,
             "#276419"
            ]
           ],
           "sequential": [
            [
             0,
             "#0d0887"
            ],
            [
             0.1111111111111111,
             "#46039f"
            ],
            [
             0.2222222222222222,
             "#7201a8"
            ],
            [
             0.3333333333333333,
             "#9c179e"
            ],
            [
             0.4444444444444444,
             "#bd3786"
            ],
            [
             0.5555555555555556,
             "#d8576b"
            ],
            [
             0.6666666666666666,
             "#ed7953"
            ],
            [
             0.7777777777777778,
             "#fb9f3a"
            ],
            [
             0.8888888888888888,
             "#fdca26"
            ],
            [
             1,
             "#f0f921"
            ]
           ],
           "sequentialminus": [
            [
             0,
             "#0d0887"
            ],
            [
             0.1111111111111111,
             "#46039f"
            ],
            [
             0.2222222222222222,
             "#7201a8"
            ],
            [
             0.3333333333333333,
             "#9c179e"
            ],
            [
             0.4444444444444444,
             "#bd3786"
            ],
            [
             0.5555555555555556,
             "#d8576b"
            ],
            [
             0.6666666666666666,
             "#ed7953"
            ],
            [
             0.7777777777777778,
             "#fb9f3a"
            ],
            [
             0.8888888888888888,
             "#fdca26"
            ],
            [
             1,
             "#f0f921"
            ]
           ]
          },
          "colorway": [
           "#636efa",
           "#EF553B",
           "#00cc96",
           "#ab63fa",
           "#FFA15A",
           "#19d3f3",
           "#FF6692",
           "#B6E880",
           "#FF97FF",
           "#FECB52"
          ],
          "font": {
           "color": "#2a3f5f"
          },
          "geo": {
           "bgcolor": "white",
           "lakecolor": "white",
           "landcolor": "#E5ECF6",
           "showlakes": true,
           "showland": true,
           "subunitcolor": "white"
          },
          "hoverlabel": {
           "align": "left"
          },
          "hovermode": "closest",
          "mapbox": {
           "style": "light"
          },
          "paper_bgcolor": "white",
          "plot_bgcolor": "#E5ECF6",
          "polar": {
           "angularaxis": {
            "gridcolor": "white",
            "linecolor": "white",
            "ticks": ""
           },
           "bgcolor": "#E5ECF6",
           "radialaxis": {
            "gridcolor": "white",
            "linecolor": "white",
            "ticks": ""
           }
          },
          "scene": {
           "xaxis": {
            "backgroundcolor": "#E5ECF6",
            "gridcolor": "white",
            "gridwidth": 2,
            "linecolor": "white",
            "showbackground": true,
            "ticks": "",
            "zerolinecolor": "white"
           },
           "yaxis": {
            "backgroundcolor": "#E5ECF6",
            "gridcolor": "white",
            "gridwidth": 2,
            "linecolor": "white",
            "showbackground": true,
            "ticks": "",
            "zerolinecolor": "white"
           },
           "zaxis": {
            "backgroundcolor": "#E5ECF6",
            "gridcolor": "white",
            "gridwidth": 2,
            "linecolor": "white",
            "showbackground": true,
            "ticks": "",
            "zerolinecolor": "white"
           }
          },
          "shapedefaults": {
           "line": {
            "color": "#2a3f5f"
           }
          },
          "ternary": {
           "aaxis": {
            "gridcolor": "white",
            "linecolor": "white",
            "ticks": ""
           },
           "baxis": {
            "gridcolor": "white",
            "linecolor": "white",
            "ticks": ""
           },
           "bgcolor": "#E5ECF6",
           "caxis": {
            "gridcolor": "white",
            "linecolor": "white",
            "ticks": ""
           }
          },
          "title": {
           "x": 0.05
          },
          "xaxis": {
           "automargin": true,
           "gridcolor": "white",
           "linecolor": "white",
           "ticks": "",
           "title": {
            "standoff": 15
           },
           "zerolinecolor": "white",
           "zerolinewidth": 2
          },
          "yaxis": {
           "automargin": true,
           "gridcolor": "white",
           "linecolor": "white",
           "ticks": "",
           "title": {
            "standoff": 15
           },
           "zerolinecolor": "white",
           "zerolinewidth": 2
          }
         }
        }
       }
      }
     },
     "metadata": {},
     "output_type": "display_data"
    }
   ],
   "source": [
    "fig = px.pie(values = women_men_deaths_final['Valor'], names = women_men_deaths_final['kind'], color_discrete_sequence=px.colors.sequential.RdBu) \n",
    "fig.show()"
   ]
  },
  {
   "cell_type": "markdown",
   "metadata": {},
   "source": [
    "#"
   ]
  },
  {
   "cell_type": "markdown",
   "metadata": {},
   "source": [
    "# Quais são as porções de óbitos de acordo com a escolaridade?"
   ]
  },
  {
   "cell_type": "code",
   "execution_count": null,
   "metadata": {},
   "outputs": [],
   "source": [
    "# modelagem dos dados de 6 colunas para 1 e cria uma nova coluna com suas respectivas labels\n",
    "\n",
    "deaths_from_schooling = deaths.loc[:, ['Obitos Nenhuma escolaridade', 'Obitos 1 a 3 anos escolaridade',\n",
    "                                    'Obitos 4 a 7 anos escolaridade', 'Obitos 8 a 11 anos escolaridade',\n",
    "                                    'Obitos 12 anos e mais escolaridade', 'Obitos Escolaridade Ignorada']]\n",
    "\n",
    "a = deaths_from_schooling.iloc[:, [0]]\n",
    "b = deaths_from_schooling.iloc[:, [1]]\n",
    "c = deaths_from_schooling.iloc[:, [2]]\n",
    "d = deaths_from_schooling.iloc[:, [3]]\n",
    "e = deaths_from_schooling.iloc[:, [4]]\n",
    "f = deaths_from_schooling.iloc[:, [5]]\n",
    "\n",
    "a['kind'] = a.columns[0]\n",
    "a.columns = ['Valor', 'kind']\n",
    "\n",
    "b['kind'] = b.columns[0]\n",
    "b.columns = ['Valor', 'kind']\n",
    "\n",
    "c['kind'] = c.columns[0]\n",
    "c.columns = ['Valor', 'kind']\n",
    "\n",
    "d['kind'] = d.columns[0]\n",
    "d.columns = ['Valor', 'kind']\n",
    "\n",
    "e['kind'] = e.columns[0]\n",
    "e.columns = ['Valor', 'kind']\n",
    "\n",
    "f['kind'] = f.columns[0]\n",
    "f.columns = ['Valor', 'kind']\n",
    "\n",
    "deaths_from_schooling_final = pd.concat([a,b,c,d,e,f], axis = 0).reset_index()\n",
    "deaths_from_schooling_final.drop(['index'], axis = 1, inplace=True)"
   ]
  },
  {
   "cell_type": "code",
   "execution_count": 73,
   "metadata": {},
   "outputs": [
    {
     "data": {
      "application/vnd.plotly.v1+json": {
       "config": {
        "plotlyServerURL": "https://plot.ly"
       },
       "data": [
        {
         "domain": {
          "x": [
           0,
           1
          ],
          "y": [
           0,
           1
          ]
         },
         "hovertemplate": "label=%{label}<br>value=%{value}<extra></extra>",
         "labels": [
          "Obitos Nenhuma escolaridade",
          "Obitos Nenhuma escolaridade",
          "Obitos Nenhuma escolaridade",
          "Obitos Nenhuma escolaridade",
          "Obitos Nenhuma escolaridade",
          "Obitos Nenhuma escolaridade",
          "Obitos Nenhuma escolaridade",
          "Obitos Nenhuma escolaridade",
          "Obitos Nenhuma escolaridade",
          "Obitos Nenhuma escolaridade",
          "Obitos Nenhuma escolaridade",
          "Obitos Nenhuma escolaridade",
          "Obitos Nenhuma escolaridade",
          "Obitos Nenhuma escolaridade",
          "Obitos Nenhuma escolaridade",
          "Obitos Nenhuma escolaridade",
          "Obitos Nenhuma escolaridade",
          "Obitos Nenhuma escolaridade",
          "Obitos Nenhuma escolaridade",
          "Obitos Nenhuma escolaridade",
          "Obitos Nenhuma escolaridade",
          "Obitos Nenhuma escolaridade",
          "Obitos Nenhuma escolaridade",
          "Obitos Nenhuma escolaridade",
          "Obitos Nenhuma escolaridade",
          "Obitos Nenhuma escolaridade",
          "Obitos Nenhuma escolaridade",
          "Obitos Nenhuma escolaridade",
          "Obitos Nenhuma escolaridade",
          "Obitos Nenhuma escolaridade",
          "Obitos Nenhuma escolaridade",
          "Obitos Nenhuma escolaridade",
          "Obitos Nenhuma escolaridade",
          "Obitos Nenhuma escolaridade",
          "Obitos Nenhuma escolaridade",
          "Obitos Nenhuma escolaridade",
          "Obitos Nenhuma escolaridade",
          "Obitos Nenhuma escolaridade",
          "Obitos Nenhuma escolaridade",
          "Obitos Nenhuma escolaridade",
          "Obitos Nenhuma escolaridade",
          "Obitos Nenhuma escolaridade",
          "Obitos Nenhuma escolaridade",
          "Obitos Nenhuma escolaridade",
          "Obitos Nenhuma escolaridade",
          "Obitos Nenhuma escolaridade",
          "Obitos Nenhuma escolaridade",
          "Obitos Nenhuma escolaridade",
          "Obitos Nenhuma escolaridade",
          "Obitos Nenhuma escolaridade",
          "Obitos Nenhuma escolaridade",
          "Obitos Nenhuma escolaridade",
          "Obitos Nenhuma escolaridade",
          "Obitos Nenhuma escolaridade",
          "Obitos Nenhuma escolaridade",
          "Obitos Nenhuma escolaridade",
          "Obitos Nenhuma escolaridade",
          "Obitos Nenhuma escolaridade",
          "Obitos Nenhuma escolaridade",
          "Obitos Nenhuma escolaridade",
          "Obitos Nenhuma escolaridade",
          "Obitos Nenhuma escolaridade",
          "Obitos Nenhuma escolaridade",
          "Obitos Nenhuma escolaridade",
          "Obitos Nenhuma escolaridade",
          "Obitos Nenhuma escolaridade",
          "Obitos Nenhuma escolaridade",
          "Obitos Nenhuma escolaridade",
          "Obitos Nenhuma escolaridade",
          "Obitos Nenhuma escolaridade",
          "Obitos Nenhuma escolaridade",
          "Obitos Nenhuma escolaridade",
          "Obitos Nenhuma escolaridade",
          "Obitos Nenhuma escolaridade",
          "Obitos Nenhuma escolaridade",
          "Obitos Nenhuma escolaridade",
          "Obitos Nenhuma escolaridade",
          "Obitos Nenhuma escolaridade",
          "Obitos Nenhuma escolaridade",
          "Obitos Nenhuma escolaridade",
          "Obitos Nenhuma escolaridade",
          "Obitos Nenhuma escolaridade",
          "Obitos Nenhuma escolaridade",
          "Obitos Nenhuma escolaridade",
          "Obitos Nenhuma escolaridade",
          "Obitos Nenhuma escolaridade",
          "Obitos Nenhuma escolaridade",
          "Obitos Nenhuma escolaridade",
          "Obitos Nenhuma escolaridade",
          "Obitos Nenhuma escolaridade",
          "Obitos Nenhuma escolaridade",
          "Obitos Nenhuma escolaridade",
          "Obitos Nenhuma escolaridade",
          "Obitos Nenhuma escolaridade",
          "Obitos Nenhuma escolaridade",
          "Obitos Nenhuma escolaridade",
          "Obitos Nenhuma escolaridade",
          "Obitos Nenhuma escolaridade",
          "Obitos Nenhuma escolaridade",
          "Obitos Nenhuma escolaridade",
          "Obitos Nenhuma escolaridade",
          "Obitos Nenhuma escolaridade",
          "Obitos Nenhuma escolaridade",
          "Obitos Nenhuma escolaridade",
          "Obitos Nenhuma escolaridade",
          "Obitos Nenhuma escolaridade",
          "Obitos Nenhuma escolaridade",
          "Obitos Nenhuma escolaridade",
          "Obitos Nenhuma escolaridade",
          "Obitos Nenhuma escolaridade",
          "Obitos Nenhuma escolaridade",
          "Obitos Nenhuma escolaridade",
          "Obitos Nenhuma escolaridade",
          "Obitos Nenhuma escolaridade",
          "Obitos Nenhuma escolaridade",
          "Obitos Nenhuma escolaridade",
          "Obitos Nenhuma escolaridade",
          "Obitos Nenhuma escolaridade",
          "Obitos Nenhuma escolaridade",
          "Obitos Nenhuma escolaridade",
          "Obitos Nenhuma escolaridade",
          "Obitos Nenhuma escolaridade",
          "Obitos Nenhuma escolaridade",
          "Obitos Nenhuma escolaridade",
          "Obitos Nenhuma escolaridade",
          "Obitos Nenhuma escolaridade",
          "Obitos Nenhuma escolaridade",
          "Obitos Nenhuma escolaridade",
          "Obitos Nenhuma escolaridade",
          "Obitos Nenhuma escolaridade",
          "Obitos Nenhuma escolaridade",
          "Obitos Nenhuma escolaridade",
          "Obitos Nenhuma escolaridade",
          "Obitos Nenhuma escolaridade",
          "Obitos Nenhuma escolaridade",
          "Obitos Nenhuma escolaridade",
          "Obitos Nenhuma escolaridade",
          "Obitos Nenhuma escolaridade",
          "Obitos Nenhuma escolaridade",
          "Obitos Nenhuma escolaridade",
          "Obitos Nenhuma escolaridade",
          "Obitos Nenhuma escolaridade",
          "Obitos Nenhuma escolaridade",
          "Obitos Nenhuma escolaridade",
          "Obitos Nenhuma escolaridade",
          "Obitos Nenhuma escolaridade",
          "Obitos Nenhuma escolaridade",
          "Obitos Nenhuma escolaridade",
          "Obitos Nenhuma escolaridade",
          "Obitos Nenhuma escolaridade",
          "Obitos Nenhuma escolaridade",
          "Obitos Nenhuma escolaridade",
          "Obitos Nenhuma escolaridade",
          "Obitos Nenhuma escolaridade",
          "Obitos Nenhuma escolaridade",
          "Obitos Nenhuma escolaridade",
          "Obitos Nenhuma escolaridade",
          "Obitos Nenhuma escolaridade",
          "Obitos Nenhuma escolaridade",
          "Obitos Nenhuma escolaridade",
          "Obitos Nenhuma escolaridade",
          "Obitos Nenhuma escolaridade",
          "Obitos Nenhuma escolaridade",
          "Obitos Nenhuma escolaridade",
          "Obitos Nenhuma escolaridade",
          "Obitos Nenhuma escolaridade",
          "Obitos Nenhuma escolaridade",
          "Obitos Nenhuma escolaridade",
          "Obitos Nenhuma escolaridade",
          "Obitos Nenhuma escolaridade",
          "Obitos Nenhuma escolaridade",
          "Obitos Nenhuma escolaridade",
          "Obitos Nenhuma escolaridade",
          "Obitos Nenhuma escolaridade",
          "Obitos Nenhuma escolaridade",
          "Obitos Nenhuma escolaridade",
          "Obitos Nenhuma escolaridade",
          "Obitos Nenhuma escolaridade",
          "Obitos Nenhuma escolaridade",
          "Obitos Nenhuma escolaridade",
          "Obitos Nenhuma escolaridade",
          "Obitos Nenhuma escolaridade",
          "Obitos Nenhuma escolaridade",
          "Obitos Nenhuma escolaridade",
          "Obitos Nenhuma escolaridade",
          "Obitos Nenhuma escolaridade",
          "Obitos Nenhuma escolaridade",
          "Obitos Nenhuma escolaridade",
          "Obitos Nenhuma escolaridade",
          "Obitos Nenhuma escolaridade",
          "Obitos Nenhuma escolaridade",
          "Obitos Nenhuma escolaridade",
          "Obitos Nenhuma escolaridade",
          "Obitos Nenhuma escolaridade",
          "Obitos Nenhuma escolaridade",
          "Obitos Nenhuma escolaridade",
          "Obitos Nenhuma escolaridade",
          "Obitos Nenhuma escolaridade",
          "Obitos Nenhuma escolaridade",
          "Obitos 1 a 3 anos escolaridade",
          "Obitos 1 a 3 anos escolaridade",
          "Obitos 1 a 3 anos escolaridade",
          "Obitos 1 a 3 anos escolaridade",
          "Obitos 1 a 3 anos escolaridade",
          "Obitos 1 a 3 anos escolaridade",
          "Obitos 1 a 3 anos escolaridade",
          "Obitos 1 a 3 anos escolaridade",
          "Obitos 1 a 3 anos escolaridade",
          "Obitos 1 a 3 anos escolaridade",
          "Obitos 1 a 3 anos escolaridade",
          "Obitos 1 a 3 anos escolaridade",
          "Obitos 1 a 3 anos escolaridade",
          "Obitos 1 a 3 anos escolaridade",
          "Obitos 1 a 3 anos escolaridade",
          "Obitos 1 a 3 anos escolaridade",
          "Obitos 1 a 3 anos escolaridade",
          "Obitos 1 a 3 anos escolaridade",
          "Obitos 1 a 3 anos escolaridade",
          "Obitos 1 a 3 anos escolaridade",
          "Obitos 1 a 3 anos escolaridade",
          "Obitos 1 a 3 anos escolaridade",
          "Obitos 1 a 3 anos escolaridade",
          "Obitos 1 a 3 anos escolaridade",
          "Obitos 1 a 3 anos escolaridade",
          "Obitos 1 a 3 anos escolaridade",
          "Obitos 1 a 3 anos escolaridade",
          "Obitos 1 a 3 anos escolaridade",
          "Obitos 1 a 3 anos escolaridade",
          "Obitos 1 a 3 anos escolaridade",
          "Obitos 1 a 3 anos escolaridade",
          "Obitos 1 a 3 anos escolaridade",
          "Obitos 1 a 3 anos escolaridade",
          "Obitos 1 a 3 anos escolaridade",
          "Obitos 1 a 3 anos escolaridade",
          "Obitos 1 a 3 anos escolaridade",
          "Obitos 1 a 3 anos escolaridade",
          "Obitos 1 a 3 anos escolaridade",
          "Obitos 1 a 3 anos escolaridade",
          "Obitos 1 a 3 anos escolaridade",
          "Obitos 1 a 3 anos escolaridade",
          "Obitos 1 a 3 anos escolaridade",
          "Obitos 1 a 3 anos escolaridade",
          "Obitos 1 a 3 anos escolaridade",
          "Obitos 1 a 3 anos escolaridade",
          "Obitos 1 a 3 anos escolaridade",
          "Obitos 1 a 3 anos escolaridade",
          "Obitos 1 a 3 anos escolaridade",
          "Obitos 1 a 3 anos escolaridade",
          "Obitos 1 a 3 anos escolaridade",
          "Obitos 1 a 3 anos escolaridade",
          "Obitos 1 a 3 anos escolaridade",
          "Obitos 1 a 3 anos escolaridade",
          "Obitos 1 a 3 anos escolaridade",
          "Obitos 1 a 3 anos escolaridade",
          "Obitos 1 a 3 anos escolaridade",
          "Obitos 1 a 3 anos escolaridade",
          "Obitos 1 a 3 anos escolaridade",
          "Obitos 1 a 3 anos escolaridade",
          "Obitos 1 a 3 anos escolaridade",
          "Obitos 1 a 3 anos escolaridade",
          "Obitos 1 a 3 anos escolaridade",
          "Obitos 1 a 3 anos escolaridade",
          "Obitos 1 a 3 anos escolaridade",
          "Obitos 1 a 3 anos escolaridade",
          "Obitos 1 a 3 anos escolaridade",
          "Obitos 1 a 3 anos escolaridade",
          "Obitos 1 a 3 anos escolaridade",
          "Obitos 1 a 3 anos escolaridade",
          "Obitos 1 a 3 anos escolaridade",
          "Obitos 1 a 3 anos escolaridade",
          "Obitos 1 a 3 anos escolaridade",
          "Obitos 1 a 3 anos escolaridade",
          "Obitos 1 a 3 anos escolaridade",
          "Obitos 1 a 3 anos escolaridade",
          "Obitos 1 a 3 anos escolaridade",
          "Obitos 1 a 3 anos escolaridade",
          "Obitos 1 a 3 anos escolaridade",
          "Obitos 1 a 3 anos escolaridade",
          "Obitos 1 a 3 anos escolaridade",
          "Obitos 1 a 3 anos escolaridade",
          "Obitos 1 a 3 anos escolaridade",
          "Obitos 1 a 3 anos escolaridade",
          "Obitos 1 a 3 anos escolaridade",
          "Obitos 1 a 3 anos escolaridade",
          "Obitos 1 a 3 anos escolaridade",
          "Obitos 1 a 3 anos escolaridade",
          "Obitos 1 a 3 anos escolaridade",
          "Obitos 1 a 3 anos escolaridade",
          "Obitos 1 a 3 anos escolaridade",
          "Obitos 1 a 3 anos escolaridade",
          "Obitos 1 a 3 anos escolaridade",
          "Obitos 1 a 3 anos escolaridade",
          "Obitos 1 a 3 anos escolaridade",
          "Obitos 1 a 3 anos escolaridade",
          "Obitos 1 a 3 anos escolaridade",
          "Obitos 1 a 3 anos escolaridade",
          "Obitos 1 a 3 anos escolaridade",
          "Obitos 1 a 3 anos escolaridade",
          "Obitos 1 a 3 anos escolaridade",
          "Obitos 1 a 3 anos escolaridade",
          "Obitos 1 a 3 anos escolaridade",
          "Obitos 1 a 3 anos escolaridade",
          "Obitos 1 a 3 anos escolaridade",
          "Obitos 1 a 3 anos escolaridade",
          "Obitos 1 a 3 anos escolaridade",
          "Obitos 1 a 3 anos escolaridade",
          "Obitos 1 a 3 anos escolaridade",
          "Obitos 1 a 3 anos escolaridade",
          "Obitos 1 a 3 anos escolaridade",
          "Obitos 1 a 3 anos escolaridade",
          "Obitos 1 a 3 anos escolaridade",
          "Obitos 1 a 3 anos escolaridade",
          "Obitos 1 a 3 anos escolaridade",
          "Obitos 1 a 3 anos escolaridade",
          "Obitos 1 a 3 anos escolaridade",
          "Obitos 1 a 3 anos escolaridade",
          "Obitos 1 a 3 anos escolaridade",
          "Obitos 1 a 3 anos escolaridade",
          "Obitos 1 a 3 anos escolaridade",
          "Obitos 1 a 3 anos escolaridade",
          "Obitos 1 a 3 anos escolaridade",
          "Obitos 1 a 3 anos escolaridade",
          "Obitos 1 a 3 anos escolaridade",
          "Obitos 1 a 3 anos escolaridade",
          "Obitos 1 a 3 anos escolaridade",
          "Obitos 1 a 3 anos escolaridade",
          "Obitos 1 a 3 anos escolaridade",
          "Obitos 1 a 3 anos escolaridade",
          "Obitos 1 a 3 anos escolaridade",
          "Obitos 1 a 3 anos escolaridade",
          "Obitos 1 a 3 anos escolaridade",
          "Obitos 1 a 3 anos escolaridade",
          "Obitos 1 a 3 anos escolaridade",
          "Obitos 1 a 3 anos escolaridade",
          "Obitos 1 a 3 anos escolaridade",
          "Obitos 1 a 3 anos escolaridade",
          "Obitos 1 a 3 anos escolaridade",
          "Obitos 1 a 3 anos escolaridade",
          "Obitos 1 a 3 anos escolaridade",
          "Obitos 1 a 3 anos escolaridade",
          "Obitos 1 a 3 anos escolaridade",
          "Obitos 1 a 3 anos escolaridade",
          "Obitos 1 a 3 anos escolaridade",
          "Obitos 1 a 3 anos escolaridade",
          "Obitos 1 a 3 anos escolaridade",
          "Obitos 1 a 3 anos escolaridade",
          "Obitos 1 a 3 anos escolaridade",
          "Obitos 1 a 3 anos escolaridade",
          "Obitos 1 a 3 anos escolaridade",
          "Obitos 1 a 3 anos escolaridade",
          "Obitos 1 a 3 anos escolaridade",
          "Obitos 1 a 3 anos escolaridade",
          "Obitos 1 a 3 anos escolaridade",
          "Obitos 1 a 3 anos escolaridade",
          "Obitos 1 a 3 anos escolaridade",
          "Obitos 1 a 3 anos escolaridade",
          "Obitos 1 a 3 anos escolaridade",
          "Obitos 1 a 3 anos escolaridade",
          "Obitos 1 a 3 anos escolaridade",
          "Obitos 1 a 3 anos escolaridade",
          "Obitos 1 a 3 anos escolaridade",
          "Obitos 1 a 3 anos escolaridade",
          "Obitos 1 a 3 anos escolaridade",
          "Obitos 1 a 3 anos escolaridade",
          "Obitos 1 a 3 anos escolaridade",
          "Obitos 1 a 3 anos escolaridade",
          "Obitos 1 a 3 anos escolaridade",
          "Obitos 1 a 3 anos escolaridade",
          "Obitos 1 a 3 anos escolaridade",
          "Obitos 1 a 3 anos escolaridade",
          "Obitos 1 a 3 anos escolaridade",
          "Obitos 1 a 3 anos escolaridade",
          "Obitos 1 a 3 anos escolaridade",
          "Obitos 1 a 3 anos escolaridade",
          "Obitos 1 a 3 anos escolaridade",
          "Obitos 1 a 3 anos escolaridade",
          "Obitos 1 a 3 anos escolaridade",
          "Obitos 1 a 3 anos escolaridade",
          "Obitos 1 a 3 anos escolaridade",
          "Obitos 1 a 3 anos escolaridade",
          "Obitos 1 a 3 anos escolaridade",
          "Obitos 1 a 3 anos escolaridade",
          "Obitos 1 a 3 anos escolaridade",
          "Obitos 1 a 3 anos escolaridade",
          "Obitos 1 a 3 anos escolaridade",
          "Obitos 1 a 3 anos escolaridade",
          "Obitos 1 a 3 anos escolaridade",
          "Obitos 1 a 3 anos escolaridade",
          "Obitos 1 a 3 anos escolaridade",
          "Obitos 1 a 3 anos escolaridade",
          "Obitos 1 a 3 anos escolaridade",
          "Obitos 1 a 3 anos escolaridade",
          "Obitos 1 a 3 anos escolaridade",
          "Obitos 1 a 3 anos escolaridade",
          "Obitos 1 a 3 anos escolaridade",
          "Obitos 1 a 3 anos escolaridade",
          "Obitos 1 a 3 anos escolaridade",
          "Obitos 1 a 3 anos escolaridade",
          "Obitos 4 a 7 anos escolaridade",
          "Obitos 4 a 7 anos escolaridade",
          "Obitos 4 a 7 anos escolaridade",
          "Obitos 4 a 7 anos escolaridade",
          "Obitos 4 a 7 anos escolaridade",
          "Obitos 4 a 7 anos escolaridade",
          "Obitos 4 a 7 anos escolaridade",
          "Obitos 4 a 7 anos escolaridade",
          "Obitos 4 a 7 anos escolaridade",
          "Obitos 4 a 7 anos escolaridade",
          "Obitos 4 a 7 anos escolaridade",
          "Obitos 4 a 7 anos escolaridade",
          "Obitos 4 a 7 anos escolaridade",
          "Obitos 4 a 7 anos escolaridade",
          "Obitos 4 a 7 anos escolaridade",
          "Obitos 4 a 7 anos escolaridade",
          "Obitos 4 a 7 anos escolaridade",
          "Obitos 4 a 7 anos escolaridade",
          "Obitos 4 a 7 anos escolaridade",
          "Obitos 4 a 7 anos escolaridade",
          "Obitos 4 a 7 anos escolaridade",
          "Obitos 4 a 7 anos escolaridade",
          "Obitos 4 a 7 anos escolaridade",
          "Obitos 4 a 7 anos escolaridade",
          "Obitos 4 a 7 anos escolaridade",
          "Obitos 4 a 7 anos escolaridade",
          "Obitos 4 a 7 anos escolaridade",
          "Obitos 4 a 7 anos escolaridade",
          "Obitos 4 a 7 anos escolaridade",
          "Obitos 4 a 7 anos escolaridade",
          "Obitos 4 a 7 anos escolaridade",
          "Obitos 4 a 7 anos escolaridade",
          "Obitos 4 a 7 anos escolaridade",
          "Obitos 4 a 7 anos escolaridade",
          "Obitos 4 a 7 anos escolaridade",
          "Obitos 4 a 7 anos escolaridade",
          "Obitos 4 a 7 anos escolaridade",
          "Obitos 4 a 7 anos escolaridade",
          "Obitos 4 a 7 anos escolaridade",
          "Obitos 4 a 7 anos escolaridade",
          "Obitos 4 a 7 anos escolaridade",
          "Obitos 4 a 7 anos escolaridade",
          "Obitos 4 a 7 anos escolaridade",
          "Obitos 4 a 7 anos escolaridade",
          "Obitos 4 a 7 anos escolaridade",
          "Obitos 4 a 7 anos escolaridade",
          "Obitos 4 a 7 anos escolaridade",
          "Obitos 4 a 7 anos escolaridade",
          "Obitos 4 a 7 anos escolaridade",
          "Obitos 4 a 7 anos escolaridade",
          "Obitos 4 a 7 anos escolaridade",
          "Obitos 4 a 7 anos escolaridade",
          "Obitos 4 a 7 anos escolaridade",
          "Obitos 4 a 7 anos escolaridade",
          "Obitos 4 a 7 anos escolaridade",
          "Obitos 4 a 7 anos escolaridade",
          "Obitos 4 a 7 anos escolaridade",
          "Obitos 4 a 7 anos escolaridade",
          "Obitos 4 a 7 anos escolaridade",
          "Obitos 4 a 7 anos escolaridade",
          "Obitos 4 a 7 anos escolaridade",
          "Obitos 4 a 7 anos escolaridade",
          "Obitos 4 a 7 anos escolaridade",
          "Obitos 4 a 7 anos escolaridade",
          "Obitos 4 a 7 anos escolaridade",
          "Obitos 4 a 7 anos escolaridade",
          "Obitos 4 a 7 anos escolaridade",
          "Obitos 4 a 7 anos escolaridade",
          "Obitos 4 a 7 anos escolaridade",
          "Obitos 4 a 7 anos escolaridade",
          "Obitos 4 a 7 anos escolaridade",
          "Obitos 4 a 7 anos escolaridade",
          "Obitos 4 a 7 anos escolaridade",
          "Obitos 4 a 7 anos escolaridade",
          "Obitos 4 a 7 anos escolaridade",
          "Obitos 4 a 7 anos escolaridade",
          "Obitos 4 a 7 anos escolaridade",
          "Obitos 4 a 7 anos escolaridade",
          "Obitos 4 a 7 anos escolaridade",
          "Obitos 4 a 7 anos escolaridade",
          "Obitos 4 a 7 anos escolaridade",
          "Obitos 4 a 7 anos escolaridade",
          "Obitos 4 a 7 anos escolaridade",
          "Obitos 4 a 7 anos escolaridade",
          "Obitos 4 a 7 anos escolaridade",
          "Obitos 4 a 7 anos escolaridade",
          "Obitos 4 a 7 anos escolaridade",
          "Obitos 4 a 7 anos escolaridade",
          "Obitos 4 a 7 anos escolaridade",
          "Obitos 4 a 7 anos escolaridade",
          "Obitos 4 a 7 anos escolaridade",
          "Obitos 4 a 7 anos escolaridade",
          "Obitos 4 a 7 anos escolaridade",
          "Obitos 4 a 7 anos escolaridade",
          "Obitos 4 a 7 anos escolaridade",
          "Obitos 4 a 7 anos escolaridade",
          "Obitos 4 a 7 anos escolaridade",
          "Obitos 4 a 7 anos escolaridade",
          "Obitos 4 a 7 anos escolaridade",
          "Obitos 4 a 7 anos escolaridade",
          "Obitos 4 a 7 anos escolaridade",
          "Obitos 4 a 7 anos escolaridade",
          "Obitos 4 a 7 anos escolaridade",
          "Obitos 4 a 7 anos escolaridade",
          "Obitos 4 a 7 anos escolaridade",
          "Obitos 4 a 7 anos escolaridade",
          "Obitos 4 a 7 anos escolaridade",
          "Obitos 4 a 7 anos escolaridade",
          "Obitos 4 a 7 anos escolaridade",
          "Obitos 4 a 7 anos escolaridade",
          "Obitos 4 a 7 anos escolaridade",
          "Obitos 4 a 7 anos escolaridade",
          "Obitos 4 a 7 anos escolaridade",
          "Obitos 4 a 7 anos escolaridade",
          "Obitos 4 a 7 anos escolaridade",
          "Obitos 4 a 7 anos escolaridade",
          "Obitos 4 a 7 anos escolaridade",
          "Obitos 4 a 7 anos escolaridade",
          "Obitos 4 a 7 anos escolaridade",
          "Obitos 4 a 7 anos escolaridade",
          "Obitos 4 a 7 anos escolaridade",
          "Obitos 4 a 7 anos escolaridade",
          "Obitos 4 a 7 anos escolaridade",
          "Obitos 4 a 7 anos escolaridade",
          "Obitos 4 a 7 anos escolaridade",
          "Obitos 4 a 7 anos escolaridade",
          "Obitos 4 a 7 anos escolaridade",
          "Obitos 4 a 7 anos escolaridade",
          "Obitos 4 a 7 anos escolaridade",
          "Obitos 4 a 7 anos escolaridade",
          "Obitos 4 a 7 anos escolaridade",
          "Obitos 4 a 7 anos escolaridade",
          "Obitos 4 a 7 anos escolaridade",
          "Obitos 4 a 7 anos escolaridade",
          "Obitos 4 a 7 anos escolaridade",
          "Obitos 4 a 7 anos escolaridade",
          "Obitos 4 a 7 anos escolaridade",
          "Obitos 4 a 7 anos escolaridade",
          "Obitos 4 a 7 anos escolaridade",
          "Obitos 4 a 7 anos escolaridade",
          "Obitos 4 a 7 anos escolaridade",
          "Obitos 4 a 7 anos escolaridade",
          "Obitos 4 a 7 anos escolaridade",
          "Obitos 4 a 7 anos escolaridade",
          "Obitos 4 a 7 anos escolaridade",
          "Obitos 4 a 7 anos escolaridade",
          "Obitos 4 a 7 anos escolaridade",
          "Obitos 4 a 7 anos escolaridade",
          "Obitos 4 a 7 anos escolaridade",
          "Obitos 4 a 7 anos escolaridade",
          "Obitos 4 a 7 anos escolaridade",
          "Obitos 4 a 7 anos escolaridade",
          "Obitos 4 a 7 anos escolaridade",
          "Obitos 4 a 7 anos escolaridade",
          "Obitos 4 a 7 anos escolaridade",
          "Obitos 4 a 7 anos escolaridade",
          "Obitos 4 a 7 anos escolaridade",
          "Obitos 4 a 7 anos escolaridade",
          "Obitos 4 a 7 anos escolaridade",
          "Obitos 4 a 7 anos escolaridade",
          "Obitos 4 a 7 anos escolaridade",
          "Obitos 4 a 7 anos escolaridade",
          "Obitos 4 a 7 anos escolaridade",
          "Obitos 4 a 7 anos escolaridade",
          "Obitos 4 a 7 anos escolaridade",
          "Obitos 4 a 7 anos escolaridade",
          "Obitos 4 a 7 anos escolaridade",
          "Obitos 4 a 7 anos escolaridade",
          "Obitos 4 a 7 anos escolaridade",
          "Obitos 4 a 7 anos escolaridade",
          "Obitos 4 a 7 anos escolaridade",
          "Obitos 4 a 7 anos escolaridade",
          "Obitos 4 a 7 anos escolaridade",
          "Obitos 4 a 7 anos escolaridade",
          "Obitos 4 a 7 anos escolaridade",
          "Obitos 4 a 7 anos escolaridade",
          "Obitos 4 a 7 anos escolaridade",
          "Obitos 4 a 7 anos escolaridade",
          "Obitos 4 a 7 anos escolaridade",
          "Obitos 4 a 7 anos escolaridade",
          "Obitos 4 a 7 anos escolaridade",
          "Obitos 4 a 7 anos escolaridade",
          "Obitos 4 a 7 anos escolaridade",
          "Obitos 4 a 7 anos escolaridade",
          "Obitos 4 a 7 anos escolaridade",
          "Obitos 4 a 7 anos escolaridade",
          "Obitos 4 a 7 anos escolaridade",
          "Obitos 4 a 7 anos escolaridade",
          "Obitos 4 a 7 anos escolaridade",
          "Obitos 4 a 7 anos escolaridade",
          "Obitos 4 a 7 anos escolaridade",
          "Obitos 4 a 7 anos escolaridade",
          "Obitos 4 a 7 anos escolaridade",
          "Obitos 4 a 7 anos escolaridade",
          "Obitos 4 a 7 anos escolaridade",
          "Obitos 4 a 7 anos escolaridade",
          "Obitos 4 a 7 anos escolaridade",
          "Obitos 4 a 7 anos escolaridade",
          "Obitos 4 a 7 anos escolaridade",
          "Obitos 8 a 11 anos escolaridade",
          "Obitos 8 a 11 anos escolaridade",
          "Obitos 8 a 11 anos escolaridade",
          "Obitos 8 a 11 anos escolaridade",
          "Obitos 8 a 11 anos escolaridade",
          "Obitos 8 a 11 anos escolaridade",
          "Obitos 8 a 11 anos escolaridade",
          "Obitos 8 a 11 anos escolaridade",
          "Obitos 8 a 11 anos escolaridade",
          "Obitos 8 a 11 anos escolaridade",
          "Obitos 8 a 11 anos escolaridade",
          "Obitos 8 a 11 anos escolaridade",
          "Obitos 8 a 11 anos escolaridade",
          "Obitos 8 a 11 anos escolaridade",
          "Obitos 8 a 11 anos escolaridade",
          "Obitos 8 a 11 anos escolaridade",
          "Obitos 8 a 11 anos escolaridade",
          "Obitos 8 a 11 anos escolaridade",
          "Obitos 8 a 11 anos escolaridade",
          "Obitos 8 a 11 anos escolaridade",
          "Obitos 8 a 11 anos escolaridade",
          "Obitos 8 a 11 anos escolaridade",
          "Obitos 8 a 11 anos escolaridade",
          "Obitos 8 a 11 anos escolaridade",
          "Obitos 8 a 11 anos escolaridade",
          "Obitos 8 a 11 anos escolaridade",
          "Obitos 8 a 11 anos escolaridade",
          "Obitos 8 a 11 anos escolaridade",
          "Obitos 8 a 11 anos escolaridade",
          "Obitos 8 a 11 anos escolaridade",
          "Obitos 8 a 11 anos escolaridade",
          "Obitos 8 a 11 anos escolaridade",
          "Obitos 8 a 11 anos escolaridade",
          "Obitos 8 a 11 anos escolaridade",
          "Obitos 8 a 11 anos escolaridade",
          "Obitos 8 a 11 anos escolaridade",
          "Obitos 8 a 11 anos escolaridade",
          "Obitos 8 a 11 anos escolaridade",
          "Obitos 8 a 11 anos escolaridade",
          "Obitos 8 a 11 anos escolaridade",
          "Obitos 8 a 11 anos escolaridade",
          "Obitos 8 a 11 anos escolaridade",
          "Obitos 8 a 11 anos escolaridade",
          "Obitos 8 a 11 anos escolaridade",
          "Obitos 8 a 11 anos escolaridade",
          "Obitos 8 a 11 anos escolaridade",
          "Obitos 8 a 11 anos escolaridade",
          "Obitos 8 a 11 anos escolaridade",
          "Obitos 8 a 11 anos escolaridade",
          "Obitos 8 a 11 anos escolaridade",
          "Obitos 8 a 11 anos escolaridade",
          "Obitos 8 a 11 anos escolaridade",
          "Obitos 8 a 11 anos escolaridade",
          "Obitos 8 a 11 anos escolaridade",
          "Obitos 8 a 11 anos escolaridade",
          "Obitos 8 a 11 anos escolaridade",
          "Obitos 8 a 11 anos escolaridade",
          "Obitos 8 a 11 anos escolaridade",
          "Obitos 8 a 11 anos escolaridade",
          "Obitos 8 a 11 anos escolaridade",
          "Obitos 8 a 11 anos escolaridade",
          "Obitos 8 a 11 anos escolaridade",
          "Obitos 8 a 11 anos escolaridade",
          "Obitos 8 a 11 anos escolaridade",
          "Obitos 8 a 11 anos escolaridade",
          "Obitos 8 a 11 anos escolaridade",
          "Obitos 8 a 11 anos escolaridade",
          "Obitos 8 a 11 anos escolaridade",
          "Obitos 8 a 11 anos escolaridade",
          "Obitos 8 a 11 anos escolaridade",
          "Obitos 8 a 11 anos escolaridade",
          "Obitos 8 a 11 anos escolaridade",
          "Obitos 8 a 11 anos escolaridade",
          "Obitos 8 a 11 anos escolaridade",
          "Obitos 8 a 11 anos escolaridade",
          "Obitos 8 a 11 anos escolaridade",
          "Obitos 8 a 11 anos escolaridade",
          "Obitos 8 a 11 anos escolaridade",
          "Obitos 8 a 11 anos escolaridade",
          "Obitos 8 a 11 anos escolaridade",
          "Obitos 8 a 11 anos escolaridade",
          "Obitos 8 a 11 anos escolaridade",
          "Obitos 8 a 11 anos escolaridade",
          "Obitos 8 a 11 anos escolaridade",
          "Obitos 8 a 11 anos escolaridade",
          "Obitos 8 a 11 anos escolaridade",
          "Obitos 8 a 11 anos escolaridade",
          "Obitos 8 a 11 anos escolaridade",
          "Obitos 8 a 11 anos escolaridade",
          "Obitos 8 a 11 anos escolaridade",
          "Obitos 8 a 11 anos escolaridade",
          "Obitos 8 a 11 anos escolaridade",
          "Obitos 8 a 11 anos escolaridade",
          "Obitos 8 a 11 anos escolaridade",
          "Obitos 8 a 11 anos escolaridade",
          "Obitos 8 a 11 anos escolaridade",
          "Obitos 8 a 11 anos escolaridade",
          "Obitos 8 a 11 anos escolaridade",
          "Obitos 8 a 11 anos escolaridade",
          "Obitos 8 a 11 anos escolaridade",
          "Obitos 8 a 11 anos escolaridade",
          "Obitos 8 a 11 anos escolaridade",
          "Obitos 8 a 11 anos escolaridade",
          "Obitos 8 a 11 anos escolaridade",
          "Obitos 8 a 11 anos escolaridade",
          "Obitos 8 a 11 anos escolaridade",
          "Obitos 8 a 11 anos escolaridade",
          "Obitos 8 a 11 anos escolaridade",
          "Obitos 8 a 11 anos escolaridade",
          "Obitos 8 a 11 anos escolaridade",
          "Obitos 8 a 11 anos escolaridade",
          "Obitos 8 a 11 anos escolaridade",
          "Obitos 8 a 11 anos escolaridade",
          "Obitos 8 a 11 anos escolaridade",
          "Obitos 8 a 11 anos escolaridade",
          "Obitos 8 a 11 anos escolaridade",
          "Obitos 8 a 11 anos escolaridade",
          "Obitos 8 a 11 anos escolaridade",
          "Obitos 8 a 11 anos escolaridade",
          "Obitos 8 a 11 anos escolaridade",
          "Obitos 8 a 11 anos escolaridade",
          "Obitos 8 a 11 anos escolaridade",
          "Obitos 8 a 11 anos escolaridade",
          "Obitos 8 a 11 anos escolaridade",
          "Obitos 8 a 11 anos escolaridade",
          "Obitos 8 a 11 anos escolaridade",
          "Obitos 8 a 11 anos escolaridade",
          "Obitos 8 a 11 anos escolaridade",
          "Obitos 8 a 11 anos escolaridade",
          "Obitos 8 a 11 anos escolaridade",
          "Obitos 8 a 11 anos escolaridade",
          "Obitos 8 a 11 anos escolaridade",
          "Obitos 8 a 11 anos escolaridade",
          "Obitos 8 a 11 anos escolaridade",
          "Obitos 8 a 11 anos escolaridade",
          "Obitos 8 a 11 anos escolaridade",
          "Obitos 8 a 11 anos escolaridade",
          "Obitos 8 a 11 anos escolaridade",
          "Obitos 8 a 11 anos escolaridade",
          "Obitos 8 a 11 anos escolaridade",
          "Obitos 8 a 11 anos escolaridade",
          "Obitos 8 a 11 anos escolaridade",
          "Obitos 8 a 11 anos escolaridade",
          "Obitos 8 a 11 anos escolaridade",
          "Obitos 8 a 11 anos escolaridade",
          "Obitos 8 a 11 anos escolaridade",
          "Obitos 8 a 11 anos escolaridade",
          "Obitos 8 a 11 anos escolaridade",
          "Obitos 8 a 11 anos escolaridade",
          "Obitos 8 a 11 anos escolaridade",
          "Obitos 8 a 11 anos escolaridade",
          "Obitos 8 a 11 anos escolaridade",
          "Obitos 8 a 11 anos escolaridade",
          "Obitos 8 a 11 anos escolaridade",
          "Obitos 8 a 11 anos escolaridade",
          "Obitos 8 a 11 anos escolaridade",
          "Obitos 8 a 11 anos escolaridade",
          "Obitos 8 a 11 anos escolaridade",
          "Obitos 8 a 11 anos escolaridade",
          "Obitos 8 a 11 anos escolaridade",
          "Obitos 8 a 11 anos escolaridade",
          "Obitos 8 a 11 anos escolaridade",
          "Obitos 8 a 11 anos escolaridade",
          "Obitos 8 a 11 anos escolaridade",
          "Obitos 8 a 11 anos escolaridade",
          "Obitos 8 a 11 anos escolaridade",
          "Obitos 8 a 11 anos escolaridade",
          "Obitos 8 a 11 anos escolaridade",
          "Obitos 8 a 11 anos escolaridade",
          "Obitos 8 a 11 anos escolaridade",
          "Obitos 8 a 11 anos escolaridade",
          "Obitos 8 a 11 anos escolaridade",
          "Obitos 8 a 11 anos escolaridade",
          "Obitos 8 a 11 anos escolaridade",
          "Obitos 8 a 11 anos escolaridade",
          "Obitos 8 a 11 anos escolaridade",
          "Obitos 8 a 11 anos escolaridade",
          "Obitos 8 a 11 anos escolaridade",
          "Obitos 8 a 11 anos escolaridade",
          "Obitos 8 a 11 anos escolaridade",
          "Obitos 8 a 11 anos escolaridade",
          "Obitos 8 a 11 anos escolaridade",
          "Obitos 8 a 11 anos escolaridade",
          "Obitos 8 a 11 anos escolaridade",
          "Obitos 8 a 11 anos escolaridade",
          "Obitos 8 a 11 anos escolaridade",
          "Obitos 8 a 11 anos escolaridade",
          "Obitos 8 a 11 anos escolaridade",
          "Obitos 8 a 11 anos escolaridade",
          "Obitos 8 a 11 anos escolaridade",
          "Obitos 8 a 11 anos escolaridade",
          "Obitos 8 a 11 anos escolaridade",
          "Obitos 8 a 11 anos escolaridade",
          "Obitos 8 a 11 anos escolaridade",
          "Obitos 8 a 11 anos escolaridade",
          "Obitos 8 a 11 anos escolaridade",
          "Obitos 8 a 11 anos escolaridade",
          "Obitos 8 a 11 anos escolaridade",
          "Obitos 8 a 11 anos escolaridade",
          "Obitos 12 anos e mais escolaridade",
          "Obitos 12 anos e mais escolaridade",
          "Obitos 12 anos e mais escolaridade",
          "Obitos 12 anos e mais escolaridade",
          "Obitos 12 anos e mais escolaridade",
          "Obitos 12 anos e mais escolaridade",
          "Obitos 12 anos e mais escolaridade",
          "Obitos 12 anos e mais escolaridade",
          "Obitos 12 anos e mais escolaridade",
          "Obitos 12 anos e mais escolaridade",
          "Obitos 12 anos e mais escolaridade",
          "Obitos 12 anos e mais escolaridade",
          "Obitos 12 anos e mais escolaridade",
          "Obitos 12 anos e mais escolaridade",
          "Obitos 12 anos e mais escolaridade",
          "Obitos 12 anos e mais escolaridade",
          "Obitos 12 anos e mais escolaridade",
          "Obitos 12 anos e mais escolaridade",
          "Obitos 12 anos e mais escolaridade",
          "Obitos 12 anos e mais escolaridade",
          "Obitos 12 anos e mais escolaridade",
          "Obitos 12 anos e mais escolaridade",
          "Obitos 12 anos e mais escolaridade",
          "Obitos 12 anos e mais escolaridade",
          "Obitos 12 anos e mais escolaridade",
          "Obitos 12 anos e mais escolaridade",
          "Obitos 12 anos e mais escolaridade",
          "Obitos 12 anos e mais escolaridade",
          "Obitos 12 anos e mais escolaridade",
          "Obitos 12 anos e mais escolaridade",
          "Obitos 12 anos e mais escolaridade",
          "Obitos 12 anos e mais escolaridade",
          "Obitos 12 anos e mais escolaridade",
          "Obitos 12 anos e mais escolaridade",
          "Obitos 12 anos e mais escolaridade",
          "Obitos 12 anos e mais escolaridade",
          "Obitos 12 anos e mais escolaridade",
          "Obitos 12 anos e mais escolaridade",
          "Obitos 12 anos e mais escolaridade",
          "Obitos 12 anos e mais escolaridade",
          "Obitos 12 anos e mais escolaridade",
          "Obitos 12 anos e mais escolaridade",
          "Obitos 12 anos e mais escolaridade",
          "Obitos 12 anos e mais escolaridade",
          "Obitos 12 anos e mais escolaridade",
          "Obitos 12 anos e mais escolaridade",
          "Obitos 12 anos e mais escolaridade",
          "Obitos 12 anos e mais escolaridade",
          "Obitos 12 anos e mais escolaridade",
          "Obitos 12 anos e mais escolaridade",
          "Obitos 12 anos e mais escolaridade",
          "Obitos 12 anos e mais escolaridade",
          "Obitos 12 anos e mais escolaridade",
          "Obitos 12 anos e mais escolaridade",
          "Obitos 12 anos e mais escolaridade",
          "Obitos 12 anos e mais escolaridade",
          "Obitos 12 anos e mais escolaridade",
          "Obitos 12 anos e mais escolaridade",
          "Obitos 12 anos e mais escolaridade",
          "Obitos 12 anos e mais escolaridade",
          "Obitos 12 anos e mais escolaridade",
          "Obitos 12 anos e mais escolaridade",
          "Obitos 12 anos e mais escolaridade",
          "Obitos 12 anos e mais escolaridade",
          "Obitos 12 anos e mais escolaridade",
          "Obitos 12 anos e mais escolaridade",
          "Obitos 12 anos e mais escolaridade",
          "Obitos 12 anos e mais escolaridade",
          "Obitos 12 anos e mais escolaridade",
          "Obitos 12 anos e mais escolaridade",
          "Obitos 12 anos e mais escolaridade",
          "Obitos 12 anos e mais escolaridade",
          "Obitos 12 anos e mais escolaridade",
          "Obitos 12 anos e mais escolaridade",
          "Obitos 12 anos e mais escolaridade",
          "Obitos 12 anos e mais escolaridade",
          "Obitos 12 anos e mais escolaridade",
          "Obitos 12 anos e mais escolaridade",
          "Obitos 12 anos e mais escolaridade",
          "Obitos 12 anos e mais escolaridade",
          "Obitos 12 anos e mais escolaridade",
          "Obitos 12 anos e mais escolaridade",
          "Obitos 12 anos e mais escolaridade",
          "Obitos 12 anos e mais escolaridade",
          "Obitos 12 anos e mais escolaridade",
          "Obitos 12 anos e mais escolaridade",
          "Obitos 12 anos e mais escolaridade",
          "Obitos 12 anos e mais escolaridade",
          "Obitos 12 anos e mais escolaridade",
          "Obitos 12 anos e mais escolaridade",
          "Obitos 12 anos e mais escolaridade",
          "Obitos 12 anos e mais escolaridade",
          "Obitos 12 anos e mais escolaridade",
          "Obitos 12 anos e mais escolaridade",
          "Obitos 12 anos e mais escolaridade",
          "Obitos 12 anos e mais escolaridade",
          "Obitos 12 anos e mais escolaridade",
          "Obitos 12 anos e mais escolaridade",
          "Obitos 12 anos e mais escolaridade",
          "Obitos 12 anos e mais escolaridade",
          "Obitos 12 anos e mais escolaridade",
          "Obitos 12 anos e mais escolaridade",
          "Obitos 12 anos e mais escolaridade",
          "Obitos 12 anos e mais escolaridade",
          "Obitos 12 anos e mais escolaridade",
          "Obitos 12 anos e mais escolaridade",
          "Obitos 12 anos e mais escolaridade",
          "Obitos 12 anos e mais escolaridade",
          "Obitos 12 anos e mais escolaridade",
          "Obitos 12 anos e mais escolaridade",
          "Obitos 12 anos e mais escolaridade",
          "Obitos 12 anos e mais escolaridade",
          "Obitos 12 anos e mais escolaridade",
          "Obitos 12 anos e mais escolaridade",
          "Obitos 12 anos e mais escolaridade",
          "Obitos 12 anos e mais escolaridade",
          "Obitos 12 anos e mais escolaridade",
          "Obitos 12 anos e mais escolaridade",
          "Obitos 12 anos e mais escolaridade",
          "Obitos 12 anos e mais escolaridade",
          "Obitos 12 anos e mais escolaridade",
          "Obitos 12 anos e mais escolaridade",
          "Obitos 12 anos e mais escolaridade",
          "Obitos 12 anos e mais escolaridade",
          "Obitos 12 anos e mais escolaridade",
          "Obitos 12 anos e mais escolaridade",
          "Obitos 12 anos e mais escolaridade",
          "Obitos 12 anos e mais escolaridade",
          "Obitos 12 anos e mais escolaridade",
          "Obitos 12 anos e mais escolaridade",
          "Obitos 12 anos e mais escolaridade",
          "Obitos 12 anos e mais escolaridade",
          "Obitos 12 anos e mais escolaridade",
          "Obitos 12 anos e mais escolaridade",
          "Obitos 12 anos e mais escolaridade",
          "Obitos 12 anos e mais escolaridade",
          "Obitos 12 anos e mais escolaridade",
          "Obitos 12 anos e mais escolaridade",
          "Obitos 12 anos e mais escolaridade",
          "Obitos 12 anos e mais escolaridade",
          "Obitos 12 anos e mais escolaridade",
          "Obitos 12 anos e mais escolaridade",
          "Obitos 12 anos e mais escolaridade",
          "Obitos 12 anos e mais escolaridade",
          "Obitos 12 anos e mais escolaridade",
          "Obitos 12 anos e mais escolaridade",
          "Obitos 12 anos e mais escolaridade",
          "Obitos 12 anos e mais escolaridade",
          "Obitos 12 anos e mais escolaridade",
          "Obitos 12 anos e mais escolaridade",
          "Obitos 12 anos e mais escolaridade",
          "Obitos 12 anos e mais escolaridade",
          "Obitos 12 anos e mais escolaridade",
          "Obitos 12 anos e mais escolaridade",
          "Obitos 12 anos e mais escolaridade",
          "Obitos 12 anos e mais escolaridade",
          "Obitos 12 anos e mais escolaridade",
          "Obitos 12 anos e mais escolaridade",
          "Obitos 12 anos e mais escolaridade",
          "Obitos 12 anos e mais escolaridade",
          "Obitos 12 anos e mais escolaridade",
          "Obitos 12 anos e mais escolaridade",
          "Obitos 12 anos e mais escolaridade",
          "Obitos 12 anos e mais escolaridade",
          "Obitos 12 anos e mais escolaridade",
          "Obitos 12 anos e mais escolaridade",
          "Obitos 12 anos e mais escolaridade",
          "Obitos 12 anos e mais escolaridade",
          "Obitos 12 anos e mais escolaridade",
          "Obitos 12 anos e mais escolaridade",
          "Obitos 12 anos e mais escolaridade",
          "Obitos 12 anos e mais escolaridade",
          "Obitos 12 anos e mais escolaridade",
          "Obitos 12 anos e mais escolaridade",
          "Obitos 12 anos e mais escolaridade",
          "Obitos 12 anos e mais escolaridade",
          "Obitos 12 anos e mais escolaridade",
          "Obitos 12 anos e mais escolaridade",
          "Obitos 12 anos e mais escolaridade",
          "Obitos 12 anos e mais escolaridade",
          "Obitos 12 anos e mais escolaridade",
          "Obitos 12 anos e mais escolaridade",
          "Obitos 12 anos e mais escolaridade",
          "Obitos 12 anos e mais escolaridade",
          "Obitos 12 anos e mais escolaridade",
          "Obitos 12 anos e mais escolaridade",
          "Obitos 12 anos e mais escolaridade",
          "Obitos 12 anos e mais escolaridade",
          "Obitos 12 anos e mais escolaridade",
          "Obitos 12 anos e mais escolaridade",
          "Obitos 12 anos e mais escolaridade",
          "Obitos 12 anos e mais escolaridade",
          "Obitos 12 anos e mais escolaridade",
          "Obitos 12 anos e mais escolaridade",
          "Obitos 12 anos e mais escolaridade",
          "Obitos 12 anos e mais escolaridade",
          "Obitos 12 anos e mais escolaridade",
          "Obitos 12 anos e mais escolaridade",
          "Obitos 12 anos e mais escolaridade",
          "Obitos Escolaridade Ignorada",
          "Obitos Escolaridade Ignorada",
          "Obitos Escolaridade Ignorada",
          "Obitos Escolaridade Ignorada",
          "Obitos Escolaridade Ignorada",
          "Obitos Escolaridade Ignorada",
          "Obitos Escolaridade Ignorada",
          "Obitos Escolaridade Ignorada",
          "Obitos Escolaridade Ignorada",
          "Obitos Escolaridade Ignorada",
          "Obitos Escolaridade Ignorada",
          "Obitos Escolaridade Ignorada",
          "Obitos Escolaridade Ignorada",
          "Obitos Escolaridade Ignorada",
          "Obitos Escolaridade Ignorada",
          "Obitos Escolaridade Ignorada",
          "Obitos Escolaridade Ignorada",
          "Obitos Escolaridade Ignorada",
          "Obitos Escolaridade Ignorada",
          "Obitos Escolaridade Ignorada",
          "Obitos Escolaridade Ignorada",
          "Obitos Escolaridade Ignorada",
          "Obitos Escolaridade Ignorada",
          "Obitos Escolaridade Ignorada",
          "Obitos Escolaridade Ignorada",
          "Obitos Escolaridade Ignorada",
          "Obitos Escolaridade Ignorada",
          "Obitos Escolaridade Ignorada",
          "Obitos Escolaridade Ignorada",
          "Obitos Escolaridade Ignorada",
          "Obitos Escolaridade Ignorada",
          "Obitos Escolaridade Ignorada",
          "Obitos Escolaridade Ignorada",
          "Obitos Escolaridade Ignorada",
          "Obitos Escolaridade Ignorada",
          "Obitos Escolaridade Ignorada",
          "Obitos Escolaridade Ignorada",
          "Obitos Escolaridade Ignorada",
          "Obitos Escolaridade Ignorada",
          "Obitos Escolaridade Ignorada",
          "Obitos Escolaridade Ignorada",
          "Obitos Escolaridade Ignorada",
          "Obitos Escolaridade Ignorada",
          "Obitos Escolaridade Ignorada",
          "Obitos Escolaridade Ignorada",
          "Obitos Escolaridade Ignorada",
          "Obitos Escolaridade Ignorada",
          "Obitos Escolaridade Ignorada",
          "Obitos Escolaridade Ignorada",
          "Obitos Escolaridade Ignorada",
          "Obitos Escolaridade Ignorada",
          "Obitos Escolaridade Ignorada",
          "Obitos Escolaridade Ignorada",
          "Obitos Escolaridade Ignorada",
          "Obitos Escolaridade Ignorada",
          "Obitos Escolaridade Ignorada",
          "Obitos Escolaridade Ignorada",
          "Obitos Escolaridade Ignorada",
          "Obitos Escolaridade Ignorada",
          "Obitos Escolaridade Ignorada",
          "Obitos Escolaridade Ignorada",
          "Obitos Escolaridade Ignorada",
          "Obitos Escolaridade Ignorada",
          "Obitos Escolaridade Ignorada",
          "Obitos Escolaridade Ignorada",
          "Obitos Escolaridade Ignorada",
          "Obitos Escolaridade Ignorada",
          "Obitos Escolaridade Ignorada",
          "Obitos Escolaridade Ignorada",
          "Obitos Escolaridade Ignorada",
          "Obitos Escolaridade Ignorada",
          "Obitos Escolaridade Ignorada",
          "Obitos Escolaridade Ignorada",
          "Obitos Escolaridade Ignorada",
          "Obitos Escolaridade Ignorada",
          "Obitos Escolaridade Ignorada",
          "Obitos Escolaridade Ignorada",
          "Obitos Escolaridade Ignorada",
          "Obitos Escolaridade Ignorada",
          "Obitos Escolaridade Ignorada",
          "Obitos Escolaridade Ignorada",
          "Obitos Escolaridade Ignorada",
          "Obitos Escolaridade Ignorada",
          "Obitos Escolaridade Ignorada",
          "Obitos Escolaridade Ignorada",
          "Obitos Escolaridade Ignorada",
          "Obitos Escolaridade Ignorada",
          "Obitos Escolaridade Ignorada",
          "Obitos Escolaridade Ignorada",
          "Obitos Escolaridade Ignorada",
          "Obitos Escolaridade Ignorada",
          "Obitos Escolaridade Ignorada",
          "Obitos Escolaridade Ignorada",
          "Obitos Escolaridade Ignorada",
          "Obitos Escolaridade Ignorada",
          "Obitos Escolaridade Ignorada",
          "Obitos Escolaridade Ignorada",
          "Obitos Escolaridade Ignorada",
          "Obitos Escolaridade Ignorada",
          "Obitos Escolaridade Ignorada",
          "Obitos Escolaridade Ignorada",
          "Obitos Escolaridade Ignorada",
          "Obitos Escolaridade Ignorada",
          "Obitos Escolaridade Ignorada",
          "Obitos Escolaridade Ignorada",
          "Obitos Escolaridade Ignorada",
          "Obitos Escolaridade Ignorada",
          "Obitos Escolaridade Ignorada",
          "Obitos Escolaridade Ignorada",
          "Obitos Escolaridade Ignorada",
          "Obitos Escolaridade Ignorada",
          "Obitos Escolaridade Ignorada",
          "Obitos Escolaridade Ignorada",
          "Obitos Escolaridade Ignorada",
          "Obitos Escolaridade Ignorada",
          "Obitos Escolaridade Ignorada",
          "Obitos Escolaridade Ignorada",
          "Obitos Escolaridade Ignorada",
          "Obitos Escolaridade Ignorada",
          "Obitos Escolaridade Ignorada",
          "Obitos Escolaridade Ignorada",
          "Obitos Escolaridade Ignorada",
          "Obitos Escolaridade Ignorada",
          "Obitos Escolaridade Ignorada",
          "Obitos Escolaridade Ignorada",
          "Obitos Escolaridade Ignorada",
          "Obitos Escolaridade Ignorada",
          "Obitos Escolaridade Ignorada",
          "Obitos Escolaridade Ignorada",
          "Obitos Escolaridade Ignorada",
          "Obitos Escolaridade Ignorada",
          "Obitos Escolaridade Ignorada",
          "Obitos Escolaridade Ignorada",
          "Obitos Escolaridade Ignorada",
          "Obitos Escolaridade Ignorada",
          "Obitos Escolaridade Ignorada",
          "Obitos Escolaridade Ignorada",
          "Obitos Escolaridade Ignorada",
          "Obitos Escolaridade Ignorada",
          "Obitos Escolaridade Ignorada",
          "Obitos Escolaridade Ignorada",
          "Obitos Escolaridade Ignorada",
          "Obitos Escolaridade Ignorada",
          "Obitos Escolaridade Ignorada",
          "Obitos Escolaridade Ignorada",
          "Obitos Escolaridade Ignorada",
          "Obitos Escolaridade Ignorada",
          "Obitos Escolaridade Ignorada",
          "Obitos Escolaridade Ignorada",
          "Obitos Escolaridade Ignorada",
          "Obitos Escolaridade Ignorada",
          "Obitos Escolaridade Ignorada",
          "Obitos Escolaridade Ignorada",
          "Obitos Escolaridade Ignorada",
          "Obitos Escolaridade Ignorada",
          "Obitos Escolaridade Ignorada",
          "Obitos Escolaridade Ignorada",
          "Obitos Escolaridade Ignorada",
          "Obitos Escolaridade Ignorada",
          "Obitos Escolaridade Ignorada",
          "Obitos Escolaridade Ignorada",
          "Obitos Escolaridade Ignorada",
          "Obitos Escolaridade Ignorada",
          "Obitos Escolaridade Ignorada",
          "Obitos Escolaridade Ignorada",
          "Obitos Escolaridade Ignorada",
          "Obitos Escolaridade Ignorada",
          "Obitos Escolaridade Ignorada",
          "Obitos Escolaridade Ignorada",
          "Obitos Escolaridade Ignorada",
          "Obitos Escolaridade Ignorada",
          "Obitos Escolaridade Ignorada",
          "Obitos Escolaridade Ignorada",
          "Obitos Escolaridade Ignorada",
          "Obitos Escolaridade Ignorada",
          "Obitos Escolaridade Ignorada",
          "Obitos Escolaridade Ignorada",
          "Obitos Escolaridade Ignorada",
          "Obitos Escolaridade Ignorada",
          "Obitos Escolaridade Ignorada",
          "Obitos Escolaridade Ignorada",
          "Obitos Escolaridade Ignorada",
          "Obitos Escolaridade Ignorada",
          "Obitos Escolaridade Ignorada",
          "Obitos Escolaridade Ignorada",
          "Obitos Escolaridade Ignorada",
          "Obitos Escolaridade Ignorada",
          "Obitos Escolaridade Ignorada",
          "Obitos Escolaridade Ignorada",
          "Obitos Escolaridade Ignorada",
          "Obitos Escolaridade Ignorada",
          "Obitos Escolaridade Ignorada",
          "Obitos Escolaridade Ignorada",
          "Obitos Escolaridade Ignorada",
          "Obitos Escolaridade Ignorada",
          "Obitos Escolaridade Ignorada",
          "Obitos Escolaridade Ignorada",
          "Obitos Escolaridade Ignorada",
          "Obitos Escolaridade Ignorada"
         ],
         "legendgroup": "",
         "name": "",
         "showlegend": true,
         "type": "pie",
         "values": [
          19,
          8,
          119,
          564,
          67,
          550,
          1834,
          476,
          219,
          1402,
          38,
          142,
          56,
          190,
          66,
          420,
          31,
          49,
          33,
          161,
          62,
          353,
          72,
          75,
          485,
          166,
          422,
          22,
          9,
          149,
          87,
          425,
          288,
          145,
          883,
          18,
          1651,
          314,
          92,
          462,
          216,
          1720,
          261,
          3418,
          47,
          1531,
          3,
          133,
          812,
          196,
          47,
          364,
          82,
          19,
          313,
          421,
          3895,
          422,
          1011,
          1254,
          158,
          342,
          204,
          6,
          53,
          12,
          176,
          1310,
          140,
          599,
          37,
          58,
          78,
          119,
          1939,
          80,
          840,
          2107,
          29,
          421,
          128,
          19,
          702,
          10,
          58,
          389,
          147,
          420,
          84,
          98,
          94,
          330,
          272,
          149,
          150,
          106,
          146,
          218,
          159,
          937,
          338,
          127,
          70,
          187,
          38,
          115,
          53,
          85,
          343,
          853,
          67,
          44,
          3968,
          629,
          44,
          154,
          76,
          57,
          35,
          231,
          230,
          166,
          226,
          34,
          18,
          221,
          175,
          119,
          29,
          842,
          104,
          246,
          128,
          9,
          100,
          9,
          56,
          20,
          434,
          13,
          5,
          78,
          114,
          165,
          248,
          128,
          83,
          85,
          216,
          13,
          6886,
          71,
          246,
          15,
          55,
          190,
          89,
          321,
          348,
          18,
          1147,
          135,
          530,
          540,
          11,
          112,
          96,
          10,
          53,
          205,
          4,
          36,
          120,
          70,
          39,
          41,
          24,
          769,
          25,
          39,
          12,
          14,
          273,
          17,
          18,
          682,
          32,
          126,
          285,
          11,
          27,
          13,
          44,
          1522,
          169,
          45,
          10,
          270,
          1883,
          20,
          5,
          4,
          681,
          72,
          635,
          2639,
          315,
          237,
          2815,
          32,
          194,
          78,
          176,
          17,
          396,
          18,
          51,
          34,
          72,
          28,
          549,
          59,
          61,
          601,
          52,
          578,
          25,
          2,
          29,
          40,
          70,
          35,
          45,
          234,
          10,
          2005,
          20,
          39,
          473,
          151,
          1797,
          185,
          5741,
          12,
          1684,
          23,
          95,
          1750,
          161,
          64,
          523,
          38,
          11,
          150,
          513,
          6234,
          352,
          798,
          855,
          111,
          22,
          320,
          90,
          61,
          19,
          153,
          822,
          1,
          844,
          34,
          35,
          86,
          58,
          5253,
          23,
          991,
          8053,
          88,
          1078,
          268,
          53,
          1216,
          44,
          110,
          421,
          387,
          44,
          257,
          182,
          116,
          387,
          475,
          389,
          267,
          318,
          20,
          602,
          493,
          2740,
          813,
          286,
          172,
          238,
          22,
          346,
          249,
          422,
          1299,
          2235,
          107,
          144,
          17365,
          2105,
          106,
          651,
          184,
          214,
          24,
          33,
          44,
          52,
          437,
          24,
          19,
          141,
          930,
          127,
          31,
          2553,
          94,
          594,
          403,
          19,
          279,
          41,
          187,
          70,
          373,
          9,
          3,
          40,
          52,
          680,
          700,
          6,
          645,
          259,
          899,
          12,
          26218,
          19,
          180,
          53,
          98,
          56,
          178,
          615,
          1107,
          34,
          37,
          387,
          1537,
          19,
          43,
          429,
          79,
          11,
          309,
          1119,
          10,
          46,
          37,
          556,
          36,
          145,
          135,
          2505,
          5,
          38,
          21,
          13,
          402,
          21,
          14,
          64,
          10,
          98,
          528,
          3,
          30,
          7,
          47,
          2885,
          140,
          55,
          14,
          169,
          3818,
          12,
          11,
          219,
          469,
          17,
          389,
          2626,
          452,
          165,
          2803,
          17,
          68,
          22,
          153,
          26,
          230,
          37,
          27,
          36,
          187,
          43,
          365,
          45,
          41,
          409,
          95,
          271,
          4,
          3,
          181,
          28,
          223,
          115,
          25,
          834,
          5,
          1794,
          296,
          15,
          214,
          45,
          923,
          50,
          3797,
          37,
          1335,
          31,
          30,
          781,
          112,
          40,
          274,
          71,
          6,
          96,
          314,
          4082,
          201,
          721,
          1896,
          182,
          430,
          310,
          190,
          54,
          15,
          76,
          943,
          372,
          439,
          30,
          31,
          48,
          16,
          3805,
          37,
          460,
          3557,
          52,
          576,
          76,
          12,
          416,
          7,
          71,
          214,
          92,
          1485,
          79,
          73,
          91,
          434,
          325,
          295,
          283,
          240,
          586,
          460,
          356,
          1914,
          562,
          179,
          91,
          410,
          130,
          212,
          188,
          242,
          1169,
          1650,
          73,
          41,
          14551,
          1462,
          51,
          650,
          151,
          81,
          110,
          814,
          987,
          577,
          545,
          95,
          39,
          693,
          310,
          248,
          55,
          1348,
          309,
          240,
          205,
          6,
          134,
          15,
          168,
          30,
          1354,
          30,
          13,
          161,
          322,
          548,
          881,
          863,
          209,
          134,
          624,
          19,
          17301,
          285,
          904,
          17,
          81,
          448,
          93,
          156,
          495,
          18,
          4598,
          157,
          738,
          1567,
          46,
          210,
          461,
          19,
          84,
          729,
          7,
          106,
          725,
          198,
          280,
          116,
          47,
          3024,
          94,
          130,
          8,
          16,
          169,
          6,
          17,
          1487,
          42,
          144,
          434,
          2,
          32,
          23,
          44,
          2236,
          198,
          25,
          9,
          385,
          2635,
          6,
          7,
          52,
          388,
          24,
          281,
          2903,
          468,
          105,
          2806,
          6,
          38,
          13,
          69,
          13,
          181,
          28,
          15,
          16,
          184,
          16,
          269,
          14,
          19,
          410,
          72,
          232,
          10,
          1,
          129,
          29,
          175,
          61,
          14,
          701,
          3,
          1842,
          143,
          12,
          146,
          39,
          967,
          43,
          3444,
          14,
          1219,
          22,
          18,
          838,
          60,
          32,
          201,
          29,
          9,
          50,
          253,
          4148,
          50,
          697,
          1458,
          94,
          349,
          199,
          47,
          31,
          15,
          47,
          935,
          92,
          347,
          13,
          22,
          38,
          12,
          4335,
          13,
          308,
          4482,
          33,
          527,
          60,
          9,
          469,
          9,
          59,
          155,
          58,
          1004,
          84,
          67,
          68,
          375,
          288,
          206,
          227,
          105,
          520,
          212,
          358,
          1314,
          308,
          115,
          36,
          458,
          74,
          209,
          155,
          201,
          1491,
          940,
          56,
          25,
          15592,
          1188,
          32,
          385,
          76,
          84,
          73,
          744,
          983,
          491,
          276,
          42,
          5,
          444,
          231,
          118,
          23,
          1325,
          292,
          194,
          145,
          9,
          132,
          8,
          62,
          22,
          1193,
          10,
          10,
          53,
          294,
          519,
          740,
          458,
          279,
          91,
          419,
          7,
          18267,
          126,
          676,
          17,
          58,
          197,
          85,
          117,
          348,
          8,
          4792,
          114,
          664,
          1033,
          46,
          176,
          211,
          7,
          48,
          868,
          8,
          36,
          673,
          149,
          129,
          55,
          8,
          2621,
          105,
          156,
          12,
          19,
          82,
          7,
          8,
          1637,
          24,
          81,
          324,
          1,
          33,
          11,
          36,
          1999,
          133,
          17,
          4,
          221,
          2897,
          3,
          2,
          20,
          175,
          2,
          106,
          840,
          133,
          17,
          950,
          1,
          8,
          2,
          16,
          2,
          43,
          4,
          4,
          2,
          14,
          3,
          85,
          3,
          4,
          142,
          11,
          104,
          2,
          1,
          18,
          4,
          24,
          6,
          3,
          70,
          2,
          482,
          19,
          3,
          40,
          4,
          406,
          7,
          1388,
          1,
          538,
          60,
          3,
          589,
          18,
          4,
          25,
          4,
          1,
          5,
          85,
          1798,
          18,
          310,
          393,
          7,
          22,
          24,
          2,
          6,
          3,
          17,
          148,
          14,
          99,
          3,
          4,
          9,
          3,
          1482,
          2,
          115,
          2224,
          7,
          102,
          26,
          1,
          165,
          6,
          11,
          39,
          27,
          253,
          34,
          19,
          19,
          101,
          108,
          49,
          81,
          39,
          77,
          29,
          121,
          227,
          53,
          27,
          9,
          93,
          25,
          83,
          39,
          49,
          984,
          147,
          5,
          6,
          7635,
          182,
          7,
          52,
          40,
          44,
          10,
          79,
          687,
          37,
          99,
          6,
          4,
          39,
          126,
          16,
          6,
          335,
          62,
          54,
          68,
          1,
          55,
          3,
          22,
          3,
          161,
          2,
          1,
          12,
          70,
          158,
          474,
          140,
          137,
          78,
          300,
          1,
          9734,
          51,
          160,
          6,
          51,
          37,
          12,
          50,
          139,
          4,
          1849,
          26,
          437,
          260,
          15,
          39,
          29,
          4,
          19,
          576,
          1,
          3,
          107,
          65,
          24,
          12,
          6,
          1459,
          26,
          14,
          3,
          1,
          35,
          1,
          4,
          467,
          4,
          31,
          80,
          1,
          5,
          2,
          7,
          1072,
          17,
          3,
          1,
          44,
          1734,
          24,
          16,
          123,
          880,
          32,
          679,
          1597,
          376,
          204,
          1750,
          10,
          81,
          70,
          87,
          20,
          393,
          41,
          12,
          17,
          109,
          19,
          519,
          43,
          70,
          603,
          61,
          490,
          16,
          7,
          79,
          31,
          224,
          58,
          24,
          335,
          12,
          1492,
          97,
          26,
          279,
          67,
          2272,
          161,
          2402,
          17,
          2027,
          4934,
          63,
          2953,
          517,
          11,
          119,
          12,
          20,
          234,
          757,
          3825,
          1583,
          6422,
          580,
          50,
          158,
          220,
          10,
          50,
          127,
          321,
          720,
          300,
          271,
          120,
          57,
          570,
          90,
          4709,
          147,
          383,
          2226,
          25,
          408,
          61,
          25,
          627,
          13,
          87,
          346,
          558,
          1453,
          1374,
          1080,
          943,
          1363,
          2056,
          109,
          98,
          53,
          129,
          463,
          269,
          770,
          107,
          78,
          93,
          290,
          84,
          72,
          153,
          176,
          582,
          558,
          19,
          22,
          7703,
          480,
          45,
          570,
          59,
          214,
          139,
          96,
          6298,
          73,
          247,
          47,
          28,
          94,
          1020,
          61,
          19,
          579,
          55,
          69,
          205,
          4,
          883,
          43,
          187,
          98,
          189,
          8,
          3,
          38,
          229,
          110,
          3365,
          42,
          46,
          1170,
          3818,
          16,
          8845,
          66,
          284,
          28,
          36,
          19,
          51,
          60,
          570,
          4,
          794,
          117,
          1927,
          422,
          17,
          172,
          93,
          5,
          54,
          300,
          22,
          6,
          108,
          76,
          106,
          183,
          25,
          6747,
          505,
          824,
          25,
          9,
          73,
          22,
          7,
          697,
          10,
          62,
          786,
          5,
          11,
          10,
          37,
          4262,
          56,
          52,
          4,
          55,
          1837
         ]
        }
       ],
       "layout": {
        "legend": {
         "tracegroupgap": 0
        },
        "margin": {
         "t": 60
        },
        "piecolorway": [
         "rgb(103,0,31)",
         "rgb(178,24,43)",
         "rgb(214,96,77)",
         "rgb(244,165,130)",
         "rgb(253,219,199)",
         "rgb(247,247,247)",
         "rgb(209,229,240)",
         "rgb(146,197,222)",
         "rgb(67,147,195)",
         "rgb(33,102,172)",
         "rgb(5,48,97)"
        ],
        "template": {
         "data": {
          "bar": [
           {
            "error_x": {
             "color": "#2a3f5f"
            },
            "error_y": {
             "color": "#2a3f5f"
            },
            "marker": {
             "line": {
              "color": "#E5ECF6",
              "width": 0.5
             },
             "pattern": {
              "fillmode": "overlay",
              "size": 10,
              "solidity": 0.2
             }
            },
            "type": "bar"
           }
          ],
          "barpolar": [
           {
            "marker": {
             "line": {
              "color": "#E5ECF6",
              "width": 0.5
             },
             "pattern": {
              "fillmode": "overlay",
              "size": 10,
              "solidity": 0.2
             }
            },
            "type": "barpolar"
           }
          ],
          "carpet": [
           {
            "aaxis": {
             "endlinecolor": "#2a3f5f",
             "gridcolor": "white",
             "linecolor": "white",
             "minorgridcolor": "white",
             "startlinecolor": "#2a3f5f"
            },
            "baxis": {
             "endlinecolor": "#2a3f5f",
             "gridcolor": "white",
             "linecolor": "white",
             "minorgridcolor": "white",
             "startlinecolor": "#2a3f5f"
            },
            "type": "carpet"
           }
          ],
          "choropleth": [
           {
            "colorbar": {
             "outlinewidth": 0,
             "ticks": ""
            },
            "type": "choropleth"
           }
          ],
          "contour": [
           {
            "colorbar": {
             "outlinewidth": 0,
             "ticks": ""
            },
            "colorscale": [
             [
              0,
              "#0d0887"
             ],
             [
              0.1111111111111111,
              "#46039f"
             ],
             [
              0.2222222222222222,
              "#7201a8"
             ],
             [
              0.3333333333333333,
              "#9c179e"
             ],
             [
              0.4444444444444444,
              "#bd3786"
             ],
             [
              0.5555555555555556,
              "#d8576b"
             ],
             [
              0.6666666666666666,
              "#ed7953"
             ],
             [
              0.7777777777777778,
              "#fb9f3a"
             ],
             [
              0.8888888888888888,
              "#fdca26"
             ],
             [
              1,
              "#f0f921"
             ]
            ],
            "type": "contour"
           }
          ],
          "contourcarpet": [
           {
            "colorbar": {
             "outlinewidth": 0,
             "ticks": ""
            },
            "type": "contourcarpet"
           }
          ],
          "heatmap": [
           {
            "colorbar": {
             "outlinewidth": 0,
             "ticks": ""
            },
            "colorscale": [
             [
              0,
              "#0d0887"
             ],
             [
              0.1111111111111111,
              "#46039f"
             ],
             [
              0.2222222222222222,
              "#7201a8"
             ],
             [
              0.3333333333333333,
              "#9c179e"
             ],
             [
              0.4444444444444444,
              "#bd3786"
             ],
             [
              0.5555555555555556,
              "#d8576b"
             ],
             [
              0.6666666666666666,
              "#ed7953"
             ],
             [
              0.7777777777777778,
              "#fb9f3a"
             ],
             [
              0.8888888888888888,
              "#fdca26"
             ],
             [
              1,
              "#f0f921"
             ]
            ],
            "type": "heatmap"
           }
          ],
          "heatmapgl": [
           {
            "colorbar": {
             "outlinewidth": 0,
             "ticks": ""
            },
            "colorscale": [
             [
              0,
              "#0d0887"
             ],
             [
              0.1111111111111111,
              "#46039f"
             ],
             [
              0.2222222222222222,
              "#7201a8"
             ],
             [
              0.3333333333333333,
              "#9c179e"
             ],
             [
              0.4444444444444444,
              "#bd3786"
             ],
             [
              0.5555555555555556,
              "#d8576b"
             ],
             [
              0.6666666666666666,
              "#ed7953"
             ],
             [
              0.7777777777777778,
              "#fb9f3a"
             ],
             [
              0.8888888888888888,
              "#fdca26"
             ],
             [
              1,
              "#f0f921"
             ]
            ],
            "type": "heatmapgl"
           }
          ],
          "histogram": [
           {
            "marker": {
             "pattern": {
              "fillmode": "overlay",
              "size": 10,
              "solidity": 0.2
             }
            },
            "type": "histogram"
           }
          ],
          "histogram2d": [
           {
            "colorbar": {
             "outlinewidth": 0,
             "ticks": ""
            },
            "colorscale": [
             [
              0,
              "#0d0887"
             ],
             [
              0.1111111111111111,
              "#46039f"
             ],
             [
              0.2222222222222222,
              "#7201a8"
             ],
             [
              0.3333333333333333,
              "#9c179e"
             ],
             [
              0.4444444444444444,
              "#bd3786"
             ],
             [
              0.5555555555555556,
              "#d8576b"
             ],
             [
              0.6666666666666666,
              "#ed7953"
             ],
             [
              0.7777777777777778,
              "#fb9f3a"
             ],
             [
              0.8888888888888888,
              "#fdca26"
             ],
             [
              1,
              "#f0f921"
             ]
            ],
            "type": "histogram2d"
           }
          ],
          "histogram2dcontour": [
           {
            "colorbar": {
             "outlinewidth": 0,
             "ticks": ""
            },
            "colorscale": [
             [
              0,
              "#0d0887"
             ],
             [
              0.1111111111111111,
              "#46039f"
             ],
             [
              0.2222222222222222,
              "#7201a8"
             ],
             [
              0.3333333333333333,
              "#9c179e"
             ],
             [
              0.4444444444444444,
              "#bd3786"
             ],
             [
              0.5555555555555556,
              "#d8576b"
             ],
             [
              0.6666666666666666,
              "#ed7953"
             ],
             [
              0.7777777777777778,
              "#fb9f3a"
             ],
             [
              0.8888888888888888,
              "#fdca26"
             ],
             [
              1,
              "#f0f921"
             ]
            ],
            "type": "histogram2dcontour"
           }
          ],
          "mesh3d": [
           {
            "colorbar": {
             "outlinewidth": 0,
             "ticks": ""
            },
            "type": "mesh3d"
           }
          ],
          "parcoords": [
           {
            "line": {
             "colorbar": {
              "outlinewidth": 0,
              "ticks": ""
             }
            },
            "type": "parcoords"
           }
          ],
          "pie": [
           {
            "automargin": true,
            "type": "pie"
           }
          ],
          "scatter": [
           {
            "marker": {
             "colorbar": {
              "outlinewidth": 0,
              "ticks": ""
             }
            },
            "type": "scatter"
           }
          ],
          "scatter3d": [
           {
            "line": {
             "colorbar": {
              "outlinewidth": 0,
              "ticks": ""
             }
            },
            "marker": {
             "colorbar": {
              "outlinewidth": 0,
              "ticks": ""
             }
            },
            "type": "scatter3d"
           }
          ],
          "scattercarpet": [
           {
            "marker": {
             "colorbar": {
              "outlinewidth": 0,
              "ticks": ""
             }
            },
            "type": "scattercarpet"
           }
          ],
          "scattergeo": [
           {
            "marker": {
             "colorbar": {
              "outlinewidth": 0,
              "ticks": ""
             }
            },
            "type": "scattergeo"
           }
          ],
          "scattergl": [
           {
            "marker": {
             "colorbar": {
              "outlinewidth": 0,
              "ticks": ""
             }
            },
            "type": "scattergl"
           }
          ],
          "scattermapbox": [
           {
            "marker": {
             "colorbar": {
              "outlinewidth": 0,
              "ticks": ""
             }
            },
            "type": "scattermapbox"
           }
          ],
          "scatterpolar": [
           {
            "marker": {
             "colorbar": {
              "outlinewidth": 0,
              "ticks": ""
             }
            },
            "type": "scatterpolar"
           }
          ],
          "scatterpolargl": [
           {
            "marker": {
             "colorbar": {
              "outlinewidth": 0,
              "ticks": ""
             }
            },
            "type": "scatterpolargl"
           }
          ],
          "scatterternary": [
           {
            "marker": {
             "colorbar": {
              "outlinewidth": 0,
              "ticks": ""
             }
            },
            "type": "scatterternary"
           }
          ],
          "surface": [
           {
            "colorbar": {
             "outlinewidth": 0,
             "ticks": ""
            },
            "colorscale": [
             [
              0,
              "#0d0887"
             ],
             [
              0.1111111111111111,
              "#46039f"
             ],
             [
              0.2222222222222222,
              "#7201a8"
             ],
             [
              0.3333333333333333,
              "#9c179e"
             ],
             [
              0.4444444444444444,
              "#bd3786"
             ],
             [
              0.5555555555555556,
              "#d8576b"
             ],
             [
              0.6666666666666666,
              "#ed7953"
             ],
             [
              0.7777777777777778,
              "#fb9f3a"
             ],
             [
              0.8888888888888888,
              "#fdca26"
             ],
             [
              1,
              "#f0f921"
             ]
            ],
            "type": "surface"
           }
          ],
          "table": [
           {
            "cells": {
             "fill": {
              "color": "#EBF0F8"
             },
             "line": {
              "color": "white"
             }
            },
            "header": {
             "fill": {
              "color": "#C8D4E3"
             },
             "line": {
              "color": "white"
             }
            },
            "type": "table"
           }
          ]
         },
         "layout": {
          "annotationdefaults": {
           "arrowcolor": "#2a3f5f",
           "arrowhead": 0,
           "arrowwidth": 1
          },
          "autotypenumbers": "strict",
          "coloraxis": {
           "colorbar": {
            "outlinewidth": 0,
            "ticks": ""
           }
          },
          "colorscale": {
           "diverging": [
            [
             0,
             "#8e0152"
            ],
            [
             0.1,
             "#c51b7d"
            ],
            [
             0.2,
             "#de77ae"
            ],
            [
             0.3,
             "#f1b6da"
            ],
            [
             0.4,
             "#fde0ef"
            ],
            [
             0.5,
             "#f7f7f7"
            ],
            [
             0.6,
             "#e6f5d0"
            ],
            [
             0.7,
             "#b8e186"
            ],
            [
             0.8,
             "#7fbc41"
            ],
            [
             0.9,
             "#4d9221"
            ],
            [
             1,
             "#276419"
            ]
           ],
           "sequential": [
            [
             0,
             "#0d0887"
            ],
            [
             0.1111111111111111,
             "#46039f"
            ],
            [
             0.2222222222222222,
             "#7201a8"
            ],
            [
             0.3333333333333333,
             "#9c179e"
            ],
            [
             0.4444444444444444,
             "#bd3786"
            ],
            [
             0.5555555555555556,
             "#d8576b"
            ],
            [
             0.6666666666666666,
             "#ed7953"
            ],
            [
             0.7777777777777778,
             "#fb9f3a"
            ],
            [
             0.8888888888888888,
             "#fdca26"
            ],
            [
             1,
             "#f0f921"
            ]
           ],
           "sequentialminus": [
            [
             0,
             "#0d0887"
            ],
            [
             0.1111111111111111,
             "#46039f"
            ],
            [
             0.2222222222222222,
             "#7201a8"
            ],
            [
             0.3333333333333333,
             "#9c179e"
            ],
            [
             0.4444444444444444,
             "#bd3786"
            ],
            [
             0.5555555555555556,
             "#d8576b"
            ],
            [
             0.6666666666666666,
             "#ed7953"
            ],
            [
             0.7777777777777778,
             "#fb9f3a"
            ],
            [
             0.8888888888888888,
             "#fdca26"
            ],
            [
             1,
             "#f0f921"
            ]
           ]
          },
          "colorway": [
           "#636efa",
           "#EF553B",
           "#00cc96",
           "#ab63fa",
           "#FFA15A",
           "#19d3f3",
           "#FF6692",
           "#B6E880",
           "#FF97FF",
           "#FECB52"
          ],
          "font": {
           "color": "#2a3f5f"
          },
          "geo": {
           "bgcolor": "white",
           "lakecolor": "white",
           "landcolor": "#E5ECF6",
           "showlakes": true,
           "showland": true,
           "subunitcolor": "white"
          },
          "hoverlabel": {
           "align": "left"
          },
          "hovermode": "closest",
          "mapbox": {
           "style": "light"
          },
          "paper_bgcolor": "white",
          "plot_bgcolor": "#E5ECF6",
          "polar": {
           "angularaxis": {
            "gridcolor": "white",
            "linecolor": "white",
            "ticks": ""
           },
           "bgcolor": "#E5ECF6",
           "radialaxis": {
            "gridcolor": "white",
            "linecolor": "white",
            "ticks": ""
           }
          },
          "scene": {
           "xaxis": {
            "backgroundcolor": "#E5ECF6",
            "gridcolor": "white",
            "gridwidth": 2,
            "linecolor": "white",
            "showbackground": true,
            "ticks": "",
            "zerolinecolor": "white"
           },
           "yaxis": {
            "backgroundcolor": "#E5ECF6",
            "gridcolor": "white",
            "gridwidth": 2,
            "linecolor": "white",
            "showbackground": true,
            "ticks": "",
            "zerolinecolor": "white"
           },
           "zaxis": {
            "backgroundcolor": "#E5ECF6",
            "gridcolor": "white",
            "gridwidth": 2,
            "linecolor": "white",
            "showbackground": true,
            "ticks": "",
            "zerolinecolor": "white"
           }
          },
          "shapedefaults": {
           "line": {
            "color": "#2a3f5f"
           }
          },
          "ternary": {
           "aaxis": {
            "gridcolor": "white",
            "linecolor": "white",
            "ticks": ""
           },
           "baxis": {
            "gridcolor": "white",
            "linecolor": "white",
            "ticks": ""
           },
           "bgcolor": "#E5ECF6",
           "caxis": {
            "gridcolor": "white",
            "linecolor": "white",
            "ticks": ""
           }
          },
          "title": {
           "x": 0.05
          },
          "xaxis": {
           "automargin": true,
           "gridcolor": "white",
           "linecolor": "white",
           "ticks": "",
           "title": {
            "standoff": 15
           },
           "zerolinecolor": "white",
           "zerolinewidth": 2
          },
          "yaxis": {
           "automargin": true,
           "gridcolor": "white",
           "linecolor": "white",
           "ticks": "",
           "title": {
            "standoff": 15
           },
           "zerolinecolor": "white",
           "zerolinewidth": 2
          }
         }
        }
       }
      }
     },
     "metadata": {},
     "output_type": "display_data"
    }
   ],
   "source": [
    "fig = px.pie(values =deaths_from_schooling_final['Valor'], names = deaths_from_schooling_final['kind'], color_discrete_sequence=px.colors.sequential.RdBu) \n",
    "fig.show()"
   ]
  },
  {
   "cell_type": "markdown",
   "metadata": {},
   "source": [
    "#"
   ]
  },
  {
   "cell_type": "markdown",
   "metadata": {},
   "source": [
    "# Correlação entre as variáveis"
   ]
  },
  {
   "cell_type": "markdown",
   "metadata": {},
   "source": [
    "# Renomear colunas para melhor visualização da matriz de correlação de Pearson"
   ]
  },
  {
   "cell_type": "code",
   "execution_count": 74,
   "metadata": {},
   "outputs": [],
   "source": [
    "new_data = data.copy()\n",
    "\n",
    "new_data = new_data.loc[:, ['AG001 - População total atendida com abastecimento de água',\n",
    "                            'IN006_AE - Tarifa média de esgoto',\n",
    "                            'IN022_AE - Consumo médio percapita de água',\n",
    "                            'IN024_AE - Índice de atendimento urbano de esgoto referido aos municípios atendidos com água',\n",
    "                            'IN051_AE - Índice de perdas por ligação',\n",
    "                            'IN052_AE - Índice de consumo de água',\n",
    "                            'AG026 - População urbana atendida com abastecimento de água',\n",
    "                            'POP_TOT - População total do município (Fonte: IBGE):',\n",
    "                            'Obitos Nenhuma escolaridade', 'Obitos 1 a 3 anos escolaridade',\n",
    "                            'Obitos 4 a 7 anos escolaridade', 'Obitos 8 a 11 anos escolaridade',\n",
    "                            'Obitos 12 anos e mais escolaridade', 'Obitos Escolaridade Ignorada',\n",
    "                            'Obitos Totais (com e sem escolaridade)', 'Obitos Masc', 'Obitos Fem',\n",
    "                            'Obitos Sexo Ignorado', 'Total obitos (Masc e Fem)'\n",
    "                        ]]"
   ]
  },
  {
   "cell_type": "code",
   "execution_count": 75,
   "metadata": {},
   "outputs": [],
   "source": [
    "# renomear colunas para melhor visualização da Matriz de Correlação\n",
    "\n",
    "names = ['População total atendida com abastecimento de água ',\n",
    "        'Tarifa média de esgoto ',\n",
    "        'Consumo médio percapita de água ',\n",
    "        'Atendimento urbano de esgoto referido aos municípios atendidos com água ',\n",
    "        'Perdas por ligação ',\n",
    "        'Consumo de água ',\n",
    "        'População urbana atendida com abastecimento de água ',\n",
    "        'População total do município (Fonte: IBGE) ',\n",
    "        'Obitos Nenhuma escolaridade ', 'Obitos 1 a 3 anos escolaridade ',\n",
    "        'Obitos 4 a 7 anos escolaridade', 'Obitos 8 a 11 anos escolaridade ',\n",
    "        'Obitos 12 anos e mais escolaridade', 'Obitos Escolaridade Ignorada ',\n",
    "        'Obitos Totais (com e sem escolaridade) ', 'Obitos Masc ', 'Obitos Fem ',\n",
    "        'Obitos Sexo Ignorado', 'Total obitos (Masc e Fem) ',\n",
    "       ]\n",
    "\n",
    "new_data.columns = names"
   ]
  },
  {
   "cell_type": "code",
   "execution_count": 76,
   "metadata": {},
   "outputs": [
    {
     "data": {
      "text/plain": [
       "<AxesSubplot:>"
      ]
     },
     "execution_count": 76,
     "metadata": {},
     "output_type": "execute_result"
    },
    {
     "data": {
      "image/png": "[encoded data removed]",
      "text/plain": [
       "<Figure size 720x720 with 2 Axes>"
      ]
     },
     "metadata": {},
     "output_type": "display_data"
    }
   ],
   "source": [
    "fig, ax = plt.subplots( figsize=(10, 10))\n",
    "sns.heatmap(new_data.corr(), cmap=\"YlGnBu\")"
   ]
  }
 ],
 "metadata": {
  "interpreter": {
   "hash": "1f21c29c32233928f9db6825d76d7c3c2484b8de9012b635ffd0745d1614bc15"
  },
  "kernelspec": {
   "display_name": "Python 3.10.0 64-bit",
   "language": "python",
   "name": "python3"
  },
  "language_info": {
   "codemirror_mode": {
    "name": "ipython",
    "version": 3
   },
   "file_extension": ".py",
   "mimetype": "text/x-python",
   "name": "python",
   "nbconvert_exporter": "python",
   "pygments_lexer": "ipython3",
   "version": "3.8.0"
  },
  "orig_nbformat": 4
 },
 "nbformat": 4,
 "nbformat_minor": 2
}
