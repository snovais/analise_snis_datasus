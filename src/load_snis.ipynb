{
 "cells": [
  {
   "cell_type": "code",
   "execution_count": 1,
   "metadata": {},
   "outputs": [],
   "source": [
    "import pandas as pd"
   ]
  },
  {
   "cell_type": "code",
   "execution_count": 2,
   "metadata": {},
   "outputs": [],
   "source": [
    "path = '..\\data_raw\\snis_raw_2019.csv'"
   ]
  },
  {
   "cell_type": "code",
   "execution_count": 3,
   "metadata": {},
   "outputs": [],
   "source": [
    "def load_data( path ):\n",
    "    return pd.read_csv(path, sep=\";\", encoding = 'UTF-16 LE', decimal = ',', thousands = '.', low_memory = False)"
   ]
  },
  {
   "cell_type": "code",
   "execution_count": 4,
   "metadata": {},
   "outputs": [],
   "source": [
    "data = load_data(path)"
   ]
  },
  {
   "cell_type": "code",
   "execution_count": 5,
   "metadata": {},
   "outputs": [],
   "source": [
    "def exclude_col_with_more_eight_percent( data ):\n",
    "    \"\"\"\n",
    "    Args:\n",
    "        data ([Dataframe]): [variáveis selecionadas a partir do SNIS]\n",
    "\n",
    "    Returns:\n",
    "        [Dataframe]: [retorna Dataframe com as colunas que contém porcentagem menor do que 8% de nan]\n",
    "    \"\"\"\n",
    "    percent_of_nan = 8.0\n",
    "    for column in data.columns:\n",
    "        if data[column].isnull().sum()/(data[column].shape[0])*100 > percent_of_nan:\n",
    "            data.drop([column], axis = 1, inplace = True)\n",
    "\n",
    "    return data"
   ]
  },
  {
   "cell_type": "code",
   "execution_count": 6,
   "metadata": {},
   "outputs": [],
   "source": [
    "def get_columns( data ):\n",
    "    return data.loc[:, [\n",
    "        'codigo_municipio_sem_digito',\n",
    "        'Município',\n",
    "        'Estado', \n",
    "        'AG001 - População total atendida com abastecimento de água', \n",
    "        'IN006_AE - Tarifa média de esgoto',\n",
    "        'IN022_AE - Consumo médio percapita de água',\n",
    "        'IN024_AE - Índice de atendimento urbano de esgoto referido aos municípios atendidos com água',\n",
    "        'IN051_AE - Índice de perdas por ligação',\n",
    "        'IN052_AE - Índice de consumo de água',\n",
    "        'AG026 - População urbana atendida com abastecimento de água',\n",
    "        'POP_TOT - População total do município (Fonte: IBGE):'\n",
    "        ]]"
   ]
  },
  {
   "cell_type": "code",
   "execution_count": 7,
   "metadata": {},
   "outputs": [],
   "source": [
    "def fix_columns( data ):\n",
    "    data['Estado'] = data['Município']\n",
    "    municipio = data['Código do Município'].copy()\n",
    "    data['Município'] = municipio\n",
    "\n",
    "    del municipio\n",
    "\n",
    "    data['Código do Município'] = data['Código do IBGE']\n",
    "    data['Código do IBGE'] = data.index\n",
    "    data = data.reset_index()\n",
    "    data.drop(['index'], axis = 1, inplace = True)\n",
    "\n",
    "    data.rename(columns = {'Código do Município': 'codigo_municipio_sem_digito'}, inplace = True)\n",
    "    #data['codigo_municipio_sem_digito'] = data['codigo_municipio_sem_digito'].astype(int)\n",
    "\n",
    "    return data"
   ]
  },
  {
   "cell_type": "code",
   "execution_count": 8,
   "metadata": {},
   "outputs": [],
   "source": [
    "def save( db ):\n",
    "    path_save_data = '..\\data\\snis_2019.csv'\n",
    "    db.to_csv(path_save_data, index = False, encoding = 'UTF-8')"
   ]
  },
  {
   "cell_type": "code",
   "execution_count": 15,
   "metadata": {},
   "outputs": [],
   "source": [
    "data = load_data(path)"
   ]
  },
  {
   "cell_type": "code",
   "execution_count": 10,
   "metadata": {},
   "outputs": [],
   "source": [
    "data = exclude_col_with_more_eight_percent(data)"
   ]
  },
  {
   "cell_type": "code",
   "execution_count": 11,
   "metadata": {},
   "outputs": [],
   "source": [
    "data = fix_columns(data)"
   ]
  },
  {
   "cell_type": "code",
   "execution_count": 12,
   "metadata": {},
   "outputs": [],
   "source": [
    "data = get_columns(data)"
   ]
  },
  {
   "cell_type": "code",
   "execution_count": 13,
   "metadata": {},
   "outputs": [],
   "source": [
    "try:\n",
    "    save(data)\n",
    "except Exception as e:\n",
    "    print(e)"
   ]
  },
  {
   "cell_type": "code",
   "execution_count": 14,
   "metadata": {},
   "outputs": [],
   "source": [
    "# df[\"codigo_municipio_sem_digito\"] = df['Município'].str.slice(0, 6, 1)"
   ]
  }
 ],
 "metadata": {
  "interpreter": {
   "hash": "b3ba2566441a7c06988d0923437866b63cedc61552a5af99d1f4fb67d367b25f"
  },
  "kernelspec": {
   "display_name": "Python 3.8.8 64-bit ('base': conda)",
   "language": "python",
   "name": "python3"
  },
  "language_info": {
   "codemirror_mode": {
    "name": "ipython",
    "version": 3
   },
   "file_extension": ".py",
   "mimetype": "text/x-python",
   "name": "python",
   "nbconvert_exporter": "python",
   "pygments_lexer": "ipython3",
   "version": "3.8.0"
  },
  "orig_nbformat": 4
 },
 "nbformat": 4,
 "nbformat_minor": 2
}
