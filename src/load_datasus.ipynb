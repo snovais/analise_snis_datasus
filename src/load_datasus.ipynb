{
 "cells": [
  {
   "cell_type": "code",
   "execution_count": 1,
   "metadata": {},
   "outputs": [],
   "source": [
    "import pandas as pd"
   ]
  },
  {
   "cell_type": "code",
   "execution_count": 2,
   "metadata": {},
   "outputs": [],
   "source": [
    "year = 2019"
   ]
  },
  {
   "cell_type": "code",
   "execution_count": 3,
   "metadata": {},
   "outputs": [],
   "source": [
    "path_obitos_ocorrenc_por_municipio_sexo = '..\\data_raw\\obitos_ocorrenc_por_municipio_sexo.csv'"
   ]
  },
  {
   "cell_type": "code",
   "execution_count": 4,
   "metadata": {},
   "outputs": [],
   "source": [
    "path_obitos_ocorrenc_por_municipio_escolaridade = '..\\data_raw\\obtos-ocorrencia-municio-escolaridade.csv'\n"
   ]
  },
  {
   "cell_type": "code",
   "execution_count": 5,
   "metadata": {},
   "outputs": [],
   "source": [
    "def which_encoder( path ):\n",
    "    with open(path) as f:\n",
    "        return f.encoding"
   ]
  },
  {
   "cell_type": "code",
   "execution_count": 6,
   "metadata": {},
   "outputs": [],
   "source": [
    "obitos_ocorrenc_por_municipio_sexo = pd.read_csv(path_obitos_ocorrenc_por_municipio_sexo, skiprows = 3, nrows = 5565, sep = \";\", encoding= which_encoder(path_obitos_ocorrenc_por_municipio_sexo))\n",
    "obitos_ocorrenc_por_municipio_escolaridade = pd.read_csv(path_obitos_ocorrenc_por_municipio_escolaridade, skiprows = 3, nrows = 5565, sep = \";\", encoding= which_encoder(path_obitos_ocorrenc_por_municipio_escolaridade))"
   ]
  },
  {
   "cell_type": "code",
   "execution_count": 7,
   "metadata": {},
   "outputs": [
    {
     "data": {
      "text/plain": [
       "(5565, 8)"
      ]
     },
     "execution_count": 7,
     "metadata": {},
     "output_type": "execute_result"
    }
   ],
   "source": [
    "obitos_ocorrenc_por_municipio_escolaridade.shape"
   ]
  },
  {
   "cell_type": "code",
   "execution_count": 8,
   "metadata": {},
   "outputs": [],
   "source": [
    "obitos_ocorrenc_por_municipio_sexo.rename(columns = {'codigo_municipio_completo': 'codigo_municipio_sem_digito', 'Masc': 'Obitos Masc', 'Fem': 'Obitos Fem', 'Ign': 'Obitos Sexo Ignorado', 'Total': 'Total obitos (Masc e Fem)'}, inplace = True)\n",
    "obitos_ocorrenc_por_municipio_escolaridade.rename(columns = {'codigo_municipio_completo': 'codigo_municipio_sem_digito', 'Nenhuma': 'Obitos Nenhuma escolaridade', '1 a 3 anos': 'Obitos 1 a 3 anos escolaridade', '4 a 7 anos': 'Obitos 4 a 7 anos escolaridade', '8 a 11 anos': 'Obitos 8 a 11 anos escolaridade', '12 anos e mais': 'Obitos 12 anos e mais escolaridade', 'Ignorado': 'Obitos Escolaridade Ignorada', 'Total': 'Obitos Totais (com e sem escolaridade)'}, inplace =  True)"
   ]
  },
  {
   "cell_type": "code",
   "execution_count": 9,
   "metadata": {},
   "outputs": [],
   "source": [
    "obitos_ocorrenc_por_municipio_sexo['codigo_municipio_sem_digito'] = obitos_ocorrenc_por_municipio_sexo['Município'].apply(lambda row: row[:6])\n",
    "obitos_ocorrenc_por_municipio_sexo['Município'] = obitos_ocorrenc_por_municipio_sexo['Município'].apply(lambda row: row[7:])\n",
    "\n",
    "obitos_ocorrenc_por_municipio_sexo = obitos_ocorrenc_por_municipio_sexo[['codigo_municipio_sem_digito', 'Município', 'Obitos Masc', 'Obitos Fem', 'Obitos Sexo Ignorado', 'Total obitos (Masc e Fem)']]"
   ]
  },
  {
   "cell_type": "code",
   "execution_count": 10,
   "metadata": {},
   "outputs": [
    {
     "data": {
      "text/plain": [
       "Index(['Município', 'Obitos Nenhuma escolaridade',\n",
       "       'Obitos 1 a 3 anos escolaridade', 'Obitos 4 a 7 anos escolaridade',\n",
       "       'Obitos 8 a 11 anos escolaridade', 'Obitos 12 anos e mais escolaridade',\n",
       "       'Obitos Escolaridade Ignorada',\n",
       "       'Obitos Totais (com e sem escolaridade)'],\n",
       "      dtype='object')"
      ]
     },
     "execution_count": 10,
     "metadata": {},
     "output_type": "execute_result"
    }
   ],
   "source": [
    "obitos_ocorrenc_por_municipio_escolaridade.columns"
   ]
  },
  {
   "cell_type": "code",
   "execution_count": 11,
   "metadata": {},
   "outputs": [],
   "source": [
    "obitos_ocorrenc_por_municipio_escolaridade['codigo_municipio_sem_digito'] = obitos_ocorrenc_por_municipio_escolaridade['Município'].apply(lambda row: row[:6])\n",
    "obitos_ocorrenc_por_municipio_escolaridade['Município'] = obitos_ocorrenc_por_municipio_escolaridade['Município'].apply(lambda row: row[7:])\n",
    "\n",
    "obitos_ocorrenc_por_municipio_escolaridade = obitos_ocorrenc_por_municipio_escolaridade[['codigo_municipio_sem_digito', 'Município', 'Obitos Nenhuma escolaridade','Obitos 1 a 3 anos escolaridade', 'Obitos 4 a 7 anos escolaridade', 'Obitos 8 a 11 anos escolaridade', 'Obitos 12 anos e mais escolaridade','Obitos Escolaridade Ignorada', 'Obitos Totais (com e sem escolaridade)']]"
   ]
  },
  {
   "cell_type": "code",
   "execution_count": 12,
   "metadata": {},
   "outputs": [
    {
     "data": {
      "text/html": [
       "<div>\n",
       "<style scoped>\n",
       "    .dataframe tbody tr th:only-of-type {\n",
       "        vertical-align: middle;\n",
       "    }\n",
       "\n",
       "    .dataframe tbody tr th {\n",
       "        vertical-align: top;\n",
       "    }\n",
       "\n",
       "    .dataframe thead th {\n",
       "        text-align: right;\n",
       "    }\n",
       "</style>\n",
       "<table border=\"1\" class=\"dataframe\">\n",
       "  <thead>\n",
       "    <tr style=\"text-align: right;\">\n",
       "      <th></th>\n",
       "      <th>codigo_municipio_sem_digito</th>\n",
       "      <th>Município</th>\n",
       "      <th>Obitos Nenhuma escolaridade</th>\n",
       "      <th>Obitos 1 a 3 anos escolaridade</th>\n",
       "      <th>Obitos 4 a 7 anos escolaridade</th>\n",
       "      <th>Obitos 8 a 11 anos escolaridade</th>\n",
       "      <th>Obitos 12 anos e mais escolaridade</th>\n",
       "      <th>Obitos Escolaridade Ignorada</th>\n",
       "      <th>Obitos Totais (com e sem escolaridade)</th>\n",
       "    </tr>\n",
       "  </thead>\n",
       "  <tbody>\n",
       "    <tr>\n",
       "      <th>0</th>\n",
       "      <td>110001</td>\n",
       "      <td>Alta Floresta D'Oeste</td>\n",
       "      <td>19</td>\n",
       "      <td>20</td>\n",
       "      <td>12</td>\n",
       "      <td>6</td>\n",
       "      <td>3</td>\n",
       "      <td>24</td>\n",
       "      <td>84</td>\n",
       "    </tr>\n",
       "    <tr>\n",
       "      <th>1</th>\n",
       "      <td>110037</td>\n",
       "      <td>Alto Alegre dos Parecis</td>\n",
       "      <td>10</td>\n",
       "      <td>7</td>\n",
       "      <td>1</td>\n",
       "      <td>1</td>\n",
       "      <td>-</td>\n",
       "      <td>7</td>\n",
       "      <td>26</td>\n",
       "    </tr>\n",
       "    <tr>\n",
       "      <th>2</th>\n",
       "      <td>110040</td>\n",
       "      <td>Alto Paraíso</td>\n",
       "      <td>11</td>\n",
       "      <td>6</td>\n",
       "      <td>10</td>\n",
       "      <td>1</td>\n",
       "      <td>1</td>\n",
       "      <td>14</td>\n",
       "      <td>43</td>\n",
       "    </tr>\n",
       "    <tr>\n",
       "      <th>3</th>\n",
       "      <td>110034</td>\n",
       "      <td>Alvorada D'Oeste</td>\n",
       "      <td>18</td>\n",
       "      <td>7</td>\n",
       "      <td>12</td>\n",
       "      <td>8</td>\n",
       "      <td>1</td>\n",
       "      <td>-</td>\n",
       "      <td>46</td>\n",
       "    </tr>\n",
       "    <tr>\n",
       "      <th>4</th>\n",
       "      <td>110002</td>\n",
       "      <td>Ariquemes</td>\n",
       "      <td>129</td>\n",
       "      <td>239</td>\n",
       "      <td>59</td>\n",
       "      <td>35</td>\n",
       "      <td>16</td>\n",
       "      <td>74</td>\n",
       "      <td>552</td>\n",
       "    </tr>\n",
       "  </tbody>\n",
       "</table>\n",
       "</div>"
      ],
      "text/plain": [
       "  codigo_municipio_sem_digito                Município  \\\n",
       "0                      110001    Alta Floresta D'Oeste   \n",
       "1                      110037  Alto Alegre dos Parecis   \n",
       "2                      110040             Alto Paraíso   \n",
       "3                      110034         Alvorada D'Oeste   \n",
       "4                      110002                Ariquemes   \n",
       "\n",
       "  Obitos Nenhuma escolaridade Obitos 1 a 3 anos escolaridade  \\\n",
       "0                          19                             20   \n",
       "1                          10                              7   \n",
       "2                          11                              6   \n",
       "3                          18                              7   \n",
       "4                         129                            239   \n",
       "\n",
       "  Obitos 4 a 7 anos escolaridade Obitos 8 a 11 anos escolaridade  \\\n",
       "0                             12                               6   \n",
       "1                              1                               1   \n",
       "2                             10                               1   \n",
       "3                             12                               8   \n",
       "4                             59                              35   \n",
       "\n",
       "  Obitos 12 anos e mais escolaridade Obitos Escolaridade Ignorada  \\\n",
       "0                                  3                           24   \n",
       "1                                  -                            7   \n",
       "2                                  1                           14   \n",
       "3                                  1                            -   \n",
       "4                                 16                           74   \n",
       "\n",
       "   Obitos Totais (com e sem escolaridade)  \n",
       "0                                      84  \n",
       "1                                      26  \n",
       "2                                      43  \n",
       "3                                      46  \n",
       "4                                     552  "
      ]
     },
     "execution_count": 12,
     "metadata": {},
     "output_type": "execute_result"
    }
   ],
   "source": [
    "obitos_ocorrenc_por_municipio_escolaridade.head(5)"
   ]
  },
  {
   "cell_type": "code",
   "execution_count": 13,
   "metadata": {},
   "outputs": [
    {
     "data": {
      "text/html": [
       "<div>\n",
       "<style scoped>\n",
       "    .dataframe tbody tr th:only-of-type {\n",
       "        vertical-align: middle;\n",
       "    }\n",
       "\n",
       "    .dataframe tbody tr th {\n",
       "        vertical-align: top;\n",
       "    }\n",
       "\n",
       "    .dataframe thead th {\n",
       "        text-align: right;\n",
       "    }\n",
       "</style>\n",
       "<table border=\"1\" class=\"dataframe\">\n",
       "  <thead>\n",
       "    <tr style=\"text-align: right;\">\n",
       "      <th></th>\n",
       "      <th>codigo_municipio_sem_digito</th>\n",
       "      <th>Município</th>\n",
       "      <th>Obitos Masc</th>\n",
       "      <th>Obitos Fem</th>\n",
       "      <th>Obitos Sexo Ignorado</th>\n",
       "      <th>Total obitos (Masc e Fem)</th>\n",
       "    </tr>\n",
       "  </thead>\n",
       "  <tbody>\n",
       "    <tr>\n",
       "      <th>0</th>\n",
       "      <td>110001</td>\n",
       "      <td>Alta Floresta D'Oeste</td>\n",
       "      <td>52</td>\n",
       "      <td>31</td>\n",
       "      <td>1</td>\n",
       "      <td>84</td>\n",
       "    </tr>\n",
       "    <tr>\n",
       "      <th>1</th>\n",
       "      <td>110037</td>\n",
       "      <td>Alto Alegre dos Parecis</td>\n",
       "      <td>17</td>\n",
       "      <td>9</td>\n",
       "      <td>-</td>\n",
       "      <td>26</td>\n",
       "    </tr>\n",
       "    <tr>\n",
       "      <th>2</th>\n",
       "      <td>110040</td>\n",
       "      <td>Alto Paraíso</td>\n",
       "      <td>35</td>\n",
       "      <td>8</td>\n",
       "      <td>-</td>\n",
       "      <td>43</td>\n",
       "    </tr>\n",
       "    <tr>\n",
       "      <th>3</th>\n",
       "      <td>110034</td>\n",
       "      <td>Alvorada D'Oeste</td>\n",
       "      <td>27</td>\n",
       "      <td>19</td>\n",
       "      <td>-</td>\n",
       "      <td>46</td>\n",
       "    </tr>\n",
       "    <tr>\n",
       "      <th>4</th>\n",
       "      <td>110002</td>\n",
       "      <td>Ariquemes</td>\n",
       "      <td>348</td>\n",
       "      <td>204</td>\n",
       "      <td>-</td>\n",
       "      <td>552</td>\n",
       "    </tr>\n",
       "  </tbody>\n",
       "</table>\n",
       "</div>"
      ],
      "text/plain": [
       "  codigo_municipio_sem_digito                Município Obitos Masc Obitos Fem  \\\n",
       "0                      110001    Alta Floresta D'Oeste          52         31   \n",
       "1                      110037  Alto Alegre dos Parecis          17          9   \n",
       "2                      110040             Alto Paraíso          35          8   \n",
       "3                      110034         Alvorada D'Oeste          27         19   \n",
       "4                      110002                Ariquemes         348        204   \n",
       "\n",
       "  Obitos Sexo Ignorado  Total obitos (Masc e Fem)  \n",
       "0                    1                         84  \n",
       "1                    -                         26  \n",
       "2                    -                         43  \n",
       "3                    -                         46  \n",
       "4                    -                        552  "
      ]
     },
     "execution_count": 13,
     "metadata": {},
     "output_type": "execute_result"
    }
   ],
   "source": [
    "obitos_ocorrenc_por_municipio_sexo.head(5)"
   ]
  },
  {
   "cell_type": "code",
   "execution_count": 156,
   "metadata": {},
   "outputs": [],
   "source": [
    "datasus = pd.merge(obitos_ocorrenc_por_municipio_escolaridade, obitos_ocorrenc_por_municipio_sexo, how = 'left', on = ['codigo_municipio_sem_digito'], suffixes=(\"\", \"_\" + str(2019)))"
   ]
  },
  {
   "cell_type": "code",
   "execution_count": 157,
   "metadata": {},
   "outputs": [
    {
     "data": {
      "text/html": [
       "<div>\n",
       "<style scoped>\n",
       "    .dataframe tbody tr th:only-of-type {\n",
       "        vertical-align: middle;\n",
       "    }\n",
       "\n",
       "    .dataframe tbody tr th {\n",
       "        vertical-align: top;\n",
       "    }\n",
       "\n",
       "    .dataframe thead th {\n",
       "        text-align: right;\n",
       "    }\n",
       "</style>\n",
       "<table border=\"1\" class=\"dataframe\">\n",
       "  <thead>\n",
       "    <tr style=\"text-align: right;\">\n",
       "      <th></th>\n",
       "      <th>codigo_municipio_sem_digito</th>\n",
       "      <th>Município</th>\n",
       "      <th>Obitos Nenhuma escolaridade</th>\n",
       "      <th>Obitos 1 a 3 anos escolaridade</th>\n",
       "      <th>Obitos 4 a 7 anos escolaridade</th>\n",
       "      <th>Obitos 8 a 11 anos escolaridade</th>\n",
       "      <th>Obitos 12 anos e mais escolaridade</th>\n",
       "      <th>Obitos Escolaridade Ignorada</th>\n",
       "      <th>Obitos Totais (com e sem escolaridade)</th>\n",
       "      <th>Município_2019</th>\n",
       "      <th>Obitos Masc</th>\n",
       "      <th>Obitos Fem</th>\n",
       "      <th>Obitos Sexo Ignorado</th>\n",
       "      <th>Total obitos (Masc e Fem)</th>\n",
       "    </tr>\n",
       "  </thead>\n",
       "  <tbody>\n",
       "    <tr>\n",
       "      <th>0</th>\n",
       "      <td>110001</td>\n",
       "      <td>Alta Floresta D'Oeste</td>\n",
       "      <td>19</td>\n",
       "      <td>20</td>\n",
       "      <td>12</td>\n",
       "      <td>6</td>\n",
       "      <td>3</td>\n",
       "      <td>24</td>\n",
       "      <td>84</td>\n",
       "      <td>Alta Floresta D'Oeste</td>\n",
       "      <td>52</td>\n",
       "      <td>31</td>\n",
       "      <td>1</td>\n",
       "      <td>84</td>\n",
       "    </tr>\n",
       "    <tr>\n",
       "      <th>1</th>\n",
       "      <td>110037</td>\n",
       "      <td>Alto Alegre dos Parecis</td>\n",
       "      <td>10</td>\n",
       "      <td>7</td>\n",
       "      <td>1</td>\n",
       "      <td>1</td>\n",
       "      <td>-</td>\n",
       "      <td>7</td>\n",
       "      <td>26</td>\n",
       "      <td>Alto Alegre dos Parecis</td>\n",
       "      <td>17</td>\n",
       "      <td>9</td>\n",
       "      <td>-</td>\n",
       "      <td>26</td>\n",
       "    </tr>\n",
       "    <tr>\n",
       "      <th>2</th>\n",
       "      <td>110040</td>\n",
       "      <td>Alto Paraíso</td>\n",
       "      <td>11</td>\n",
       "      <td>6</td>\n",
       "      <td>10</td>\n",
       "      <td>1</td>\n",
       "      <td>1</td>\n",
       "      <td>14</td>\n",
       "      <td>43</td>\n",
       "      <td>Alto Paraíso</td>\n",
       "      <td>35</td>\n",
       "      <td>8</td>\n",
       "      <td>-</td>\n",
       "      <td>43</td>\n",
       "    </tr>\n",
       "    <tr>\n",
       "      <th>3</th>\n",
       "      <td>110034</td>\n",
       "      <td>Alvorada D'Oeste</td>\n",
       "      <td>18</td>\n",
       "      <td>7</td>\n",
       "      <td>12</td>\n",
       "      <td>8</td>\n",
       "      <td>1</td>\n",
       "      <td>-</td>\n",
       "      <td>46</td>\n",
       "      <td>Alvorada D'Oeste</td>\n",
       "      <td>27</td>\n",
       "      <td>19</td>\n",
       "      <td>-</td>\n",
       "      <td>46</td>\n",
       "    </tr>\n",
       "    <tr>\n",
       "      <th>4</th>\n",
       "      <td>110002</td>\n",
       "      <td>Ariquemes</td>\n",
       "      <td>129</td>\n",
       "      <td>239</td>\n",
       "      <td>59</td>\n",
       "      <td>35</td>\n",
       "      <td>16</td>\n",
       "      <td>74</td>\n",
       "      <td>552</td>\n",
       "      <td>Ariquemes</td>\n",
       "      <td>348</td>\n",
       "      <td>204</td>\n",
       "      <td>-</td>\n",
       "      <td>552</td>\n",
       "    </tr>\n",
       "  </tbody>\n",
       "</table>\n",
       "</div>"
      ],
      "text/plain": [
       "  codigo_municipio_sem_digito                Município  \\\n",
       "0                      110001    Alta Floresta D'Oeste   \n",
       "1                      110037  Alto Alegre dos Parecis   \n",
       "2                      110040             Alto Paraíso   \n",
       "3                      110034         Alvorada D'Oeste   \n",
       "4                      110002                Ariquemes   \n",
       "\n",
       "  Obitos Nenhuma escolaridade Obitos 1 a 3 anos escolaridade  \\\n",
       "0                          19                             20   \n",
       "1                          10                              7   \n",
       "2                          11                              6   \n",
       "3                          18                              7   \n",
       "4                         129                            239   \n",
       "\n",
       "  Obitos 4 a 7 anos escolaridade Obitos 8 a 11 anos escolaridade  \\\n",
       "0                             12                               6   \n",
       "1                              1                               1   \n",
       "2                             10                               1   \n",
       "3                             12                               8   \n",
       "4                             59                              35   \n",
       "\n",
       "  Obitos 12 anos e mais escolaridade Obitos Escolaridade Ignorada  \\\n",
       "0                                  3                           24   \n",
       "1                                  -                            7   \n",
       "2                                  1                           14   \n",
       "3                                  1                            -   \n",
       "4                                 16                           74   \n",
       "\n",
       "   Obitos Totais (com e sem escolaridade)           Município_2019  \\\n",
       "0                                      84    Alta Floresta D'Oeste   \n",
       "1                                      26  Alto Alegre dos Parecis   \n",
       "2                                      43             Alto Paraíso   \n",
       "3                                      46         Alvorada D'Oeste   \n",
       "4                                     552                Ariquemes   \n",
       "\n",
       "  Obitos Masc Obitos Fem Obitos Sexo Ignorado  Total obitos (Masc e Fem)  \n",
       "0          52         31                    1                         84  \n",
       "1          17          9                    -                         26  \n",
       "2          35          8                    -                         43  \n",
       "3          27         19                    -                         46  \n",
       "4         348        204                    -                        552  "
      ]
     },
     "execution_count": 157,
     "metadata": {},
     "output_type": "execute_result"
    }
   ],
   "source": [
    "datasus.head(5)"
   ]
  },
  {
   "cell_type": "code",
   "execution_count": 158,
   "metadata": {},
   "outputs": [
    {
     "data": {
      "text/plain": [
       "(5565, 14)"
      ]
     },
     "execution_count": 158,
     "metadata": {},
     "output_type": "execute_result"
    }
   ],
   "source": [
    "datasus.shape"
   ]
  },
  {
   "cell_type": "code",
   "execution_count": 159,
   "metadata": {},
   "outputs": [],
   "source": [
    "path_save = '..\\data\\datasus_mortalidade_sexo_escolaridade_2019.csv'"
   ]
  },
  {
   "cell_type": "code",
   "execution_count": 160,
   "metadata": {},
   "outputs": [],
   "source": [
    "datasus.to_csv(path_save, index = False, encoding = 'UTF-8')"
   ]
  }
 ],
 "metadata": {
  "interpreter": {
   "hash": "1f21c29c32233928f9db6825d76d7c3c2484b8de9012b635ffd0745d1614bc15"
  },
  "kernelspec": {
   "display_name": "Python 3.10.0 64-bit",
   "language": "python",
   "name": "python3"
  },
  "language_info": {
   "codemirror_mode": {
    "name": "ipython",
    "version": 3
   },
   "file_extension": ".py",
   "mimetype": "text/x-python",
   "name": "python",
   "nbconvert_exporter": "python",
   "pygments_lexer": "ipython3",
   "version": "3.10.0"
  },
  "orig_nbformat": 4
 },
 "nbformat": 4,
 "nbformat_minor": 2
}
